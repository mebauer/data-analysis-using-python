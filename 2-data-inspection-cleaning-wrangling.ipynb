{
 "cells": [
  {
   "cell_type": "markdown",
   "metadata": {},
   "source": [
    "# Data Analysis Using Python: A Beginner’s Guide Featuring NYC Open Data  \n",
    "## Part 2: Data Inspection, Cleaning and Wrangling in Python\n",
    "\n",
    "Mark Bauer"
   ]
  },
  {
   "cell_type": "markdown",
   "metadata": {},
   "source": [
    "Table of Contents\n",
    "=================\n",
    "\n",
    "   Getting Started\n",
    "          \n",
    "   1. Importing Libraries \n",
    "   2. Reading In Data as a pandas Dataframe      \n",
    "   3. Data Inspection\n",
    "       * 3.1 Previewing Data\n",
    "       * 3.2 Calculating Summary Statistics\n",
    "       * 3.3 Identifying Null Values \n",
    "   4. Data Cleaning & Wrangling\n",
    "       * 4.1 Previewing Column Values\n",
    "       * 4.2 Exploring Distribution of Values\n",
    "       * 4.3 Making a Box Plot\n",
    "       * 4.4 Calculating Interquartile Range (IQR)\n",
    "       * 4.5 Dropping Null Values\n",
    "       * 4.6 Replacing Null Values   \n",
    "   5. Analysis\n",
    "       * 5.1. Lineplot of Year Built\n",
    "       * 5.2. Attempting to Identify the Oldest Building in NYC   \n",
    "   6. Conclusion"
   ]
  },
  {
   "cell_type": "markdown",
   "metadata": {},
   "source": [
    "**Goal:** In this notebook, we will review various ways to to inspect, clean, wrangle, and detect outliers in your data.\n",
    "\n",
    "**Main Library:** [pandas](https://pandas.pydata.org/) is a fast, powerful, flexible and easy to use open source data analysis and manipulation tool, built on top of the Python programming language."
   ]
  },
  {
   "cell_type": "markdown",
   "metadata": {},
   "source": [
    "# Getting Started: Accessing the Building Footprints Dataset"
   ]
  },
  {
   "cell_type": "markdown",
   "metadata": {},
   "source": [
    "## Reading in data as CSV in static form\n",
    "\n",
    "Copy this link address shown below:"
   ]
  },
  {
   "cell_type": "markdown",
   "metadata": {},
   "source": [
    "![building_footprints_csv](images/building-footprints-csv.png)"
   ]
  },
  {
   "cell_type": "markdown",
   "metadata": {},
   "source": [
    "### Dataset Web Page Link: \n",
    "https://data.cityofnewyork.us/Housing-Development/Building-Footprints/nqwf-w8eh\n",
    "\n",
    "### Documentation/Metadata: \n",
    "https://github.com/CityOfNewYork/nyc-geo-metadata/blob/master/Metadata/Metadata_BuildingFootprints.md"
   ]
  },
  {
   "cell_type": "markdown",
   "metadata": {},
   "source": [
    "### Attribute Information:\n",
    "---------------------------------------------\n",
    "| Attribute | Description | Field Type | Sensitive Field (Y/N) | Notes| \n",
    "|------------ | ------------- | -------- | ----------- | ----------|\n",
    "| BASE_BBL | Borough, block, and lot number for the tax lot that the footprint is physically located within. | text | No\n",
    "| MPLUTO_BBL | Borough, block, and lot number to be used for joining the building footprints data to DCP's MapPLUTO data, which aggregates data for condominium buildings using DOF's billing BBL. For non-condominium buildings the billing BBL is the same as the BASE_BBL. For condominium buildings the billing BBL may be the same for multiple buildings on different physical tax lots if they are part of the same billing unit for DOF purposes. | text | No\n",
    "| BIN | Building Identification Number. A number assigned by City Planning and used by Dept. of Buildings to reference information pertaining to an individual building. The first digit is a borough code (1 = Manhattan, 2 = The Bronx, 3 = Brooklyn, 4 = Queens, 5 = Staten Island). The remaining 6 digits are unique for buildings within that borough. In some cases where these 6 digits are all zeros (e.g. 1000000, 2000000, etc.) the BIN is unassigned or unknown. | double | No\n",
    "| NAME | Building name (limited to commonly known names). This field has not been actively maintained since the original creation of this dataset. | text | No\n",
    "| LSTMODDATE | Feature last modified date | date | No\n",
    "| LSTSTATTYPE | Feature last status type (Demolition, Alteration, Geometry, Initialization, Correction, Marked for Construction, Marked For Demolition, Constructed) | text | No\n",
    "| CNSTRCT_YR | The year construction of the building was completed. <br>Originally this column was populated using the Department of Finance Real Property Assessment Database (RPAD). Beginning in 2017 this will be the first year the completed structure is visible in available orthoimagery. Records where this is zero or NULL mean that this information was not available. | double | No\n",
    "| DOITT_ID | Unique identifier assigned by DOITT.  | double | No\n",
    "| HEIGHTROOF | Building Height is calculated as the difference from the building elevation from the Elevation point feature class and the elevation in the interpolated TIN model. This is the height of the roof above the ground elevation, NOT its height above sea level. Records where this is zero or NULL mean that this information was not available. | double | No | The units of measurement are based on the coordinate reference system used, which for all Planimetrics is New York State Plane Coordinates, Long Island East Zone, NAD83, US foot. All measurements in the attribute tables are in US foot. The building height information is updated through our planimetric updates every 4 years. In between those 4-year update cycles, DoITT manually updates building height information from a variety of sources -- (1) Final as-built heights as shown in plan drawings posted on Department of Buildings BIS website (2) EagleView Oblique imagery, direct measurements taken on photogrammetrically controlled aerial imagery (3) Cyclomedia imagery, direct measurements were taken on photogrammetrically controlled terrestrial imagery (for buildings less than 60’ tall, only)\n",
    "| FEAT_CODE | Type of Building. List of values:<br>2100 = Building<br>5100 = Building Under Construction<br>5110 = Garage<br>2110 = Skybridge<br>1001 = Gas Station Canopy<br>1002 = Storage Tank<br>1003 = Placeholder (triangle for permitted bldg)<br>1004 = Auxiliary Structure (non-addressable, not garage)<br>1005 = Temporary Structure (e.g. construction trailer) | long | No\n",
    "| GROUNDELEV | Lowest Elevation at the building ground level. Calculated from LiDAR or photogrammetrically. | double | No | The units of measurement are based on the coordinate reference system used, which for all Planimetrics is New York State Plane Coordinates, Long Island East Zone, NAD83, US foot. All measurements in the attribute tables are in US foot.\n",
    "| GEOM_SOURCE | Indicates the reference source used to add or update the feature. Photogrammetric means the feature was added or updated using photogrammetric stereo-compilation methodology. This is the most accurate update method and should conform to the ASPRS accuracy standards. Other (Manual) means the feature was added or updated by heads-up digitizing from orthophotos or approximated from a plan drawing. These features will be generally be less accurate and may not conform to the ASPRS accuracy standards. | text | No"
   ]
  },
  {
   "cell_type": "markdown",
   "metadata": {},
   "source": [
    "# 1. Importing Libraries"
   ]
  },
  {
   "cell_type": "code",
   "execution_count": 1,
   "metadata": {},
   "outputs": [],
   "source": [
    "# importing libraries\n",
    "import pandas as pd\n",
    "import numpy as np\n",
    "import matplotlib.pyplot as plt\n",
    "import matplotlib\n",
    "from matplotlib.ticker import FuncFormatter\n",
    "import seaborn as sns\n",
    "\n",
    "# to plot matplotlib figures inline on the notebook\n",
    "%matplotlib inline"
   ]
  },
  {
   "cell_type": "code",
   "execution_count": 2,
   "metadata": {},
   "outputs": [
    {
     "name": "stdout",
     "output_type": "stream",
     "text": [
      "Python implementation: CPython\n",
      "Python version       : 3.8.13\n",
      "IPython version      : 8.4.0\n",
      "\n",
      "numpy     : 1.23.1\n",
      "pandas    : 1.4.3\n",
      "matplotlib: 3.5.2\n",
      "seaborn   : 0.11.2\n",
      "\n"
     ]
    }
   ],
   "source": [
    "# printing verions of Python modules and packages with **watermark** \n",
    "# documention for installing watermark: https://github.com/rasbt/watermark\n",
    "\n",
    "%load_ext watermark\n",
    "%watermark -v -p numpy,pandas,matplotlib,seaborn"
   ]
  },
  {
   "cell_type": "markdown",
   "metadata": {},
   "source": [
    "# 2. Reading in Data as a pandas Dataframe"
   ]
  },
  {
   "cell_type": "markdown",
   "metadata": {},
   "source": [
    "If you receive `HTTPError: HTTP Error 404: Not Found`, you need to replace the CSV link. The path might have been updated."
   ]
  },
  {
   "cell_type": "code",
   "execution_count": 3,
   "metadata": {},
   "outputs": [
    {
     "data": {
      "text/html": [
       "<div>\n",
       "<style scoped>\n",
       "    .dataframe tbody tr th:only-of-type {\n",
       "        vertical-align: middle;\n",
       "    }\n",
       "\n",
       "    .dataframe tbody tr th {\n",
       "        vertical-align: top;\n",
       "    }\n",
       "\n",
       "    .dataframe thead th {\n",
       "        text-align: right;\n",
       "    }\n",
       "</style>\n",
       "<table border=\"1\" class=\"dataframe\">\n",
       "  <thead>\n",
       "    <tr style=\"text-align: right;\">\n",
       "      <th></th>\n",
       "      <th>the_geom</th>\n",
       "      <th>NAME</th>\n",
       "      <th>BIN</th>\n",
       "      <th>CNSTRCT_YR</th>\n",
       "      <th>LSTMODDATE</th>\n",
       "      <th>LSTSTATYPE</th>\n",
       "      <th>DOITT_ID</th>\n",
       "      <th>HEIGHTROOF</th>\n",
       "      <th>FEAT_CODE</th>\n",
       "      <th>GROUNDELEV</th>\n",
       "      <th>SHAPE_AREA</th>\n",
       "      <th>SHAPE_LEN</th>\n",
       "      <th>BASE_BBL</th>\n",
       "      <th>MPLUTO_BBL</th>\n",
       "      <th>GEOMSOURCE</th>\n",
       "      <th>GLOBALID</th>\n",
       "    </tr>\n",
       "  </thead>\n",
       "  <tbody>\n",
       "    <tr>\n",
       "      <th>0</th>\n",
       "      <td>MULTIPOLYGON (((-73.96664570466969 40.62599676...</td>\n",
       "      <td>NaN</td>\n",
       "      <td>3170958</td>\n",
       "      <td>1925.0</td>\n",
       "      <td>08/22/2017 12:00:00 AM</td>\n",
       "      <td>Constructed</td>\n",
       "      <td>96807</td>\n",
       "      <td>29.749853</td>\n",
       "      <td>2100</td>\n",
       "      <td>40.0</td>\n",
       "      <td>0</td>\n",
       "      <td>0</td>\n",
       "      <td>3065220021</td>\n",
       "      <td>3065220021</td>\n",
       "      <td>Photogramm</td>\n",
       "      <td>{31298F86-3088-4F53-B3DB-71A9EFA6FA1F}</td>\n",
       "    </tr>\n",
       "    <tr>\n",
       "      <th>1</th>\n",
       "      <td>MULTIPOLYGON (((-74.16790202462265 40.63936048...</td>\n",
       "      <td>NaN</td>\n",
       "      <td>5028452</td>\n",
       "      <td>1965.0</td>\n",
       "      <td>08/22/2017 12:00:00 AM</td>\n",
       "      <td>Constructed</td>\n",
       "      <td>326368</td>\n",
       "      <td>22.630000</td>\n",
       "      <td>2100</td>\n",
       "      <td>39.0</td>\n",
       "      <td>0</td>\n",
       "      <td>0</td>\n",
       "      <td>5012640036</td>\n",
       "      <td>5012640036</td>\n",
       "      <td>Photogramm</td>\n",
       "      <td>{F5F8CDA5-69E2-46F8-8F69-BA95C025B520}</td>\n",
       "    </tr>\n",
       "    <tr>\n",
       "      <th>2</th>\n",
       "      <td>MULTIPOLYGON (((-74.19510813278613 40.55610681...</td>\n",
       "      <td>NaN</td>\n",
       "      <td>5078368</td>\n",
       "      <td>1970.0</td>\n",
       "      <td>08/22/2017 12:00:00 AM</td>\n",
       "      <td>Constructed</td>\n",
       "      <td>746627</td>\n",
       "      <td>35.760000</td>\n",
       "      <td>2100</td>\n",
       "      <td>51.0</td>\n",
       "      <td>0</td>\n",
       "      <td>0</td>\n",
       "      <td>5060190091</td>\n",
       "      <td>5060190091</td>\n",
       "      <td>Photogramm</td>\n",
       "      <td>{9F644794-F72C-4582-9E5E-B337E2B97068}</td>\n",
       "    </tr>\n",
       "    <tr>\n",
       "      <th>3</th>\n",
       "      <td>MULTIPOLYGON (((-73.96113466505085 40.57743931...</td>\n",
       "      <td>NaN</td>\n",
       "      <td>3245111</td>\n",
       "      <td>1928.0</td>\n",
       "      <td>08/22/2017 12:00:00 AM</td>\n",
       "      <td>Constructed</td>\n",
       "      <td>786626</td>\n",
       "      <td>37.500000</td>\n",
       "      <td>2100</td>\n",
       "      <td>6.0</td>\n",
       "      <td>0</td>\n",
       "      <td>0</td>\n",
       "      <td>3086910048</td>\n",
       "      <td>3086910048</td>\n",
       "      <td>Photogramm</td>\n",
       "      <td>{F916B22D-E25B-44AE-9FA9-2A51191B9CDF}</td>\n",
       "    </tr>\n",
       "    <tr>\n",
       "      <th>4</th>\n",
       "      <td>MULTIPOLYGON (((-73.75421559146166 40.75591276...</td>\n",
       "      <td>NaN</td>\n",
       "      <td>4161096</td>\n",
       "      <td>1950.0</td>\n",
       "      <td>08/22/2017 12:00:00 AM</td>\n",
       "      <td>Constructed</td>\n",
       "      <td>746409</td>\n",
       "      <td>18.015113</td>\n",
       "      <td>2100</td>\n",
       "      <td>93.0</td>\n",
       "      <td>0</td>\n",
       "      <td>0</td>\n",
       "      <td>4075020005</td>\n",
       "      <td>4075020005</td>\n",
       "      <td>Photogramm</td>\n",
       "      <td>{525F2C24-616B-4F29-98A3-8FEA5D4B1A7D}</td>\n",
       "    </tr>\n",
       "  </tbody>\n",
       "</table>\n",
       "</div>"
      ],
      "text/plain": [
       "                                            the_geom NAME      BIN  \\\n",
       "0  MULTIPOLYGON (((-73.96664570466969 40.62599676...  NaN  3170958   \n",
       "1  MULTIPOLYGON (((-74.16790202462265 40.63936048...  NaN  5028452   \n",
       "2  MULTIPOLYGON (((-74.19510813278613 40.55610681...  NaN  5078368   \n",
       "3  MULTIPOLYGON (((-73.96113466505085 40.57743931...  NaN  3245111   \n",
       "4  MULTIPOLYGON (((-73.75421559146166 40.75591276...  NaN  4161096   \n",
       "\n",
       "   CNSTRCT_YR              LSTMODDATE   LSTSTATYPE  DOITT_ID  HEIGHTROOF  \\\n",
       "0      1925.0  08/22/2017 12:00:00 AM  Constructed     96807   29.749853   \n",
       "1      1965.0  08/22/2017 12:00:00 AM  Constructed    326368   22.630000   \n",
       "2      1970.0  08/22/2017 12:00:00 AM  Constructed    746627   35.760000   \n",
       "3      1928.0  08/22/2017 12:00:00 AM  Constructed    786626   37.500000   \n",
       "4      1950.0  08/22/2017 12:00:00 AM  Constructed    746409   18.015113   \n",
       "\n",
       "   FEAT_CODE  GROUNDELEV  SHAPE_AREA  SHAPE_LEN    BASE_BBL  MPLUTO_BBL  \\\n",
       "0       2100        40.0           0          0  3065220021  3065220021   \n",
       "1       2100        39.0           0          0  5012640036  5012640036   \n",
       "2       2100        51.0           0          0  5060190091  5060190091   \n",
       "3       2100         6.0           0          0  3086910048  3086910048   \n",
       "4       2100        93.0           0          0  4075020005  4075020005   \n",
       "\n",
       "   GEOMSOURCE                                GLOBALID  \n",
       "0  Photogramm  {31298F86-3088-4F53-B3DB-71A9EFA6FA1F}  \n",
       "1  Photogramm  {F5F8CDA5-69E2-46F8-8F69-BA95C025B520}  \n",
       "2  Photogramm  {9F644794-F72C-4582-9E5E-B337E2B97068}  \n",
       "3  Photogramm  {F916B22D-E25B-44AE-9FA9-2A51191B9CDF}  \n",
       "4  Photogramm  {525F2C24-616B-4F29-98A3-8FEA5D4B1A7D}  "
      ]
     },
     "execution_count": 3,
     "metadata": {},
     "output_type": "execute_result"
    }
   ],
   "source": [
    "# reading in our data as a pandas dataframe called building_df\n",
    "path = 'https://data.cityofnewyork.us/api/views/qb5r-6dgf/rows.csv?accessType=DOWNLOAD'\n",
    "building_df = pd.read_csv(path)\n",
    "\n",
    "# preview the data\n",
    "building_df.head()"
   ]
  },
  {
   "cell_type": "markdown",
   "metadata": {},
   "source": [
    "# 3. Data Inspection"
   ]
  },
  {
   "cell_type": "markdown",
   "metadata": {},
   "source": [
    "## 3.1 Previewing Data"
   ]
  },
  {
   "cell_type": "code",
   "execution_count": 4,
   "metadata": {},
   "outputs": [
    {
     "data": {
      "text/html": [
       "<div>\n",
       "<style scoped>\n",
       "    .dataframe tbody tr th:only-of-type {\n",
       "        vertical-align: middle;\n",
       "    }\n",
       "\n",
       "    .dataframe tbody tr th {\n",
       "        vertical-align: top;\n",
       "    }\n",
       "\n",
       "    .dataframe thead th {\n",
       "        text-align: right;\n",
       "    }\n",
       "</style>\n",
       "<table border=\"1\" class=\"dataframe\">\n",
       "  <thead>\n",
       "    <tr style=\"text-align: right;\">\n",
       "      <th></th>\n",
       "      <th>the_geom</th>\n",
       "      <th>NAME</th>\n",
       "      <th>BIN</th>\n",
       "      <th>CNSTRCT_YR</th>\n",
       "      <th>LSTMODDATE</th>\n",
       "      <th>LSTSTATYPE</th>\n",
       "      <th>DOITT_ID</th>\n",
       "      <th>HEIGHTROOF</th>\n",
       "      <th>FEAT_CODE</th>\n",
       "      <th>GROUNDELEV</th>\n",
       "      <th>SHAPE_AREA</th>\n",
       "      <th>SHAPE_LEN</th>\n",
       "      <th>BASE_BBL</th>\n",
       "      <th>MPLUTO_BBL</th>\n",
       "      <th>GEOMSOURCE</th>\n",
       "      <th>GLOBALID</th>\n",
       "    </tr>\n",
       "  </thead>\n",
       "  <tbody>\n",
       "    <tr>\n",
       "      <th>0</th>\n",
       "      <td>MULTIPOLYGON (((-73.96664570466969 40.62599676...</td>\n",
       "      <td>NaN</td>\n",
       "      <td>3170958</td>\n",
       "      <td>1925.0</td>\n",
       "      <td>08/22/2017 12:00:00 AM</td>\n",
       "      <td>Constructed</td>\n",
       "      <td>96807</td>\n",
       "      <td>29.749853</td>\n",
       "      <td>2100</td>\n",
       "      <td>40.0</td>\n",
       "      <td>0</td>\n",
       "      <td>0</td>\n",
       "      <td>3065220021</td>\n",
       "      <td>3065220021</td>\n",
       "      <td>Photogramm</td>\n",
       "      <td>{31298F86-3088-4F53-B3DB-71A9EFA6FA1F}</td>\n",
       "    </tr>\n",
       "    <tr>\n",
       "      <th>1</th>\n",
       "      <td>MULTIPOLYGON (((-74.16790202462265 40.63936048...</td>\n",
       "      <td>NaN</td>\n",
       "      <td>5028452</td>\n",
       "      <td>1965.0</td>\n",
       "      <td>08/22/2017 12:00:00 AM</td>\n",
       "      <td>Constructed</td>\n",
       "      <td>326368</td>\n",
       "      <td>22.630000</td>\n",
       "      <td>2100</td>\n",
       "      <td>39.0</td>\n",
       "      <td>0</td>\n",
       "      <td>0</td>\n",
       "      <td>5012640036</td>\n",
       "      <td>5012640036</td>\n",
       "      <td>Photogramm</td>\n",
       "      <td>{F5F8CDA5-69E2-46F8-8F69-BA95C025B520}</td>\n",
       "    </tr>\n",
       "    <tr>\n",
       "      <th>2</th>\n",
       "      <td>MULTIPOLYGON (((-74.19510813278613 40.55610681...</td>\n",
       "      <td>NaN</td>\n",
       "      <td>5078368</td>\n",
       "      <td>1970.0</td>\n",
       "      <td>08/22/2017 12:00:00 AM</td>\n",
       "      <td>Constructed</td>\n",
       "      <td>746627</td>\n",
       "      <td>35.760000</td>\n",
       "      <td>2100</td>\n",
       "      <td>51.0</td>\n",
       "      <td>0</td>\n",
       "      <td>0</td>\n",
       "      <td>5060190091</td>\n",
       "      <td>5060190091</td>\n",
       "      <td>Photogramm</td>\n",
       "      <td>{9F644794-F72C-4582-9E5E-B337E2B97068}</td>\n",
       "    </tr>\n",
       "    <tr>\n",
       "      <th>3</th>\n",
       "      <td>MULTIPOLYGON (((-73.96113466505085 40.57743931...</td>\n",
       "      <td>NaN</td>\n",
       "      <td>3245111</td>\n",
       "      <td>1928.0</td>\n",
       "      <td>08/22/2017 12:00:00 AM</td>\n",
       "      <td>Constructed</td>\n",
       "      <td>786626</td>\n",
       "      <td>37.500000</td>\n",
       "      <td>2100</td>\n",
       "      <td>6.0</td>\n",
       "      <td>0</td>\n",
       "      <td>0</td>\n",
       "      <td>3086910048</td>\n",
       "      <td>3086910048</td>\n",
       "      <td>Photogramm</td>\n",
       "      <td>{F916B22D-E25B-44AE-9FA9-2A51191B9CDF}</td>\n",
       "    </tr>\n",
       "    <tr>\n",
       "      <th>4</th>\n",
       "      <td>MULTIPOLYGON (((-73.75421559146166 40.75591276...</td>\n",
       "      <td>NaN</td>\n",
       "      <td>4161096</td>\n",
       "      <td>1950.0</td>\n",
       "      <td>08/22/2017 12:00:00 AM</td>\n",
       "      <td>Constructed</td>\n",
       "      <td>746409</td>\n",
       "      <td>18.015113</td>\n",
       "      <td>2100</td>\n",
       "      <td>93.0</td>\n",
       "      <td>0</td>\n",
       "      <td>0</td>\n",
       "      <td>4075020005</td>\n",
       "      <td>4075020005</td>\n",
       "      <td>Photogramm</td>\n",
       "      <td>{525F2C24-616B-4F29-98A3-8FEA5D4B1A7D}</td>\n",
       "    </tr>\n",
       "  </tbody>\n",
       "</table>\n",
       "</div>"
      ],
      "text/plain": [
       "                                            the_geom NAME      BIN  \\\n",
       "0  MULTIPOLYGON (((-73.96664570466969 40.62599676...  NaN  3170958   \n",
       "1  MULTIPOLYGON (((-74.16790202462265 40.63936048...  NaN  5028452   \n",
       "2  MULTIPOLYGON (((-74.19510813278613 40.55610681...  NaN  5078368   \n",
       "3  MULTIPOLYGON (((-73.96113466505085 40.57743931...  NaN  3245111   \n",
       "4  MULTIPOLYGON (((-73.75421559146166 40.75591276...  NaN  4161096   \n",
       "\n",
       "   CNSTRCT_YR              LSTMODDATE   LSTSTATYPE  DOITT_ID  HEIGHTROOF  \\\n",
       "0      1925.0  08/22/2017 12:00:00 AM  Constructed     96807   29.749853   \n",
       "1      1965.0  08/22/2017 12:00:00 AM  Constructed    326368   22.630000   \n",
       "2      1970.0  08/22/2017 12:00:00 AM  Constructed    746627   35.760000   \n",
       "3      1928.0  08/22/2017 12:00:00 AM  Constructed    786626   37.500000   \n",
       "4      1950.0  08/22/2017 12:00:00 AM  Constructed    746409   18.015113   \n",
       "\n",
       "   FEAT_CODE  GROUNDELEV  SHAPE_AREA  SHAPE_LEN    BASE_BBL  MPLUTO_BBL  \\\n",
       "0       2100        40.0           0          0  3065220021  3065220021   \n",
       "1       2100        39.0           0          0  5012640036  5012640036   \n",
       "2       2100        51.0           0          0  5060190091  5060190091   \n",
       "3       2100         6.0           0          0  3086910048  3086910048   \n",
       "4       2100        93.0           0          0  4075020005  4075020005   \n",
       "\n",
       "   GEOMSOURCE                                GLOBALID  \n",
       "0  Photogramm  {31298F86-3088-4F53-B3DB-71A9EFA6FA1F}  \n",
       "1  Photogramm  {F5F8CDA5-69E2-46F8-8F69-BA95C025B520}  \n",
       "2  Photogramm  {9F644794-F72C-4582-9E5E-B337E2B97068}  \n",
       "3  Photogramm  {F916B22D-E25B-44AE-9FA9-2A51191B9CDF}  \n",
       "4  Photogramm  {525F2C24-616B-4F29-98A3-8FEA5D4B1A7D}  "
      ]
     },
     "execution_count": 4,
     "metadata": {},
     "output_type": "execute_result"
    }
   ],
   "source": [
    "# previewing the first five rows\n",
    "building_df.head()"
   ]
  },
  {
   "cell_type": "code",
   "execution_count": 5,
   "metadata": {},
   "outputs": [
    {
     "data": {
      "text/html": [
       "<div>\n",
       "<style scoped>\n",
       "    .dataframe tbody tr th:only-of-type {\n",
       "        vertical-align: middle;\n",
       "    }\n",
       "\n",
       "    .dataframe tbody tr th {\n",
       "        vertical-align: top;\n",
       "    }\n",
       "\n",
       "    .dataframe thead th {\n",
       "        text-align: right;\n",
       "    }\n",
       "</style>\n",
       "<table border=\"1\" class=\"dataframe\">\n",
       "  <thead>\n",
       "    <tr style=\"text-align: right;\">\n",
       "      <th></th>\n",
       "      <th>the_geom</th>\n",
       "      <th>NAME</th>\n",
       "      <th>BIN</th>\n",
       "      <th>CNSTRCT_YR</th>\n",
       "      <th>LSTMODDATE</th>\n",
       "      <th>LSTSTATYPE</th>\n",
       "      <th>DOITT_ID</th>\n",
       "      <th>HEIGHTROOF</th>\n",
       "      <th>FEAT_CODE</th>\n",
       "      <th>GROUNDELEV</th>\n",
       "      <th>SHAPE_AREA</th>\n",
       "      <th>SHAPE_LEN</th>\n",
       "      <th>BASE_BBL</th>\n",
       "      <th>MPLUTO_BBL</th>\n",
       "      <th>GEOMSOURCE</th>\n",
       "      <th>GLOBALID</th>\n",
       "    </tr>\n",
       "  </thead>\n",
       "  <tbody>\n",
       "    <tr>\n",
       "      <th>1083342</th>\n",
       "      <td>MULTIPOLYGON (((-73.75612604606732 40.74547031...</td>\n",
       "      <td>NaN</td>\n",
       "      <td>4451730</td>\n",
       "      <td>1980.0</td>\n",
       "      <td>08/22/2017 12:00:00 AM</td>\n",
       "      <td>Constructed</td>\n",
       "      <td>296444</td>\n",
       "      <td>28.000000</td>\n",
       "      <td>2100</td>\n",
       "      <td>103.0</td>\n",
       "      <td>0</td>\n",
       "      <td>0</td>\n",
       "      <td>4076210001</td>\n",
       "      <td>4076210001</td>\n",
       "      <td>Other (Man</td>\n",
       "      <td>{D12F068F-17A2-4C50-AA45-FCF3822F3E3C}</td>\n",
       "    </tr>\n",
       "    <tr>\n",
       "      <th>1083343</th>\n",
       "      <td>MULTIPOLYGON (((-73.83440749536311 40.75742362...</td>\n",
       "      <td>NaN</td>\n",
       "      <td>4540380</td>\n",
       "      <td>2006.0</td>\n",
       "      <td>04/11/2019 12:00:00 AM</td>\n",
       "      <td>Constructed</td>\n",
       "      <td>1114668</td>\n",
       "      <td>185.779728</td>\n",
       "      <td>2100</td>\n",
       "      <td>22.0</td>\n",
       "      <td>0</td>\n",
       "      <td>0</td>\n",
       "      <td>4050660001</td>\n",
       "      <td>4050660001</td>\n",
       "      <td>Photogramm</td>\n",
       "      <td>{E549C8DC-0457-43CB-88F6-136472CE6946}</td>\n",
       "    </tr>\n",
       "    <tr>\n",
       "      <th>1083344</th>\n",
       "      <td>MULTIPOLYGON (((-74.0000149828318 40.688200830...</td>\n",
       "      <td>NaN</td>\n",
       "      <td>3394115</td>\n",
       "      <td>2009.0</td>\n",
       "      <td>08/22/2017 12:00:00 AM</td>\n",
       "      <td>Constructed</td>\n",
       "      <td>1114346</td>\n",
       "      <td>81.127098</td>\n",
       "      <td>2100</td>\n",
       "      <td>17.0</td>\n",
       "      <td>0</td>\n",
       "      <td>0</td>\n",
       "      <td>3003040018</td>\n",
       "      <td>3003040018</td>\n",
       "      <td>Photogramm</td>\n",
       "      <td>{A200FA56-7C7C-42F7-AA99-2C9DD5BF9EF6}</td>\n",
       "    </tr>\n",
       "    <tr>\n",
       "      <th>1083345</th>\n",
       "      <td>MULTIPOLYGON (((-73.75575981238948 40.74634860...</td>\n",
       "      <td>NaN</td>\n",
       "      <td>4446731</td>\n",
       "      <td>1980.0</td>\n",
       "      <td>08/22/2017 12:00:00 AM</td>\n",
       "      <td>Constructed</td>\n",
       "      <td>471119</td>\n",
       "      <td>28.000000</td>\n",
       "      <td>2100</td>\n",
       "      <td>101.0</td>\n",
       "      <td>0</td>\n",
       "      <td>0</td>\n",
       "      <td>4076210001</td>\n",
       "      <td>4076210001</td>\n",
       "      <td>Other (Man</td>\n",
       "      <td>{943AE915-DA7C-4B6D-A082-32BB35961261}</td>\n",
       "    </tr>\n",
       "    <tr>\n",
       "      <th>1083346</th>\n",
       "      <td>MULTIPOLYGON (((-73.7563415969857 40.746859582...</td>\n",
       "      <td>NaN</td>\n",
       "      <td>4451963</td>\n",
       "      <td>1980.0</td>\n",
       "      <td>08/22/2017 12:00:00 AM</td>\n",
       "      <td>Constructed</td>\n",
       "      <td>19653</td>\n",
       "      <td>28.000000</td>\n",
       "      <td>2100</td>\n",
       "      <td>96.0</td>\n",
       "      <td>0</td>\n",
       "      <td>0</td>\n",
       "      <td>4076210001</td>\n",
       "      <td>4076210001</td>\n",
       "      <td>Other (Man</td>\n",
       "      <td>{BF9FB2DD-DFF3-4172-B3B2-7B5852B306AF}</td>\n",
       "    </tr>\n",
       "  </tbody>\n",
       "</table>\n",
       "</div>"
      ],
      "text/plain": [
       "                                                  the_geom NAME      BIN  \\\n",
       "1083342  MULTIPOLYGON (((-73.75612604606732 40.74547031...  NaN  4451730   \n",
       "1083343  MULTIPOLYGON (((-73.83440749536311 40.75742362...  NaN  4540380   \n",
       "1083344  MULTIPOLYGON (((-74.0000149828318 40.688200830...  NaN  3394115   \n",
       "1083345  MULTIPOLYGON (((-73.75575981238948 40.74634860...  NaN  4446731   \n",
       "1083346  MULTIPOLYGON (((-73.7563415969857 40.746859582...  NaN  4451963   \n",
       "\n",
       "         CNSTRCT_YR              LSTMODDATE   LSTSTATYPE  DOITT_ID  \\\n",
       "1083342      1980.0  08/22/2017 12:00:00 AM  Constructed    296444   \n",
       "1083343      2006.0  04/11/2019 12:00:00 AM  Constructed   1114668   \n",
       "1083344      2009.0  08/22/2017 12:00:00 AM  Constructed   1114346   \n",
       "1083345      1980.0  08/22/2017 12:00:00 AM  Constructed    471119   \n",
       "1083346      1980.0  08/22/2017 12:00:00 AM  Constructed     19653   \n",
       "\n",
       "         HEIGHTROOF  FEAT_CODE  GROUNDELEV  SHAPE_AREA  SHAPE_LEN    BASE_BBL  \\\n",
       "1083342   28.000000       2100       103.0           0          0  4076210001   \n",
       "1083343  185.779728       2100        22.0           0          0  4050660001   \n",
       "1083344   81.127098       2100        17.0           0          0  3003040018   \n",
       "1083345   28.000000       2100       101.0           0          0  4076210001   \n",
       "1083346   28.000000       2100        96.0           0          0  4076210001   \n",
       "\n",
       "         MPLUTO_BBL  GEOMSOURCE                                GLOBALID  \n",
       "1083342  4076210001  Other (Man  {D12F068F-17A2-4C50-AA45-FCF3822F3E3C}  \n",
       "1083343  4050660001  Photogramm  {E549C8DC-0457-43CB-88F6-136472CE6946}  \n",
       "1083344  3003040018  Photogramm  {A200FA56-7C7C-42F7-AA99-2C9DD5BF9EF6}  \n",
       "1083345  4076210001  Other (Man  {943AE915-DA7C-4B6D-A082-32BB35961261}  \n",
       "1083346  4076210001  Other (Man  {BF9FB2DD-DFF3-4172-B3B2-7B5852B306AF}  "
      ]
     },
     "execution_count": 5,
     "metadata": {},
     "output_type": "execute_result"
    }
   ],
   "source": [
    "# previewing the last five rows\n",
    "building_df.tail()"
   ]
  },
  {
   "cell_type": "code",
   "execution_count": 6,
   "metadata": {},
   "outputs": [
    {
     "data": {
      "text/plain": [
       "(1083347, 16)"
      ]
     },
     "execution_count": 6,
     "metadata": {},
     "output_type": "execute_result"
    }
   ],
   "source": [
    "# printing the shape or dimensions of our dataframe (i.e. rows, columns)\n",
    "building_df.shape"
   ]
  },
  {
   "cell_type": "code",
   "execution_count": 7,
   "metadata": {},
   "outputs": [
    {
     "name": "stdout",
     "output_type": "stream",
     "text": [
      "This dataset has 1,083,347 rows and 16 columns.\n"
     ]
    }
   ],
   "source": [
    "# more readable\n",
    "rows, columns = building_df.shape\n",
    "print('This dataset has {:,} rows and {:,} columns.'.format(rows, columns))"
   ]
  },
  {
   "cell_type": "code",
   "execution_count": 8,
   "metadata": {},
   "outputs": [
    {
     "data": {
      "text/plain": [
       "pandas.core.frame.DataFrame"
      ]
     },
     "execution_count": 8,
     "metadata": {},
     "output_type": "execute_result"
    }
   ],
   "source": [
    "# the object's type\n",
    "type(building_df)"
   ]
  },
  {
   "cell_type": "code",
   "execution_count": 9,
   "metadata": {},
   "outputs": [
    {
     "data": {
      "text/plain": [
       "Index(['the_geom', 'NAME', 'BIN', 'CNSTRCT_YR', 'LSTMODDATE', 'LSTSTATYPE',\n",
       "       'DOITT_ID', 'HEIGHTROOF', 'FEAT_CODE', 'GROUNDELEV', 'SHAPE_AREA',\n",
       "       'SHAPE_LEN', 'BASE_BBL', 'MPLUTO_BBL', 'GEOMSOURCE', 'GLOBALID'],\n",
       "      dtype='object')"
      ]
     },
     "execution_count": 9,
     "metadata": {},
     "output_type": "execute_result"
    }
   ],
   "source": [
    "# printing the columns\n",
    "building_df.columns"
   ]
  },
  {
   "cell_type": "code",
   "execution_count": 10,
   "metadata": {},
   "outputs": [
    {
     "data": {
      "text/plain": [
       "the_geom       object\n",
       "NAME           object\n",
       "BIN             int64\n",
       "CNSTRCT_YR    float64\n",
       "LSTMODDATE     object\n",
       "LSTSTATYPE     object\n",
       "DOITT_ID        int64\n",
       "HEIGHTROOF    float64\n",
       "FEAT_CODE       int64\n",
       "GROUNDELEV    float64\n",
       "SHAPE_AREA      int64\n",
       "SHAPE_LEN       int64\n",
       "BASE_BBL        int64\n",
       "MPLUTO_BBL      int64\n",
       "GEOMSOURCE     object\n",
       "GLOBALID       object\n",
       "dtype: object"
      ]
     },
     "execution_count": 10,
     "metadata": {},
     "output_type": "execute_result"
    }
   ],
   "source": [
    "# printing the data types of our columns\n",
    "building_df.dtypes"
   ]
  },
  {
   "cell_type": "code",
   "execution_count": 11,
   "metadata": {},
   "outputs": [
    {
     "name": "stdout",
     "output_type": "stream",
     "text": [
      "<class 'pandas.core.frame.DataFrame'>\n",
      "RangeIndex: 1083347 entries, 0 to 1083346\n",
      "Data columns (total 16 columns):\n",
      " #   Column      Non-Null Count    Dtype  \n",
      "---  ------      --------------    -----  \n",
      " 0   the_geom    1083347 non-null  object \n",
      " 1   NAME        2254 non-null     object \n",
      " 2   BIN         1083347 non-null  int64  \n",
      " 3   CNSTRCT_YR  1072987 non-null  float64\n",
      " 4   LSTMODDATE  1083347 non-null  object \n",
      " 5   LSTSTATYPE  1083025 non-null  object \n",
      " 6   DOITT_ID    1083347 non-null  int64  \n",
      " 7   HEIGHTROOF  1080700 non-null  float64\n",
      " 8   FEAT_CODE   1083347 non-null  int64  \n",
      " 9   GROUNDELEV  1082783 non-null  float64\n",
      " 10  SHAPE_AREA  1083347 non-null  int64  \n",
      " 11  SHAPE_LEN   1083347 non-null  int64  \n",
      " 12  BASE_BBL    1083347 non-null  int64  \n",
      " 13  MPLUTO_BBL  1083347 non-null  int64  \n",
      " 14  GEOMSOURCE  1083029 non-null  object \n",
      " 15  GLOBALID    1083347 non-null  object \n",
      "dtypes: float64(3), int64(7), object(6)\n",
      "memory usage: 132.2+ MB\n"
     ]
    }
   ],
   "source": [
    "# printing the column names, non-null counts, and datatypes of our columns\n",
    "building_df.info()"
   ]
  },
  {
   "cell_type": "code",
   "execution_count": 12,
   "metadata": {},
   "outputs": [
    {
     "data": {
      "text/plain": [
       "RangeIndex(start=0, stop=1083347, step=1)"
      ]
     },
     "execution_count": 12,
     "metadata": {},
     "output_type": "execute_result"
    }
   ],
   "source": [
    "# printing index type\n",
    "building_df.index"
   ]
  },
  {
   "cell_type": "code",
   "execution_count": 13,
   "metadata": {},
   "outputs": [
    {
     "name": "stdout",
     "output_type": "stream",
     "text": [
      "our unique id is truly unique: True\n"
     ]
    }
   ],
   "source": [
    "# printing True/False if column is unique on our unique key (DOITT_ID)\n",
    "unique = building_df['DOITT_ID'].is_unique\n",
    "print('our unique id is truly unique: {}'.format(unique))"
   ]
  },
  {
   "cell_type": "markdown",
   "metadata": {},
   "source": [
    "## 3.2 Calculating Summary Statistics"
   ]
  },
  {
   "cell_type": "code",
   "execution_count": 14,
   "metadata": {
    "scrolled": true
   },
   "outputs": [
    {
     "data": {
      "text/html": [
       "<div>\n",
       "<style scoped>\n",
       "    .dataframe tbody tr th:only-of-type {\n",
       "        vertical-align: middle;\n",
       "    }\n",
       "\n",
       "    .dataframe tbody tr th {\n",
       "        vertical-align: top;\n",
       "    }\n",
       "\n",
       "    .dataframe thead th {\n",
       "        text-align: right;\n",
       "    }\n",
       "</style>\n",
       "<table border=\"1\" class=\"dataframe\">\n",
       "  <thead>\n",
       "    <tr style=\"text-align: right;\">\n",
       "      <th></th>\n",
       "      <th>BIN</th>\n",
       "      <th>CNSTRCT_YR</th>\n",
       "      <th>DOITT_ID</th>\n",
       "      <th>HEIGHTROOF</th>\n",
       "      <th>FEAT_CODE</th>\n",
       "      <th>GROUNDELEV</th>\n",
       "      <th>SHAPE_AREA</th>\n",
       "      <th>SHAPE_LEN</th>\n",
       "      <th>BASE_BBL</th>\n",
       "      <th>MPLUTO_BBL</th>\n",
       "    </tr>\n",
       "  </thead>\n",
       "  <tbody>\n",
       "    <tr>\n",
       "      <th>count</th>\n",
       "      <td>1.083347e+06</td>\n",
       "      <td>1.072987e+06</td>\n",
       "      <td>1.083347e+06</td>\n",
       "      <td>1.080700e+06</td>\n",
       "      <td>1.083347e+06</td>\n",
       "      <td>1.082783e+06</td>\n",
       "      <td>1083347.0</td>\n",
       "      <td>1083347.0</td>\n",
       "      <td>1.083347e+06</td>\n",
       "      <td>1.083347e+06</td>\n",
       "    </tr>\n",
       "    <tr>\n",
       "      <th>mean</th>\n",
       "      <td>3.712971e+06</td>\n",
       "      <td>1.939623e+03</td>\n",
       "      <td>5.948542e+05</td>\n",
       "      <td>2.769527e+01</td>\n",
       "      <td>2.693444e+03</td>\n",
       "      <td>5.512157e+01</td>\n",
       "      <td>0.0</td>\n",
       "      <td>0.0</td>\n",
       "      <td>3.564182e+09</td>\n",
       "      <td>3.564182e+09</td>\n",
       "    </tr>\n",
       "    <tr>\n",
       "      <th>std</th>\n",
       "      <td>1.026635e+06</td>\n",
       "      <td>2.946186e+01</td>\n",
       "      <td>3.621961e+05</td>\n",
       "      <td>2.176582e+01</td>\n",
       "      <td>1.198560e+03</td>\n",
       "      <td>4.154859e+01</td>\n",
       "      <td>0.0</td>\n",
       "      <td>0.0</td>\n",
       "      <td>9.858398e+08</td>\n",
       "      <td>9.858398e+08</td>\n",
       "    </tr>\n",
       "    <tr>\n",
       "      <th>min</th>\n",
       "      <td>1.000002e+06</td>\n",
       "      <td>1.652000e+03</td>\n",
       "      <td>1.000000e+00</td>\n",
       "      <td>0.000000e+00</td>\n",
       "      <td>1.000000e+03</td>\n",
       "      <td>-1.600000e+01</td>\n",
       "      <td>0.0</td>\n",
       "      <td>0.0</td>\n",
       "      <td>1.000010e+09</td>\n",
       "      <td>1.000010e+09</td>\n",
       "    </tr>\n",
       "    <tr>\n",
       "      <th>25%</th>\n",
       "      <td>3.129698e+06</td>\n",
       "      <td>1.920000e+03</td>\n",
       "      <td>2.880715e+05</td>\n",
       "      <td>1.852000e+01</td>\n",
       "      <td>2.100000e+03</td>\n",
       "      <td>2.500000e+01</td>\n",
       "      <td>0.0</td>\n",
       "      <td>0.0</td>\n",
       "      <td>3.043390e+09</td>\n",
       "      <td>3.043390e+09</td>\n",
       "    </tr>\n",
       "    <tr>\n",
       "      <th>50%</th>\n",
       "      <td>4.067896e+06</td>\n",
       "      <td>1.930000e+03</td>\n",
       "      <td>5.763400e+05</td>\n",
       "      <td>2.612286e+01</td>\n",
       "      <td>2.100000e+03</td>\n",
       "      <td>4.600000e+01</td>\n",
       "      <td>0.0</td>\n",
       "      <td>0.0</td>\n",
       "      <td>4.019560e+09</td>\n",
       "      <td>4.019560e+09</td>\n",
       "    </tr>\n",
       "    <tr>\n",
       "      <th>75%</th>\n",
       "      <td>4.483418e+06</td>\n",
       "      <td>1.955000e+03</td>\n",
       "      <td>8.664315e+05</td>\n",
       "      <td>3.113075e+01</td>\n",
       "      <td>2.100000e+03</td>\n",
       "      <td>7.400000e+01</td>\n",
       "      <td>0.0</td>\n",
       "      <td>0.0</td>\n",
       "      <td>4.107010e+09</td>\n",
       "      <td>4.107010e+09</td>\n",
       "    </tr>\n",
       "    <tr>\n",
       "      <th>max</th>\n",
       "      <td>5.799523e+06</td>\n",
       "      <td>2.024000e+03</td>\n",
       "      <td>1.301889e+06</td>\n",
       "      <td>1.550000e+03</td>\n",
       "      <td>5.110000e+03</td>\n",
       "      <td>1.335000e+03</td>\n",
       "      <td>0.0</td>\n",
       "      <td>0.0</td>\n",
       "      <td>6.000000e+09</td>\n",
       "      <td>6.000000e+09</td>\n",
       "    </tr>\n",
       "  </tbody>\n",
       "</table>\n",
       "</div>"
      ],
      "text/plain": [
       "                BIN    CNSTRCT_YR      DOITT_ID    HEIGHTROOF     FEAT_CODE  \\\n",
       "count  1.083347e+06  1.072987e+06  1.083347e+06  1.080700e+06  1.083347e+06   \n",
       "mean   3.712971e+06  1.939623e+03  5.948542e+05  2.769527e+01  2.693444e+03   \n",
       "std    1.026635e+06  2.946186e+01  3.621961e+05  2.176582e+01  1.198560e+03   \n",
       "min    1.000002e+06  1.652000e+03  1.000000e+00  0.000000e+00  1.000000e+03   \n",
       "25%    3.129698e+06  1.920000e+03  2.880715e+05  1.852000e+01  2.100000e+03   \n",
       "50%    4.067896e+06  1.930000e+03  5.763400e+05  2.612286e+01  2.100000e+03   \n",
       "75%    4.483418e+06  1.955000e+03  8.664315e+05  3.113075e+01  2.100000e+03   \n",
       "max    5.799523e+06  2.024000e+03  1.301889e+06  1.550000e+03  5.110000e+03   \n",
       "\n",
       "         GROUNDELEV  SHAPE_AREA  SHAPE_LEN      BASE_BBL    MPLUTO_BBL  \n",
       "count  1.082783e+06   1083347.0  1083347.0  1.083347e+06  1.083347e+06  \n",
       "mean   5.512157e+01         0.0        0.0  3.564182e+09  3.564182e+09  \n",
       "std    4.154859e+01         0.0        0.0  9.858398e+08  9.858398e+08  \n",
       "min   -1.600000e+01         0.0        0.0  1.000010e+09  1.000010e+09  \n",
       "25%    2.500000e+01         0.0        0.0  3.043390e+09  3.043390e+09  \n",
       "50%    4.600000e+01         0.0        0.0  4.019560e+09  4.019560e+09  \n",
       "75%    7.400000e+01         0.0        0.0  4.107010e+09  4.107010e+09  \n",
       "max    1.335000e+03         0.0        0.0  6.000000e+09  6.000000e+09  "
      ]
     },
     "execution_count": 14,
     "metadata": {},
     "output_type": "execute_result"
    }
   ],
   "source": [
    "# printing descriptive statistics of our numeric columns\n",
    "building_df.describe()"
   ]
  },
  {
   "cell_type": "code",
   "execution_count": 15,
   "metadata": {},
   "outputs": [
    {
     "data": {
      "text/html": [
       "<div>\n",
       "<style scoped>\n",
       "    .dataframe tbody tr th:only-of-type {\n",
       "        vertical-align: middle;\n",
       "    }\n",
       "\n",
       "    .dataframe tbody tr th {\n",
       "        vertical-align: top;\n",
       "    }\n",
       "\n",
       "    .dataframe thead th {\n",
       "        text-align: right;\n",
       "    }\n",
       "</style>\n",
       "<table border=\"1\" class=\"dataframe\">\n",
       "  <thead>\n",
       "    <tr style=\"text-align: right;\">\n",
       "      <th></th>\n",
       "      <th>the_geom</th>\n",
       "      <th>NAME</th>\n",
       "      <th>LSTMODDATE</th>\n",
       "      <th>LSTSTATYPE</th>\n",
       "      <th>GEOMSOURCE</th>\n",
       "      <th>GLOBALID</th>\n",
       "    </tr>\n",
       "  </thead>\n",
       "  <tbody>\n",
       "    <tr>\n",
       "      <th>count</th>\n",
       "      <td>1083347</td>\n",
       "      <td>2254</td>\n",
       "      <td>1083347</td>\n",
       "      <td>1083025</td>\n",
       "      <td>1083029</td>\n",
       "      <td>1083347</td>\n",
       "    </tr>\n",
       "    <tr>\n",
       "      <th>unique</th>\n",
       "      <td>1083347</td>\n",
       "      <td>1896</td>\n",
       "      <td>1781</td>\n",
       "      <td>13</td>\n",
       "      <td>3</td>\n",
       "      <td>1083347</td>\n",
       "    </tr>\n",
       "    <tr>\n",
       "      <th>top</th>\n",
       "      <td>MULTIPOLYGON (((-73.96664570466969 40.62599676...</td>\n",
       "      <td>Adler Place Town Houses</td>\n",
       "      <td>08/22/2017 12:00:00 AM</td>\n",
       "      <td>Constructed</td>\n",
       "      <td>Photogramm</td>\n",
       "      <td>{31298F86-3088-4F53-B3DB-71A9EFA6FA1F}</td>\n",
       "    </tr>\n",
       "    <tr>\n",
       "      <th>freq</th>\n",
       "      <td>1</td>\n",
       "      <td>52</td>\n",
       "      <td>800551</td>\n",
       "      <td>1080561</td>\n",
       "      <td>1012022</td>\n",
       "      <td>1</td>\n",
       "    </tr>\n",
       "  </tbody>\n",
       "</table>\n",
       "</div>"
      ],
      "text/plain": [
       "                                                 the_geom  \\\n",
       "count                                             1083347   \n",
       "unique                                            1083347   \n",
       "top     MULTIPOLYGON (((-73.96664570466969 40.62599676...   \n",
       "freq                                                    1   \n",
       "\n",
       "                           NAME              LSTMODDATE   LSTSTATYPE  \\\n",
       "count                      2254                 1083347      1083025   \n",
       "unique                     1896                    1781           13   \n",
       "top     Adler Place Town Houses  08/22/2017 12:00:00 AM  Constructed   \n",
       "freq                         52                  800551      1080561   \n",
       "\n",
       "        GEOMSOURCE                                GLOBALID  \n",
       "count      1083029                                 1083347  \n",
       "unique           3                                 1083347  \n",
       "top     Photogramm  {31298F86-3088-4F53-B3DB-71A9EFA6FA1F}  \n",
       "freq       1012022                                       1  "
      ]
     },
     "execution_count": 15,
     "metadata": {},
     "output_type": "execute_result"
    }
   ],
   "source": [
    "# printing descriptive statistics of our non-numeric columns\n",
    "building_df.describe(include=['O'])"
   ]
  },
  {
   "cell_type": "code",
   "execution_count": 16,
   "metadata": {},
   "outputs": [
    {
     "data": {
      "text/html": [
       "<div>\n",
       "<style scoped>\n",
       "    .dataframe tbody tr th:only-of-type {\n",
       "        vertical-align: middle;\n",
       "    }\n",
       "\n",
       "    .dataframe tbody tr th {\n",
       "        vertical-align: top;\n",
       "    }\n",
       "\n",
       "    .dataframe thead th {\n",
       "        text-align: right;\n",
       "    }\n",
       "</style>\n",
       "<table border=\"1\" class=\"dataframe\">\n",
       "  <thead>\n",
       "    <tr style=\"text-align: right;\">\n",
       "      <th></th>\n",
       "      <th>CNSTRCT_YR</th>\n",
       "    </tr>\n",
       "  </thead>\n",
       "  <tbody>\n",
       "    <tr>\n",
       "      <th>mode</th>\n",
       "      <td>1920.0</td>\n",
       "    </tr>\n",
       "  </tbody>\n",
       "</table>\n",
       "</div>"
      ],
      "text/plain": [
       "      CNSTRCT_YR\n",
       "mode      1920.0"
      ]
     },
     "execution_count": 16,
     "metadata": {},
     "output_type": "execute_result"
    }
   ],
   "source": [
    "# returning the mode of CNSTRCT_YR\n",
    "(building_df\n",
    " .loc[:, ['CNSTRCT_YR']]\n",
    " .mode(numeric_only=True)\n",
    " .rename(index={0: \"mode\"})\n",
    ")"
   ]
  },
  {
   "cell_type": "code",
   "execution_count": 17,
   "metadata": {},
   "outputs": [
    {
     "data": {
      "text/plain": [
       "Adler Place Town Houses                  52\n",
       "Cooper Place Town Houses                 38\n",
       "Broun Place Town Houses                  36\n",
       "Debs Place Town Houses                   34\n",
       "Defoe Place Town Houses                  26\n",
       "Asch Loop Town Houses                    18\n",
       "Earhart Lane Town Houses                 16\n",
       "NO NAME                                   9\n",
       "Restrooms                                 8\n",
       "Kimball Block                             6\n",
       "10                                        5\n",
       "20                                        5\n",
       "Educational Park                          5\n",
       "Park Maintenance                          4\n",
       "21                                        4\n",
       "22                                        4\n",
       "Thomas Greene Playground-Building         4\n",
       "5                                         4\n",
       "4                                         4\n",
       "Lawrence C Thompson Mem Park-Building     4\n",
       "Name: NAME, dtype: int64"
      ]
     },
     "execution_count": 17,
     "metadata": {},
     "output_type": "execute_result"
    }
   ],
   "source": [
    "# value counts of the NAME column - top 20\n",
    "(building_df['NAME']\n",
    " .value_counts()\n",
    " .head(20)\n",
    ")"
   ]
  },
  {
   "cell_type": "code",
   "execution_count": 18,
   "metadata": {},
   "outputs": [
    {
     "data": {
      "text/html": [
       "<div>\n",
       "<style scoped>\n",
       "    .dataframe tbody tr th:only-of-type {\n",
       "        vertical-align: middle;\n",
       "    }\n",
       "\n",
       "    .dataframe tbody tr th {\n",
       "        vertical-align: top;\n",
       "    }\n",
       "\n",
       "    .dataframe thead th {\n",
       "        text-align: right;\n",
       "    }\n",
       "</style>\n",
       "<table border=\"1\" class=\"dataframe\">\n",
       "  <thead>\n",
       "    <tr style=\"text-align: right;\">\n",
       "      <th></th>\n",
       "      <th>BIN</th>\n",
       "      <th>CNSTRCT_YR</th>\n",
       "      <th>DOITT_ID</th>\n",
       "      <th>HEIGHTROOF</th>\n",
       "      <th>FEAT_CODE</th>\n",
       "      <th>GROUNDELEV</th>\n",
       "      <th>SHAPE_AREA</th>\n",
       "      <th>SHAPE_LEN</th>\n",
       "      <th>BASE_BBL</th>\n",
       "      <th>MPLUTO_BBL</th>\n",
       "    </tr>\n",
       "  </thead>\n",
       "  <tbody>\n",
       "    <tr>\n",
       "      <th>BIN</th>\n",
       "      <td>1.000000</td>\n",
       "      <td>0.290921</td>\n",
       "      <td>0.156298</td>\n",
       "      <td>-0.357479</td>\n",
       "      <td>0.190892</td>\n",
       "      <td>0.086993</td>\n",
       "      <td>NaN</td>\n",
       "      <td>NaN</td>\n",
       "      <td>0.988683</td>\n",
       "      <td>0.988683</td>\n",
       "    </tr>\n",
       "    <tr>\n",
       "      <th>CNSTRCT_YR</th>\n",
       "      <td>0.290921</td>\n",
       "      <td>1.000000</td>\n",
       "      <td>0.203557</td>\n",
       "      <td>0.025437</td>\n",
       "      <td>-0.132578</td>\n",
       "      <td>-0.002913</td>\n",
       "      <td>NaN</td>\n",
       "      <td>NaN</td>\n",
       "      <td>0.284805</td>\n",
       "      <td>0.284806</td>\n",
       "    </tr>\n",
       "    <tr>\n",
       "      <th>DOITT_ID</th>\n",
       "      <td>0.156298</td>\n",
       "      <td>0.203557</td>\n",
       "      <td>1.000000</td>\n",
       "      <td>-0.160192</td>\n",
       "      <td>0.539663</td>\n",
       "      <td>-0.016972</td>\n",
       "      <td>NaN</td>\n",
       "      <td>NaN</td>\n",
       "      <td>0.075930</td>\n",
       "      <td>0.075930</td>\n",
       "    </tr>\n",
       "    <tr>\n",
       "      <th>HEIGHTROOF</th>\n",
       "      <td>-0.357479</td>\n",
       "      <td>0.025437</td>\n",
       "      <td>-0.160192</td>\n",
       "      <td>1.000000</td>\n",
       "      <td>-0.363283</td>\n",
       "      <td>-0.002517</td>\n",
       "      <td>NaN</td>\n",
       "      <td>NaN</td>\n",
       "      <td>-0.328044</td>\n",
       "      <td>-0.328044</td>\n",
       "    </tr>\n",
       "    <tr>\n",
       "      <th>FEAT_CODE</th>\n",
       "      <td>0.190892</td>\n",
       "      <td>-0.132578</td>\n",
       "      <td>0.539663</td>\n",
       "      <td>-0.363283</td>\n",
       "      <td>1.000000</td>\n",
       "      <td>0.001660</td>\n",
       "      <td>NaN</td>\n",
       "      <td>NaN</td>\n",
       "      <td>0.090359</td>\n",
       "      <td>0.090359</td>\n",
       "    </tr>\n",
       "    <tr>\n",
       "      <th>GROUNDELEV</th>\n",
       "      <td>0.086993</td>\n",
       "      <td>-0.002913</td>\n",
       "      <td>-0.016972</td>\n",
       "      <td>-0.002517</td>\n",
       "      <td>0.001660</td>\n",
       "      <td>1.000000</td>\n",
       "      <td>NaN</td>\n",
       "      <td>NaN</td>\n",
       "      <td>0.106117</td>\n",
       "      <td>0.106117</td>\n",
       "    </tr>\n",
       "    <tr>\n",
       "      <th>SHAPE_AREA</th>\n",
       "      <td>NaN</td>\n",
       "      <td>NaN</td>\n",
       "      <td>NaN</td>\n",
       "      <td>NaN</td>\n",
       "      <td>NaN</td>\n",
       "      <td>NaN</td>\n",
       "      <td>NaN</td>\n",
       "      <td>NaN</td>\n",
       "      <td>NaN</td>\n",
       "      <td>NaN</td>\n",
       "    </tr>\n",
       "    <tr>\n",
       "      <th>SHAPE_LEN</th>\n",
       "      <td>NaN</td>\n",
       "      <td>NaN</td>\n",
       "      <td>NaN</td>\n",
       "      <td>NaN</td>\n",
       "      <td>NaN</td>\n",
       "      <td>NaN</td>\n",
       "      <td>NaN</td>\n",
       "      <td>NaN</td>\n",
       "      <td>NaN</td>\n",
       "      <td>NaN</td>\n",
       "    </tr>\n",
       "    <tr>\n",
       "      <th>BASE_BBL</th>\n",
       "      <td>0.988683</td>\n",
       "      <td>0.284805</td>\n",
       "      <td>0.075930</td>\n",
       "      <td>-0.328044</td>\n",
       "      <td>0.090359</td>\n",
       "      <td>0.106117</td>\n",
       "      <td>NaN</td>\n",
       "      <td>NaN</td>\n",
       "      <td>1.000000</td>\n",
       "      <td>1.000000</td>\n",
       "    </tr>\n",
       "    <tr>\n",
       "      <th>MPLUTO_BBL</th>\n",
       "      <td>0.988683</td>\n",
       "      <td>0.284806</td>\n",
       "      <td>0.075930</td>\n",
       "      <td>-0.328044</td>\n",
       "      <td>0.090359</td>\n",
       "      <td>0.106117</td>\n",
       "      <td>NaN</td>\n",
       "      <td>NaN</td>\n",
       "      <td>1.000000</td>\n",
       "      <td>1.000000</td>\n",
       "    </tr>\n",
       "  </tbody>\n",
       "</table>\n",
       "</div>"
      ],
      "text/plain": [
       "                 BIN  CNSTRCT_YR  DOITT_ID  HEIGHTROOF  FEAT_CODE  GROUNDELEV  \\\n",
       "BIN         1.000000    0.290921  0.156298   -0.357479   0.190892    0.086993   \n",
       "CNSTRCT_YR  0.290921    1.000000  0.203557    0.025437  -0.132578   -0.002913   \n",
       "DOITT_ID    0.156298    0.203557  1.000000   -0.160192   0.539663   -0.016972   \n",
       "HEIGHTROOF -0.357479    0.025437 -0.160192    1.000000  -0.363283   -0.002517   \n",
       "FEAT_CODE   0.190892   -0.132578  0.539663   -0.363283   1.000000    0.001660   \n",
       "GROUNDELEV  0.086993   -0.002913 -0.016972   -0.002517   0.001660    1.000000   \n",
       "SHAPE_AREA       NaN         NaN       NaN         NaN        NaN         NaN   \n",
       "SHAPE_LEN        NaN         NaN       NaN         NaN        NaN         NaN   \n",
       "BASE_BBL    0.988683    0.284805  0.075930   -0.328044   0.090359    0.106117   \n",
       "MPLUTO_BBL  0.988683    0.284806  0.075930   -0.328044   0.090359    0.106117   \n",
       "\n",
       "            SHAPE_AREA  SHAPE_LEN  BASE_BBL  MPLUTO_BBL  \n",
       "BIN                NaN        NaN  0.988683    0.988683  \n",
       "CNSTRCT_YR         NaN        NaN  0.284805    0.284806  \n",
       "DOITT_ID           NaN        NaN  0.075930    0.075930  \n",
       "HEIGHTROOF         NaN        NaN -0.328044   -0.328044  \n",
       "FEAT_CODE          NaN        NaN  0.090359    0.090359  \n",
       "GROUNDELEV         NaN        NaN  0.106117    0.106117  \n",
       "SHAPE_AREA         NaN        NaN       NaN         NaN  \n",
       "SHAPE_LEN          NaN        NaN       NaN         NaN  \n",
       "BASE_BBL           NaN        NaN  1.000000    1.000000  \n",
       "MPLUTO_BBL         NaN        NaN  1.000000    1.000000  "
      ]
     },
     "execution_count": 18,
     "metadata": {},
     "output_type": "execute_result"
    }
   ],
   "source": [
    "# compute pairwise correlation of columns, excluding NA/null values\n",
    "building_df.corr()"
   ]
  },
  {
   "cell_type": "code",
   "execution_count": 19,
   "metadata": {},
   "outputs": [
    {
     "data": {
      "image/png": "[encoded data removed]",
      "text/plain": [
       "<Figure size 720x432 with 2 Axes>"
      ]
     },
     "metadata": {
      "needs_background": "light"
     },
     "output_type": "display_data"
    }
   ],
   "source": [
    "# correlation in the form of heat map\n",
    "fig, ax = plt.subplots(figsize=(10, 6))\n",
    "\n",
    "sns.heatmap(\n",
    "    building_df.corr(), \n",
    "    annot=True, \n",
    "    ax=ax\n",
    ")\n",
    "\n",
    "plt.tight_layout()"
   ]
  },
  {
   "cell_type": "code",
   "execution_count": 20,
   "metadata": {},
   "outputs": [
    {
     "data": {
      "image/png": "[encoded data removed]",
      "text/plain": [
       "<Figure size 720x432 with 2 Axes>"
      ]
     },
     "metadata": {
      "needs_background": "light"
     },
     "output_type": "display_data"
    }
   ],
   "source": [
    "# correlation in the form of heat map\n",
    "fig, ax = plt.subplots(figsize=(10,6))\n",
    "\n",
    "# dropping columns of all nulls\n",
    "corr_df = building_df.drop(columns=['SHAPE_AREA', 'SHAPE_LEN'])\n",
    "\n",
    "sns.heatmap(\n",
    "    corr_df.corr(), \n",
    "    annot=True, \n",
    "    ax=ax\n",
    ")\n",
    "\n",
    "plt.tight_layout()"
   ]
  },
  {
   "cell_type": "markdown",
   "metadata": {},
   "source": [
    "## 3.3 Identifying Null/NA Values"
   ]
  },
  {
   "cell_type": "code",
   "execution_count": 21,
   "metadata": {},
   "outputs": [
    {
     "data": {
      "text/plain": [
       "the_geom            0\n",
       "NAME          1081093\n",
       "BIN                 0\n",
       "CNSTRCT_YR      10360\n",
       "LSTMODDATE          0\n",
       "LSTSTATYPE        322\n",
       "DOITT_ID            0\n",
       "HEIGHTROOF       2647\n",
       "FEAT_CODE           0\n",
       "GROUNDELEV        564\n",
       "SHAPE_AREA          0\n",
       "SHAPE_LEN           0\n",
       "BASE_BBL            0\n",
       "MPLUTO_BBL          0\n",
       "GEOMSOURCE        318\n",
       "GLOBALID            0\n",
       "dtype: int64"
      ]
     },
     "execution_count": 21,
     "metadata": {},
     "output_type": "execute_result"
    }
   ],
   "source": [
    "# nulls per column\n",
    "(building_df\n",
    " .isnull()\n",
    " .sum()\n",
    ")"
   ]
  },
  {
   "cell_type": "code",
   "execution_count": 22,
   "metadata": {},
   "outputs": [
    {
     "name": "stdout",
     "output_type": "stream",
     "text": [
      "total nulls in dataframe: 1,095,304\n"
     ]
    }
   ],
   "source": [
    "# total nulls in dataframe\n",
    "null_count = (\n",
    "    building_df\n",
    "    .isnull()\n",
    "    .sum()\n",
    "    .sum()\n",
    ")\n",
    "\n",
    "print('total nulls in dataframe: {:,}'.format(null_count))"
   ]
  },
  {
   "cell_type": "code",
   "execution_count": 23,
   "metadata": {},
   "outputs": [
    {
     "data": {
      "text/html": [
       "<div>\n",
       "<style scoped>\n",
       "    .dataframe tbody tr th:only-of-type {\n",
       "        vertical-align: middle;\n",
       "    }\n",
       "\n",
       "    .dataframe tbody tr th {\n",
       "        vertical-align: top;\n",
       "    }\n",
       "\n",
       "    .dataframe thead th {\n",
       "        text-align: right;\n",
       "    }\n",
       "</style>\n",
       "<table border=\"1\" class=\"dataframe\">\n",
       "  <thead>\n",
       "    <tr style=\"text-align: right;\">\n",
       "      <th></th>\n",
       "      <th>the_geom</th>\n",
       "      <th>NAME</th>\n",
       "      <th>BIN</th>\n",
       "      <th>CNSTRCT_YR</th>\n",
       "      <th>LSTMODDATE</th>\n",
       "      <th>LSTSTATYPE</th>\n",
       "      <th>DOITT_ID</th>\n",
       "      <th>HEIGHTROOF</th>\n",
       "      <th>FEAT_CODE</th>\n",
       "      <th>GROUNDELEV</th>\n",
       "      <th>SHAPE_AREA</th>\n",
       "      <th>SHAPE_LEN</th>\n",
       "      <th>BASE_BBL</th>\n",
       "      <th>MPLUTO_BBL</th>\n",
       "      <th>GEOMSOURCE</th>\n",
       "      <th>GLOBALID</th>\n",
       "    </tr>\n",
       "  </thead>\n",
       "  <tbody>\n",
       "    <tr>\n",
       "      <th>0</th>\n",
       "      <td>False</td>\n",
       "      <td>True</td>\n",
       "      <td>False</td>\n",
       "      <td>False</td>\n",
       "      <td>False</td>\n",
       "      <td>False</td>\n",
       "      <td>False</td>\n",
       "      <td>False</td>\n",
       "      <td>False</td>\n",
       "      <td>False</td>\n",
       "      <td>False</td>\n",
       "      <td>False</td>\n",
       "      <td>False</td>\n",
       "      <td>False</td>\n",
       "      <td>False</td>\n",
       "      <td>False</td>\n",
       "    </tr>\n",
       "    <tr>\n",
       "      <th>1</th>\n",
       "      <td>False</td>\n",
       "      <td>True</td>\n",
       "      <td>False</td>\n",
       "      <td>False</td>\n",
       "      <td>False</td>\n",
       "      <td>False</td>\n",
       "      <td>False</td>\n",
       "      <td>False</td>\n",
       "      <td>False</td>\n",
       "      <td>False</td>\n",
       "      <td>False</td>\n",
       "      <td>False</td>\n",
       "      <td>False</td>\n",
       "      <td>False</td>\n",
       "      <td>False</td>\n",
       "      <td>False</td>\n",
       "    </tr>\n",
       "    <tr>\n",
       "      <th>2</th>\n",
       "      <td>False</td>\n",
       "      <td>True</td>\n",
       "      <td>False</td>\n",
       "      <td>False</td>\n",
       "      <td>False</td>\n",
       "      <td>False</td>\n",
       "      <td>False</td>\n",
       "      <td>False</td>\n",
       "      <td>False</td>\n",
       "      <td>False</td>\n",
       "      <td>False</td>\n",
       "      <td>False</td>\n",
       "      <td>False</td>\n",
       "      <td>False</td>\n",
       "      <td>False</td>\n",
       "      <td>False</td>\n",
       "    </tr>\n",
       "    <tr>\n",
       "      <th>3</th>\n",
       "      <td>False</td>\n",
       "      <td>True</td>\n",
       "      <td>False</td>\n",
       "      <td>False</td>\n",
       "      <td>False</td>\n",
       "      <td>False</td>\n",
       "      <td>False</td>\n",
       "      <td>False</td>\n",
       "      <td>False</td>\n",
       "      <td>False</td>\n",
       "      <td>False</td>\n",
       "      <td>False</td>\n",
       "      <td>False</td>\n",
       "      <td>False</td>\n",
       "      <td>False</td>\n",
       "      <td>False</td>\n",
       "    </tr>\n",
       "    <tr>\n",
       "      <th>4</th>\n",
       "      <td>False</td>\n",
       "      <td>True</td>\n",
       "      <td>False</td>\n",
       "      <td>False</td>\n",
       "      <td>False</td>\n",
       "      <td>False</td>\n",
       "      <td>False</td>\n",
       "      <td>False</td>\n",
       "      <td>False</td>\n",
       "      <td>False</td>\n",
       "      <td>False</td>\n",
       "      <td>False</td>\n",
       "      <td>False</td>\n",
       "      <td>False</td>\n",
       "      <td>False</td>\n",
       "      <td>False</td>\n",
       "    </tr>\n",
       "    <tr>\n",
       "      <th>...</th>\n",
       "      <td>...</td>\n",
       "      <td>...</td>\n",
       "      <td>...</td>\n",
       "      <td>...</td>\n",
       "      <td>...</td>\n",
       "      <td>...</td>\n",
       "      <td>...</td>\n",
       "      <td>...</td>\n",
       "      <td>...</td>\n",
       "      <td>...</td>\n",
       "      <td>...</td>\n",
       "      <td>...</td>\n",
       "      <td>...</td>\n",
       "      <td>...</td>\n",
       "      <td>...</td>\n",
       "      <td>...</td>\n",
       "    </tr>\n",
       "    <tr>\n",
       "      <th>1083342</th>\n",
       "      <td>False</td>\n",
       "      <td>True</td>\n",
       "      <td>False</td>\n",
       "      <td>False</td>\n",
       "      <td>False</td>\n",
       "      <td>False</td>\n",
       "      <td>False</td>\n",
       "      <td>False</td>\n",
       "      <td>False</td>\n",
       "      <td>False</td>\n",
       "      <td>False</td>\n",
       "      <td>False</td>\n",
       "      <td>False</td>\n",
       "      <td>False</td>\n",
       "      <td>False</td>\n",
       "      <td>False</td>\n",
       "    </tr>\n",
       "    <tr>\n",
       "      <th>1083343</th>\n",
       "      <td>False</td>\n",
       "      <td>True</td>\n",
       "      <td>False</td>\n",
       "      <td>False</td>\n",
       "      <td>False</td>\n",
       "      <td>False</td>\n",
       "      <td>False</td>\n",
       "      <td>False</td>\n",
       "      <td>False</td>\n",
       "      <td>False</td>\n",
       "      <td>False</td>\n",
       "      <td>False</td>\n",
       "      <td>False</td>\n",
       "      <td>False</td>\n",
       "      <td>False</td>\n",
       "      <td>False</td>\n",
       "    </tr>\n",
       "    <tr>\n",
       "      <th>1083344</th>\n",
       "      <td>False</td>\n",
       "      <td>True</td>\n",
       "      <td>False</td>\n",
       "      <td>False</td>\n",
       "      <td>False</td>\n",
       "      <td>False</td>\n",
       "      <td>False</td>\n",
       "      <td>False</td>\n",
       "      <td>False</td>\n",
       "      <td>False</td>\n",
       "      <td>False</td>\n",
       "      <td>False</td>\n",
       "      <td>False</td>\n",
       "      <td>False</td>\n",
       "      <td>False</td>\n",
       "      <td>False</td>\n",
       "    </tr>\n",
       "    <tr>\n",
       "      <th>1083345</th>\n",
       "      <td>False</td>\n",
       "      <td>True</td>\n",
       "      <td>False</td>\n",
       "      <td>False</td>\n",
       "      <td>False</td>\n",
       "      <td>False</td>\n",
       "      <td>False</td>\n",
       "      <td>False</td>\n",
       "      <td>False</td>\n",
       "      <td>False</td>\n",
       "      <td>False</td>\n",
       "      <td>False</td>\n",
       "      <td>False</td>\n",
       "      <td>False</td>\n",
       "      <td>False</td>\n",
       "      <td>False</td>\n",
       "    </tr>\n",
       "    <tr>\n",
       "      <th>1083346</th>\n",
       "      <td>False</td>\n",
       "      <td>True</td>\n",
       "      <td>False</td>\n",
       "      <td>False</td>\n",
       "      <td>False</td>\n",
       "      <td>False</td>\n",
       "      <td>False</td>\n",
       "      <td>False</td>\n",
       "      <td>False</td>\n",
       "      <td>False</td>\n",
       "      <td>False</td>\n",
       "      <td>False</td>\n",
       "      <td>False</td>\n",
       "      <td>False</td>\n",
       "      <td>False</td>\n",
       "      <td>False</td>\n",
       "    </tr>\n",
       "  </tbody>\n",
       "</table>\n",
       "<p>1083347 rows × 16 columns</p>\n",
       "</div>"
      ],
      "text/plain": [
       "         the_geom  NAME    BIN  CNSTRCT_YR  LSTMODDATE  LSTSTATYPE  DOITT_ID  \\\n",
       "0           False  True  False       False       False       False     False   \n",
       "1           False  True  False       False       False       False     False   \n",
       "2           False  True  False       False       False       False     False   \n",
       "3           False  True  False       False       False       False     False   \n",
       "4           False  True  False       False       False       False     False   \n",
       "...           ...   ...    ...         ...         ...         ...       ...   \n",
       "1083342     False  True  False       False       False       False     False   \n",
       "1083343     False  True  False       False       False       False     False   \n",
       "1083344     False  True  False       False       False       False     False   \n",
       "1083345     False  True  False       False       False       False     False   \n",
       "1083346     False  True  False       False       False       False     False   \n",
       "\n",
       "         HEIGHTROOF  FEAT_CODE  GROUNDELEV  SHAPE_AREA  SHAPE_LEN  BASE_BBL  \\\n",
       "0             False      False       False       False      False     False   \n",
       "1             False      False       False       False      False     False   \n",
       "2             False      False       False       False      False     False   \n",
       "3             False      False       False       False      False     False   \n",
       "4             False      False       False       False      False     False   \n",
       "...             ...        ...         ...         ...        ...       ...   \n",
       "1083342       False      False       False       False      False     False   \n",
       "1083343       False      False       False       False      False     False   \n",
       "1083344       False      False       False       False      False     False   \n",
       "1083345       False      False       False       False      False     False   \n",
       "1083346       False      False       False       False      False     False   \n",
       "\n",
       "         MPLUTO_BBL  GEOMSOURCE  GLOBALID  \n",
       "0             False       False     False  \n",
       "1             False       False     False  \n",
       "2             False       False     False  \n",
       "3             False       False     False  \n",
       "4             False       False     False  \n",
       "...             ...         ...       ...  \n",
       "1083342       False       False     False  \n",
       "1083343       False       False     False  \n",
       "1083344       False       False     False  \n",
       "1083345       False       False     False  \n",
       "1083346       False       False     False  \n",
       "\n",
       "[1083347 rows x 16 columns]"
      ]
     },
     "execution_count": 23,
     "metadata": {},
     "output_type": "execute_result"
    }
   ],
   "source": [
    "# return a boolean same-sized object of nulls\n",
    "building_df.isnull()"
   ]
  },
  {
   "cell_type": "code",
   "execution_count": 24,
   "metadata": {},
   "outputs": [
    {
     "data": {
      "text/plain": [
       "the_geom      False\n",
       "NAME           True\n",
       "BIN           False\n",
       "CNSTRCT_YR     True\n",
       "LSTMODDATE    False\n",
       "LSTSTATYPE     True\n",
       "DOITT_ID      False\n",
       "HEIGHTROOF     True\n",
       "FEAT_CODE     False\n",
       "GROUNDELEV     True\n",
       "SHAPE_AREA    False\n",
       "SHAPE_LEN     False\n",
       "BASE_BBL      False\n",
       "MPLUTO_BBL    False\n",
       "GEOMSOURCE     True\n",
       "GLOBALID      False\n",
       "dtype: bool"
      ]
     },
     "execution_count": 24,
     "metadata": {},
     "output_type": "execute_result"
    }
   ],
   "source": [
    "# return a boolean if any of the values are null in column\n",
    "(building_df\n",
    " .isnull()\n",
    " .any()\n",
    ")"
   ]
  },
  {
   "cell_type": "code",
   "execution_count": 25,
   "metadata": {},
   "outputs": [
    {
     "data": {
      "text/html": [
       "<div>\n",
       "<style scoped>\n",
       "    .dataframe tbody tr th:only-of-type {\n",
       "        vertical-align: middle;\n",
       "    }\n",
       "\n",
       "    .dataframe tbody tr th {\n",
       "        vertical-align: top;\n",
       "    }\n",
       "\n",
       "    .dataframe thead th {\n",
       "        text-align: right;\n",
       "    }\n",
       "</style>\n",
       "<table border=\"1\" class=\"dataframe\">\n",
       "  <thead>\n",
       "    <tr style=\"text-align: right;\">\n",
       "      <th></th>\n",
       "      <th>perc_missing</th>\n",
       "    </tr>\n",
       "  </thead>\n",
       "  <tbody>\n",
       "    <tr>\n",
       "      <th>NAME</th>\n",
       "      <td>99.791941</td>\n",
       "    </tr>\n",
       "    <tr>\n",
       "      <th>CNSTRCT_YR</th>\n",
       "      <td>0.956296</td>\n",
       "    </tr>\n",
       "    <tr>\n",
       "      <th>HEIGHTROOF</th>\n",
       "      <td>0.244335</td>\n",
       "    </tr>\n",
       "    <tr>\n",
       "      <th>GROUNDELEV</th>\n",
       "      <td>0.052061</td>\n",
       "    </tr>\n",
       "    <tr>\n",
       "      <th>LSTSTATYPE</th>\n",
       "      <td>0.029723</td>\n",
       "    </tr>\n",
       "    <tr>\n",
       "      <th>GEOMSOURCE</th>\n",
       "      <td>0.029353</td>\n",
       "    </tr>\n",
       "    <tr>\n",
       "      <th>the_geom</th>\n",
       "      <td>0.000000</td>\n",
       "    </tr>\n",
       "    <tr>\n",
       "      <th>BIN</th>\n",
       "      <td>0.000000</td>\n",
       "    </tr>\n",
       "    <tr>\n",
       "      <th>LSTMODDATE</th>\n",
       "      <td>0.000000</td>\n",
       "    </tr>\n",
       "    <tr>\n",
       "      <th>DOITT_ID</th>\n",
       "      <td>0.000000</td>\n",
       "    </tr>\n",
       "    <tr>\n",
       "      <th>FEAT_CODE</th>\n",
       "      <td>0.000000</td>\n",
       "    </tr>\n",
       "    <tr>\n",
       "      <th>SHAPE_AREA</th>\n",
       "      <td>0.000000</td>\n",
       "    </tr>\n",
       "    <tr>\n",
       "      <th>SHAPE_LEN</th>\n",
       "      <td>0.000000</td>\n",
       "    </tr>\n",
       "    <tr>\n",
       "      <th>BASE_BBL</th>\n",
       "      <td>0.000000</td>\n",
       "    </tr>\n",
       "    <tr>\n",
       "      <th>MPLUTO_BBL</th>\n",
       "      <td>0.000000</td>\n",
       "    </tr>\n",
       "    <tr>\n",
       "      <th>GLOBALID</th>\n",
       "      <td>0.000000</td>\n",
       "    </tr>\n",
       "  </tbody>\n",
       "</table>\n",
       "</div>"
      ],
      "text/plain": [
       "            perc_missing\n",
       "NAME           99.791941\n",
       "CNSTRCT_YR      0.956296\n",
       "HEIGHTROOF      0.244335\n",
       "GROUNDELEV      0.052061\n",
       "LSTSTATYPE      0.029723\n",
       "GEOMSOURCE      0.029353\n",
       "the_geom        0.000000\n",
       "BIN             0.000000\n",
       "LSTMODDATE      0.000000\n",
       "DOITT_ID        0.000000\n",
       "FEAT_CODE       0.000000\n",
       "SHAPE_AREA      0.000000\n",
       "SHAPE_LEN       0.000000\n",
       "BASE_BBL        0.000000\n",
       "MPLUTO_BBL      0.000000\n",
       "GLOBALID        0.000000"
      ]
     },
     "execution_count": 25,
     "metadata": {},
     "output_type": "execute_result"
    }
   ],
   "source": [
    "# calculating a percentage of the number of nulls to total number of records of each column\n",
    "missing_data = (building_df.isnull().sum() / len(building_df)) * 100\n",
    "\n",
    "# creating a dataframe\n",
    "missing_data = pd.DataFrame(missing_data, columns=['perc_missing']) \n",
    "missing_data = missing_data.sort_values(by='perc_missing', ascending=False)\n",
    "\n",
    "missing_data"
   ]
  },
  {
   "cell_type": "markdown",
   "metadata": {},
   "source": [
    "# 4. Data Cleaning & Wrangling"
   ]
  },
  {
   "cell_type": "markdown",
   "metadata": {},
   "source": [
    "We will be cleaning the **Construction Year** (i.e. CNSTRCT_YR) column, as this is the column we will be using in our analysis."
   ]
  },
  {
   "cell_type": "markdown",
   "metadata": {},
   "source": [
    "## Attribute Information for CNSTRCT_YR:\n",
    "---------------------------------------------\n",
    "| Attribute | Description | Field Type | Sensitive Field (Y/N) | Notes| \n",
    "|------------ | ------------- | -------- | ----------- | ----------|\n",
    "| CNSTRCT_YR | The year construction of the building was completed. <br>Originally this column was populated using the Department of Finance Real Property Assessment Database (RPAD). Beginning in 2017 this will be the first year the completed structure is visible in available orthoimagery. Records where this is zero or NULL mean that this information was not available. | double | No"
   ]
  },
  {
   "cell_type": "markdown",
   "metadata": {},
   "source": [
    "## 4.1 Previewing Column Values"
   ]
  },
  {
   "cell_type": "code",
   "execution_count": 26,
   "metadata": {},
   "outputs": [
    {
     "data": {
      "text/plain": [
       "pandas.core.series.Series"
      ]
     },
     "execution_count": 26,
     "metadata": {},
     "output_type": "execute_result"
    }
   ],
   "source": [
    "# printing the object's type of a column\n",
    "type(building_df['CNSTRCT_YR'])"
   ]
  },
  {
   "cell_type": "code",
   "execution_count": 27,
   "metadata": {},
   "outputs": [
    {
     "name": "stdout",
     "output_type": "stream",
     "text": [
      "<class 'pandas.core.series.Series'>\n",
      "<class 'pandas.core.frame.DataFrame'>\n"
     ]
    }
   ],
   "source": [
    "# notice the difference of type from dataframe to series\n",
    "print(type(building_df[\"CNSTRCT_YR\"]))\n",
    "print(type(building_df[[\"CNSTRCT_YR\"]]))"
   ]
  },
  {
   "cell_type": "code",
   "execution_count": 28,
   "metadata": {},
   "outputs": [
    {
     "data": {
      "text/plain": [
       "0          1925.0\n",
       "1          1965.0\n",
       "2          1970.0\n",
       "3          1928.0\n",
       "4          1950.0\n",
       "            ...  \n",
       "1083342    1980.0\n",
       "1083343    2006.0\n",
       "1083344    2009.0\n",
       "1083345    1980.0\n",
       "1083346    1980.0\n",
       "Name: CNSTRCT_YR, Length: 1083347, dtype: float64"
      ]
     },
     "execution_count": 28,
     "metadata": {},
     "output_type": "execute_result"
    }
   ],
   "source": [
    "# returning a series of the 'CNSTRCT_YR' column\n",
    "building_df[\"CNSTRCT_YR\"]"
   ]
  },
  {
   "cell_type": "code",
   "execution_count": 29,
   "metadata": {},
   "outputs": [
    {
     "data": {
      "text/html": [
       "<div>\n",
       "<style scoped>\n",
       "    .dataframe tbody tr th:only-of-type {\n",
       "        vertical-align: middle;\n",
       "    }\n",
       "\n",
       "    .dataframe tbody tr th {\n",
       "        vertical-align: top;\n",
       "    }\n",
       "\n",
       "    .dataframe thead th {\n",
       "        text-align: right;\n",
       "    }\n",
       "</style>\n",
       "<table border=\"1\" class=\"dataframe\">\n",
       "  <thead>\n",
       "    <tr style=\"text-align: right;\">\n",
       "      <th></th>\n",
       "      <th>CNSTRCT_YR</th>\n",
       "    </tr>\n",
       "  </thead>\n",
       "  <tbody>\n",
       "    <tr>\n",
       "      <th>0</th>\n",
       "      <td>1925.0</td>\n",
       "    </tr>\n",
       "    <tr>\n",
       "      <th>1</th>\n",
       "      <td>1965.0</td>\n",
       "    </tr>\n",
       "    <tr>\n",
       "      <th>2</th>\n",
       "      <td>1970.0</td>\n",
       "    </tr>\n",
       "    <tr>\n",
       "      <th>3</th>\n",
       "      <td>1928.0</td>\n",
       "    </tr>\n",
       "    <tr>\n",
       "      <th>4</th>\n",
       "      <td>1950.0</td>\n",
       "    </tr>\n",
       "    <tr>\n",
       "      <th>...</th>\n",
       "      <td>...</td>\n",
       "    </tr>\n",
       "    <tr>\n",
       "      <th>1083342</th>\n",
       "      <td>1980.0</td>\n",
       "    </tr>\n",
       "    <tr>\n",
       "      <th>1083343</th>\n",
       "      <td>2006.0</td>\n",
       "    </tr>\n",
       "    <tr>\n",
       "      <th>1083344</th>\n",
       "      <td>2009.0</td>\n",
       "    </tr>\n",
       "    <tr>\n",
       "      <th>1083345</th>\n",
       "      <td>1980.0</td>\n",
       "    </tr>\n",
       "    <tr>\n",
       "      <th>1083346</th>\n",
       "      <td>1980.0</td>\n",
       "    </tr>\n",
       "  </tbody>\n",
       "</table>\n",
       "<p>1083347 rows × 1 columns</p>\n",
       "</div>"
      ],
      "text/plain": [
       "         CNSTRCT_YR\n",
       "0            1925.0\n",
       "1            1965.0\n",
       "2            1970.0\n",
       "3            1928.0\n",
       "4            1950.0\n",
       "...             ...\n",
       "1083342      1980.0\n",
       "1083343      2006.0\n",
       "1083344      2009.0\n",
       "1083345      1980.0\n",
       "1083346      1980.0\n",
       "\n",
       "[1083347 rows x 1 columns]"
      ]
     },
     "execution_count": 29,
     "metadata": {},
     "output_type": "execute_result"
    }
   ],
   "source": [
    "# returning a dataframe of the 'CNSTRCT_YR' column double brackets\n",
    "building_df[[\"CNSTRCT_YR\"]]"
   ]
  },
  {
   "cell_type": "code",
   "execution_count": 30,
   "metadata": {
    "scrolled": false
   },
   "outputs": [
    {
     "data": {
      "text/html": [
       "<div>\n",
       "<style scoped>\n",
       "    .dataframe tbody tr th:only-of-type {\n",
       "        vertical-align: middle;\n",
       "    }\n",
       "\n",
       "    .dataframe tbody tr th {\n",
       "        vertical-align: top;\n",
       "    }\n",
       "\n",
       "    .dataframe thead th {\n",
       "        text-align: right;\n",
       "    }\n",
       "</style>\n",
       "<table border=\"1\" class=\"dataframe\">\n",
       "  <thead>\n",
       "    <tr style=\"text-align: right;\">\n",
       "      <th></th>\n",
       "      <th>the_geom</th>\n",
       "      <th>NAME</th>\n",
       "      <th>BIN</th>\n",
       "      <th>CNSTRCT_YR</th>\n",
       "      <th>LSTMODDATE</th>\n",
       "      <th>LSTSTATYPE</th>\n",
       "      <th>DOITT_ID</th>\n",
       "      <th>HEIGHTROOF</th>\n",
       "      <th>FEAT_CODE</th>\n",
       "      <th>GROUNDELEV</th>\n",
       "      <th>SHAPE_AREA</th>\n",
       "      <th>SHAPE_LEN</th>\n",
       "      <th>BASE_BBL</th>\n",
       "      <th>MPLUTO_BBL</th>\n",
       "      <th>GEOMSOURCE</th>\n",
       "      <th>GLOBALID</th>\n",
       "    </tr>\n",
       "  </thead>\n",
       "  <tbody>\n",
       "    <tr>\n",
       "      <th>956312</th>\n",
       "      <td>MULTIPOLYGON (((-73.92083460429942 40.64439765...</td>\n",
       "      <td>Pieter Claesen Wyckoff House</td>\n",
       "      <td>3221967</td>\n",
       "      <td>1652.0</td>\n",
       "      <td>01/28/2020 12:00:00 AM</td>\n",
       "      <td>Constructed</td>\n",
       "      <td>550741</td>\n",
       "      <td>24.540000</td>\n",
       "      <td>2100</td>\n",
       "      <td>14.0</td>\n",
       "      <td>0</td>\n",
       "      <td>0</td>\n",
       "      <td>3079170009</td>\n",
       "      <td>3079170009</td>\n",
       "      <td>Photogramm</td>\n",
       "      <td>{5CAA55A5-5C4F-4F2B-B738-EB17A488BD84}</td>\n",
       "    </tr>\n",
       "    <tr>\n",
       "      <th>710956</th>\n",
       "      <td>MULTIPOLYGON (((-73.8247828135812 40.762948467...</td>\n",
       "      <td>Bowne House</td>\n",
       "      <td>4113403</td>\n",
       "      <td>1661.0</td>\n",
       "      <td>08/22/2017 12:00:00 AM</td>\n",
       "      <td>Constructed</td>\n",
       "      <td>776399</td>\n",
       "      <td>26.120000</td>\n",
       "      <td>2100</td>\n",
       "      <td>64.0</td>\n",
       "      <td>0</td>\n",
       "      <td>0</td>\n",
       "      <td>4050130006</td>\n",
       "      <td>4050130006</td>\n",
       "      <td>Photogramm</td>\n",
       "      <td>{71A760A6-6D2F-48F8-8C93-C8B66071B868}</td>\n",
       "    </tr>\n",
       "    <tr>\n",
       "      <th>431254</th>\n",
       "      <td>MULTIPOLYGON (((-73.82449114078894 40.76279389...</td>\n",
       "      <td>NaN</td>\n",
       "      <td>4610542</td>\n",
       "      <td>1661.0</td>\n",
       "      <td>08/17/2017 12:00:00 AM</td>\n",
       "      <td>Constructed</td>\n",
       "      <td>1190137</td>\n",
       "      <td>14.846959</td>\n",
       "      <td>5110</td>\n",
       "      <td>63.0</td>\n",
       "      <td>0</td>\n",
       "      <td>0</td>\n",
       "      <td>4050130006</td>\n",
       "      <td>4050130006</td>\n",
       "      <td>Photogramm</td>\n",
       "      <td>{36678A28-E8EE-45E8-BAA2-9A3F5118E176}</td>\n",
       "    </tr>\n",
       "    <tr>\n",
       "      <th>52887</th>\n",
       "      <td>MULTIPOLYGON (((-74.25311647359251 40.50309522...</td>\n",
       "      <td>Conference House</td>\n",
       "      <td>5087656</td>\n",
       "      <td>1680.0</td>\n",
       "      <td>04/13/2020 12:00:00 AM</td>\n",
       "      <td>Constructed</td>\n",
       "      <td>702698</td>\n",
       "      <td>38.640000</td>\n",
       "      <td>2100</td>\n",
       "      <td>38.0</td>\n",
       "      <td>0</td>\n",
       "      <td>0</td>\n",
       "      <td>5078570090</td>\n",
       "      <td>5078570090</td>\n",
       "      <td>Photogramm</td>\n",
       "      <td>{CB13BCBA-9DF3-4455-9206-824FE91F2EDE}</td>\n",
       "    </tr>\n",
       "    <tr>\n",
       "      <th>522025</th>\n",
       "      <td>MULTIPOLYGON (((-74.06293248238293 40.61512359...</td>\n",
       "      <td>Alice Austen House Museum</td>\n",
       "      <td>5042188</td>\n",
       "      <td>1690.0</td>\n",
       "      <td>04/13/2020 12:00:00 AM</td>\n",
       "      <td>Alteration</td>\n",
       "      <td>806241</td>\n",
       "      <td>22.260000</td>\n",
       "      <td>2100</td>\n",
       "      <td>21.0</td>\n",
       "      <td>0</td>\n",
       "      <td>0</td>\n",
       "      <td>5028300049</td>\n",
       "      <td>5028300049</td>\n",
       "      <td>Photogramm</td>\n",
       "      <td>{93B1CB7B-BE72-40DB-9B66-01E92DF4AE6E}</td>\n",
       "    </tr>\n",
       "  </tbody>\n",
       "</table>\n",
       "</div>"
      ],
      "text/plain": [
       "                                                 the_geom  \\\n",
       "956312  MULTIPOLYGON (((-73.92083460429942 40.64439765...   \n",
       "710956  MULTIPOLYGON (((-73.8247828135812 40.762948467...   \n",
       "431254  MULTIPOLYGON (((-73.82449114078894 40.76279389...   \n",
       "52887   MULTIPOLYGON (((-74.25311647359251 40.50309522...   \n",
       "522025  MULTIPOLYGON (((-74.06293248238293 40.61512359...   \n",
       "\n",
       "                                NAME      BIN  CNSTRCT_YR  \\\n",
       "956312  Pieter Claesen Wyckoff House  3221967      1652.0   \n",
       "710956                   Bowne House  4113403      1661.0   \n",
       "431254                           NaN  4610542      1661.0   \n",
       "52887               Conference House  5087656      1680.0   \n",
       "522025     Alice Austen House Museum  5042188      1690.0   \n",
       "\n",
       "                    LSTMODDATE   LSTSTATYPE  DOITT_ID  HEIGHTROOF  FEAT_CODE  \\\n",
       "956312  01/28/2020 12:00:00 AM  Constructed    550741   24.540000       2100   \n",
       "710956  08/22/2017 12:00:00 AM  Constructed    776399   26.120000       2100   \n",
       "431254  08/17/2017 12:00:00 AM  Constructed   1190137   14.846959       5110   \n",
       "52887   04/13/2020 12:00:00 AM  Constructed    702698   38.640000       2100   \n",
       "522025  04/13/2020 12:00:00 AM   Alteration    806241   22.260000       2100   \n",
       "\n",
       "        GROUNDELEV  SHAPE_AREA  SHAPE_LEN    BASE_BBL  MPLUTO_BBL  GEOMSOURCE  \\\n",
       "956312        14.0           0          0  3079170009  3079170009  Photogramm   \n",
       "710956        64.0           0          0  4050130006  4050130006  Photogramm   \n",
       "431254        63.0           0          0  4050130006  4050130006  Photogramm   \n",
       "52887         38.0           0          0  5078570090  5078570090  Photogramm   \n",
       "522025        21.0           0          0  5028300049  5028300049  Photogramm   \n",
       "\n",
       "                                      GLOBALID  \n",
       "956312  {5CAA55A5-5C4F-4F2B-B738-EB17A488BD84}  \n",
       "710956  {71A760A6-6D2F-48F8-8C93-C8B66071B868}  \n",
       "431254  {36678A28-E8EE-45E8-BAA2-9A3F5118E176}  \n",
       "52887   {CB13BCBA-9DF3-4455-9206-824FE91F2EDE}  \n",
       "522025  {93B1CB7B-BE72-40DB-9B66-01E92DF4AE6E}  "
      ]
     },
     "execution_count": 30,
     "metadata": {},
     "output_type": "execute_result"
    }
   ],
   "source": [
    "# first five rows sorted by the 'CNSTRCT_YR' column in ascending order\n",
    "building_df.sort_values('CNSTRCT_YR').head()"
   ]
  },
  {
   "cell_type": "code",
   "execution_count": 31,
   "metadata": {},
   "outputs": [
    {
     "data": {
      "text/html": [
       "<div>\n",
       "<style scoped>\n",
       "    .dataframe tbody tr th:only-of-type {\n",
       "        vertical-align: middle;\n",
       "    }\n",
       "\n",
       "    .dataframe tbody tr th {\n",
       "        vertical-align: top;\n",
       "    }\n",
       "\n",
       "    .dataframe thead th {\n",
       "        text-align: right;\n",
       "    }\n",
       "</style>\n",
       "<table border=\"1\" class=\"dataframe\">\n",
       "  <thead>\n",
       "    <tr style=\"text-align: right;\">\n",
       "      <th></th>\n",
       "      <th>the_geom</th>\n",
       "      <th>NAME</th>\n",
       "      <th>BIN</th>\n",
       "      <th>CNSTRCT_YR</th>\n",
       "      <th>LSTMODDATE</th>\n",
       "      <th>LSTSTATYPE</th>\n",
       "      <th>DOITT_ID</th>\n",
       "      <th>HEIGHTROOF</th>\n",
       "      <th>FEAT_CODE</th>\n",
       "      <th>GROUNDELEV</th>\n",
       "      <th>SHAPE_AREA</th>\n",
       "      <th>SHAPE_LEN</th>\n",
       "      <th>BASE_BBL</th>\n",
       "      <th>MPLUTO_BBL</th>\n",
       "      <th>GEOMSOURCE</th>\n",
       "      <th>GLOBALID</th>\n",
       "    </tr>\n",
       "  </thead>\n",
       "  <tbody>\n",
       "    <tr>\n",
       "      <th>1082320</th>\n",
       "      <td>MULTIPOLYGON (((-73.9842217154888 40.641315363...</td>\n",
       "      <td>NaN</td>\n",
       "      <td>3418384</td>\n",
       "      <td>2024.0</td>\n",
       "      <td>04/01/2024 12:00:00 AM</td>\n",
       "      <td>Constructed</td>\n",
       "      <td>1301776</td>\n",
       "      <td>135.0</td>\n",
       "      <td>2100</td>\n",
       "      <td>58.0</td>\n",
       "      <td>0</td>\n",
       "      <td>0</td>\n",
       "      <td>3053010020</td>\n",
       "      <td>3053010020</td>\n",
       "      <td>Other (Man</td>\n",
       "      <td>{CA9B48A7-3478-42C4-A3AA-206B9F7A4D07}</td>\n",
       "    </tr>\n",
       "    <tr>\n",
       "      <th>1079124</th>\n",
       "      <td>MULTIPOLYGON (((-73.81079758791336 40.67271521...</td>\n",
       "      <td>NaN</td>\n",
       "      <td>4620907</td>\n",
       "      <td>2024.0</td>\n",
       "      <td>02/14/2024 12:00:00 AM</td>\n",
       "      <td>Investigate Construction</td>\n",
       "      <td>1301390</td>\n",
       "      <td>NaN</td>\n",
       "      <td>5100</td>\n",
       "      <td>29.0</td>\n",
       "      <td>0</td>\n",
       "      <td>0</td>\n",
       "      <td>4117490003</td>\n",
       "      <td>4117490003</td>\n",
       "      <td>Other (Man</td>\n",
       "      <td>{BA629582-2A56-4119-915F-56D009E51CFC}</td>\n",
       "    </tr>\n",
       "    <tr>\n",
       "      <th>1081997</th>\n",
       "      <td>MULTIPOLYGON (((-73.98447675226453 40.58450295...</td>\n",
       "      <td>NaN</td>\n",
       "      <td>3428762</td>\n",
       "      <td>2024.0</td>\n",
       "      <td>03/12/2024 12:00:00 AM</td>\n",
       "      <td>Constructed</td>\n",
       "      <td>1301636</td>\n",
       "      <td>40.0</td>\n",
       "      <td>2100</td>\n",
       "      <td>8.0</td>\n",
       "      <td>0</td>\n",
       "      <td>0</td>\n",
       "      <td>3069530047</td>\n",
       "      <td>3069530047</td>\n",
       "      <td>Other (Man</td>\n",
       "      <td>{51B3191D-13B3-44DC-98E7-EEA1BFBC9B6C}</td>\n",
       "    </tr>\n",
       "    <tr>\n",
       "      <th>1081695</th>\n",
       "      <td>MULTIPOLYGON (((-74.18798789974564 40.59222443...</td>\n",
       "      <td>NaN</td>\n",
       "      <td>5175635</td>\n",
       "      <td>2024.0</td>\n",
       "      <td>03/13/2024 12:00:00 AM</td>\n",
       "      <td>Marked for Construction</td>\n",
       "      <td>1301645</td>\n",
       "      <td>45.0</td>\n",
       "      <td>5100</td>\n",
       "      <td>29.0</td>\n",
       "      <td>0</td>\n",
       "      <td>0</td>\n",
       "      <td>5026290001</td>\n",
       "      <td>5026290001</td>\n",
       "      <td>Other (Man</td>\n",
       "      <td>{13368DC0-1DBA-4049-B233-D8B68B54E8CE}</td>\n",
       "    </tr>\n",
       "    <tr>\n",
       "      <th>1082243</th>\n",
       "      <td>MULTIPOLYGON (((-73.80418130510829 40.78316567...</td>\n",
       "      <td>NaN</td>\n",
       "      <td>4623685</td>\n",
       "      <td>2024.0</td>\n",
       "      <td>03/26/2024 12:00:00 AM</td>\n",
       "      <td>NaN</td>\n",
       "      <td>1301747</td>\n",
       "      <td>30.0</td>\n",
       "      <td>2100</td>\n",
       "      <td>61.0</td>\n",
       "      <td>0</td>\n",
       "      <td>0</td>\n",
       "      <td>4047460026</td>\n",
       "      <td>4047460026</td>\n",
       "      <td>Other (Man</td>\n",
       "      <td>{F338DB3E-DE6C-4488-86E1-CBEA1C9E86DB}</td>\n",
       "    </tr>\n",
       "  </tbody>\n",
       "</table>\n",
       "</div>"
      ],
      "text/plain": [
       "                                                  the_geom NAME      BIN  \\\n",
       "1082320  MULTIPOLYGON (((-73.9842217154888 40.641315363...  NaN  3418384   \n",
       "1079124  MULTIPOLYGON (((-73.81079758791336 40.67271521...  NaN  4620907   \n",
       "1081997  MULTIPOLYGON (((-73.98447675226453 40.58450295...  NaN  3428762   \n",
       "1081695  MULTIPOLYGON (((-74.18798789974564 40.59222443...  NaN  5175635   \n",
       "1082243  MULTIPOLYGON (((-73.80418130510829 40.78316567...  NaN  4623685   \n",
       "\n",
       "         CNSTRCT_YR              LSTMODDATE                LSTSTATYPE  \\\n",
       "1082320      2024.0  04/01/2024 12:00:00 AM               Constructed   \n",
       "1079124      2024.0  02/14/2024 12:00:00 AM  Investigate Construction   \n",
       "1081997      2024.0  03/12/2024 12:00:00 AM               Constructed   \n",
       "1081695      2024.0  03/13/2024 12:00:00 AM   Marked for Construction   \n",
       "1082243      2024.0  03/26/2024 12:00:00 AM                       NaN   \n",
       "\n",
       "         DOITT_ID  HEIGHTROOF  FEAT_CODE  GROUNDELEV  SHAPE_AREA  SHAPE_LEN  \\\n",
       "1082320   1301776       135.0       2100        58.0           0          0   \n",
       "1079124   1301390         NaN       5100        29.0           0          0   \n",
       "1081997   1301636        40.0       2100         8.0           0          0   \n",
       "1081695   1301645        45.0       5100        29.0           0          0   \n",
       "1082243   1301747        30.0       2100        61.0           0          0   \n",
       "\n",
       "           BASE_BBL  MPLUTO_BBL  GEOMSOURCE  \\\n",
       "1082320  3053010020  3053010020  Other (Man   \n",
       "1079124  4117490003  4117490003  Other (Man   \n",
       "1081997  3069530047  3069530047  Other (Man   \n",
       "1081695  5026290001  5026290001  Other (Man   \n",
       "1082243  4047460026  4047460026  Other (Man   \n",
       "\n",
       "                                       GLOBALID  \n",
       "1082320  {CA9B48A7-3478-42C4-A3AA-206B9F7A4D07}  \n",
       "1079124  {BA629582-2A56-4119-915F-56D009E51CFC}  \n",
       "1081997  {51B3191D-13B3-44DC-98E7-EEA1BFBC9B6C}  \n",
       "1081695  {13368DC0-1DBA-4049-B233-D8B68B54E8CE}  \n",
       "1082243  {F338DB3E-DE6C-4488-86E1-CBEA1C9E86DB}  "
      ]
     },
     "execution_count": 31,
     "metadata": {},
     "output_type": "execute_result"
    }
   ],
   "source": [
    "# first five rows sorted by the 'CNSTRCT_YR' column in descending order\n",
    "building_df.sort_values('CNSTRCT_YR', ascending=False).head()"
   ]
  },
  {
   "cell_type": "code",
   "execution_count": 32,
   "metadata": {},
   "outputs": [
    {
     "data": {
      "text/html": [
       "<div>\n",
       "<style scoped>\n",
       "    .dataframe tbody tr th:only-of-type {\n",
       "        vertical-align: middle;\n",
       "    }\n",
       "\n",
       "    .dataframe tbody tr th {\n",
       "        vertical-align: top;\n",
       "    }\n",
       "\n",
       "    .dataframe thead th {\n",
       "        text-align: right;\n",
       "    }\n",
       "</style>\n",
       "<table border=\"1\" class=\"dataframe\">\n",
       "  <thead>\n",
       "    <tr style=\"text-align: right;\">\n",
       "      <th></th>\n",
       "      <th>statistic</th>\n",
       "      <th>CNSTRCT_YR</th>\n",
       "    </tr>\n",
       "  </thead>\n",
       "  <tbody>\n",
       "    <tr>\n",
       "      <th>0</th>\n",
       "      <td>count</td>\n",
       "      <td>1.072987e+06</td>\n",
       "    </tr>\n",
       "    <tr>\n",
       "      <th>1</th>\n",
       "      <td>mean</td>\n",
       "      <td>1.939623e+03</td>\n",
       "    </tr>\n",
       "    <tr>\n",
       "      <th>2</th>\n",
       "      <td>std</td>\n",
       "      <td>2.946186e+01</td>\n",
       "    </tr>\n",
       "    <tr>\n",
       "      <th>3</th>\n",
       "      <td>min</td>\n",
       "      <td>1.652000e+03</td>\n",
       "    </tr>\n",
       "    <tr>\n",
       "      <th>4</th>\n",
       "      <td>25%</td>\n",
       "      <td>1.920000e+03</td>\n",
       "    </tr>\n",
       "    <tr>\n",
       "      <th>5</th>\n",
       "      <td>50%</td>\n",
       "      <td>1.930000e+03</td>\n",
       "    </tr>\n",
       "    <tr>\n",
       "      <th>6</th>\n",
       "      <td>75%</td>\n",
       "      <td>1.955000e+03</td>\n",
       "    </tr>\n",
       "    <tr>\n",
       "      <th>7</th>\n",
       "      <td>max</td>\n",
       "      <td>2.024000e+03</td>\n",
       "    </tr>\n",
       "  </tbody>\n",
       "</table>\n",
       "</div>"
      ],
      "text/plain": [
       "  statistic    CNSTRCT_YR\n",
       "0     count  1.072987e+06\n",
       "1      mean  1.939623e+03\n",
       "2       std  2.946186e+01\n",
       "3       min  1.652000e+03\n",
       "4       25%  1.920000e+03\n",
       "5       50%  1.930000e+03\n",
       "6       75%  1.955000e+03\n",
       "7       max  2.024000e+03"
      ]
     },
     "execution_count": 32,
     "metadata": {},
     "output_type": "execute_result"
    }
   ],
   "source": [
    "\"\"\"\n",
    "Descriptive statistics include those that summarize the central tendency, \n",
    "dispersion and shape of a dataset's distribution, excluding ``NaN`` values.\n",
    "\n",
    "Reset index for readability.\n",
    "\"\"\"\n",
    "\n",
    "(building_df['CNSTRCT_YR']\n",
    " .describe()\n",
    " .reset_index()\n",
    " .rename(columns={'index': \"statistic\"})\n",
    ")"
   ]
  },
  {
   "cell_type": "code",
   "execution_count": 33,
   "metadata": {},
   "outputs": [
    {
     "data": {
      "text/plain": [
       "True"
      ]
     },
     "execution_count": 33,
     "metadata": {},
     "output_type": "execute_result"
    }
   ],
   "source": [
    "# detecting any nulls in our 'CNSTRCT_YR' column\n",
    "(building_df['CNSTRCT_YR']\n",
    " .isnull()\n",
    " .values\n",
    " .any()\n",
    ")"
   ]
  },
  {
   "cell_type": "code",
   "execution_count": 34,
   "metadata": {},
   "outputs": [
    {
     "data": {
      "text/plain": [
       "10360"
      ]
     },
     "execution_count": 34,
     "metadata": {},
     "output_type": "execute_result"
    }
   ],
   "source": [
    "# summing all the null values in our 'CNSTRCT_YR' column\n",
    "(building_df['CNSTRCT_YR']\n",
    " .isnull()\n",
    " .sum()\n",
    ")"
   ]
  },
  {
   "cell_type": "code",
   "execution_count": 35,
   "metadata": {},
   "outputs": [
    {
     "data": {
      "text/plain": [
       "1072987"
      ]
     },
     "execution_count": 35,
     "metadata": {},
     "output_type": "execute_result"
    }
   ],
   "source": [
    "# summing all the not null values in our 'CNSTRCT_YR' column\n",
    "(building_df['CNSTRCT_YR']\n",
    " .notnull()\n",
    " .sum()\n",
    ")"
   ]
  },
  {
   "cell_type": "code",
   "execution_count": 37,
   "metadata": {},
   "outputs": [
    {
     "name": "stdout",
     "output_type": "stream",
     "text": [
      "percent nulls: 0.9563%\n"
     ]
    }
   ],
   "source": [
    "# printing the percent total of all the null values in our 'CNSTRCT_YR' column.\n",
    "nulls_sum = building_df['CNSTRCT_YR'].isnull().sum() \n",
    "nulls_perc = round(nulls_sum / len(building_df) * 100, 4)\n",
    "\n",
    "print('percent nulls: {}%'.format(nulls_perc))"
   ]
  },
  {
   "cell_type": "code",
   "execution_count": 38,
   "metadata": {},
   "outputs": [
    {
     "name": "stdout",
     "output_type": "stream",
     "text": [
      "percent not nulls: 99.0437%\n"
     ]
    }
   ],
   "source": [
    "# printing the percent total of all the not null values in our 'CNSTRCT_YR' column.\n",
    "nonnulls_sum = building_df['CNSTRCT_YR'].notnull().sum() \n",
    "nonnulls_perc = round(nonnulls_sum / len(building_df) * 100, 4)\n",
    "\n",
    "print('percent not nulls: {}%'.format(nonnulls_perc))"
   ]
  },
  {
   "cell_type": "markdown",
   "metadata": {},
   "source": [
    "## 4.2 Exploring Distribution of Values"
   ]
  },
  {
   "cell_type": "code",
   "execution_count": 41,
   "metadata": {},
   "outputs": [
    {
     "data": {
      "image/png": "[encoded data removed]",
      "text/plain": [
       "<Figure size 576x432 with 1 Axes>"
      ]
     },
     "metadata": {
      "needs_background": "light"
     },
     "output_type": "display_data"
    }
   ],
   "source": [
    "# making a histogram of our 'CNSTRCT_YR' column with 25 bins\n",
    "\n",
    "fig, ax = plt.subplots(figsize=(8, 6))\n",
    "\n",
    "building_df['CNSTRCT_YR'].hist(ax=ax, bins=25)\n",
    "\n",
    "# adding labels\n",
    "plt.xlabel('Construction Year', fontsize=15)\n",
    "plt.ylabel('Counts', fontsize=15) \n",
    "plt.title('Histogram of Construction Year Values', fontsize=15) \n",
    "\n",
    "plt.tight_layout()"
   ]
  },
  {
   "cell_type": "code",
   "execution_count": 45,
   "metadata": {},
   "outputs": [
    {
     "data": {
      "image/png": "[encoded data removed]",
      "text/plain": [
       "<Figure size 576x432 with 1 Axes>"
      ]
     },
     "metadata": {
      "needs_background": "light"
     },
     "output_type": "display_data"
    }
   ],
   "source": [
    "# making a histogram of our 'CNSTRCT_YR' column with 50 bins\n",
    "fig, ax = plt.subplots(figsize=(8, 6))\n",
    "\n",
    "building_df['CNSTRCT_YR'].hist(ax=ax, bins=50)\n",
    "\n",
    "plt.xlabel('Construction Year', fontsize=15)\n",
    "plt.ylabel('Counts', fontsize=15)\n",
    "plt.title('Histogram of Construction Year Values', fontsize=15)\n",
    "\n",
    "plt.tight_layout()"
   ]
  },
  {
   "cell_type": "code",
   "execution_count": 48,
   "metadata": {},
   "outputs": [
    {
     "data": {
      "text/plain": [
       "1920.0    130103\n",
       "1930.0    112506\n",
       "1925.0    109007\n",
       "1950.0     62639\n",
       "1910.0     52233\n",
       "           ...  \n",
       "1747.0         1\n",
       "1725.0         1\n",
       "1797.0         1\n",
       "1789.0         1\n",
       "1735.0         1\n",
       "Name: CNSTRCT_YR, Length: 251, dtype: int64"
      ]
     },
     "execution_count": 48,
     "metadata": {},
     "output_type": "execute_result"
    }
   ],
   "source": [
    "# prints the counts of values in our 'CNSTRCT_YR' column in descending order\n",
    "building_df['CNSTRCT_YR'].value_counts()"
   ]
  },
  {
   "cell_type": "code",
   "execution_count": 49,
   "metadata": {},
   "outputs": [
    {
     "data": {
      "text/plain": [
       "1652.0       1\n",
       "1661.0       2\n",
       "1680.0       1\n",
       "1690.0       1\n",
       "1694.0       1\n",
       "          ... \n",
       "2020.0    1594\n",
       "2021.0    1455\n",
       "2022.0    1536\n",
       "2023.0     854\n",
       "2024.0      45\n",
       "Name: CNSTRCT_YR, Length: 251, dtype: int64"
      ]
     },
     "execution_count": 49,
     "metadata": {},
     "output_type": "execute_result"
    }
   ],
   "source": [
    "# counts of values sorted by the index (in this case, year) ascending order\n",
    "building_df['CNSTRCT_YR'].value_counts().sort_index()"
   ]
  },
  {
   "cell_type": "code",
   "execution_count": 50,
   "metadata": {},
   "outputs": [
    {
     "data": {
      "text/plain": [
       "1652.0    1\n",
       "1661.0    2\n",
       "1680.0    1\n",
       "1690.0    1\n",
       "1694.0    1\n",
       "1706.0    1\n",
       "1719.0    1\n",
       "1720.0    1\n",
       "1722.0    1\n",
       "1725.0    1\n",
       "Name: CNSTRCT_YR, dtype: int64"
      ]
     },
     "execution_count": 50,
     "metadata": {},
     "output_type": "execute_result"
    }
   ],
   "source": [
    "# value counts of the first ten rows sorted by the index ascending order\n",
    "(building_df['CNSTRCT_YR']\n",
    " .value_counts()\n",
    " .sort_index(ascending=True)\n",
    " .head(10)\n",
    ")"
   ]
  },
  {
   "cell_type": "code",
   "execution_count": 51,
   "metadata": {},
   "outputs": [
    {
     "data": {
      "text/plain": [
       "2024.0      45\n",
       "2023.0     854\n",
       "2022.0    1536\n",
       "2021.0    1455\n",
       "2020.0    1594\n",
       "2019.0    1331\n",
       "2018.0    2350\n",
       "2017.0    1962\n",
       "2016.0    1866\n",
       "2015.0    1090\n",
       "Name: CNSTRCT_YR, dtype: int64"
      ]
     },
     "execution_count": 51,
     "metadata": {},
     "output_type": "execute_result"
    }
   ],
   "source": [
    "# value counts of the first ten rows sorted by the index descending order\n",
    "(building_df['CNSTRCT_YR']\n",
    " .value_counts()\n",
    " .sort_index(ascending=False)\n",
    " .head(10)\n",
    ")"
   ]
  },
  {
   "cell_type": "markdown",
   "metadata": {},
   "source": [
    "## 4.3 Making a Box Plot"
   ]
  },
  {
   "cell_type": "code",
   "execution_count": 53,
   "metadata": {
    "scrolled": false
   },
   "outputs": [
    {
     "data": {
      "image/png": "[encoded data removed]",
      "text/plain": [
       "<Figure size 576x432 with 1 Axes>"
      ]
     },
     "metadata": {
      "needs_background": "light"
     },
     "output_type": "display_data"
    }
   ],
   "source": [
    "# making a box plot from our 'CNSTRCT_YR' column\n",
    "fig, ax = plt.subplots(figsize=(8, 6))\n",
    "\n",
    "building_df.boxplot(column=['CNSTRCT_YR'], ax=ax)\n",
    "\n",
    "plt.title('Box Plot of Construction Year Value', fontsize=13)\n",
    "\n",
    "plt.tight_layout()"
   ]
  },
  {
   "cell_type": "markdown",
   "metadata": {},
   "source": [
    "## 4.4 Calculating Interquartile Range (IQR)"
   ]
  },
  {
   "cell_type": "code",
   "execution_count": 54,
   "metadata": {},
   "outputs": [
    {
     "name": "stdout",
     "output_type": "stream",
     "text": [
      "1920.0\n",
      "1955.0\n"
     ]
    }
   ],
   "source": [
    "# printing the 25% and 75% quantiles of our 'CNSTRCT_YR' column\n",
    "print(building_df['CNSTRCT_YR'].quantile(0.25))\n",
    "print(building_df['CNSTRCT_YR'].quantile(0.75))"
   ]
  },
  {
   "cell_type": "code",
   "execution_count": 55,
   "metadata": {},
   "outputs": [
    {
     "data": {
      "text/plain": [
       "35.0"
      ]
     },
     "execution_count": 55,
     "metadata": {},
     "output_type": "execute_result"
    }
   ],
   "source": [
    "# saving the 25% (i.e. Q1) and 75% (i.e. Q3) quantiles of our 'CNSTRCT_YR' column\n",
    "Q1 = building_df['CNSTRCT_YR'].quantile(0.25)\n",
    "Q3 = building_df['CNSTRCT_YR'].quantile(0.75)\n",
    "\n",
    "# Computing the interquartile range (IQR)\n",
    "IQR = Q3 - Q1\n",
    "\n",
    "# printing the IQR of our 'CNSTRCT_YR' column\n",
    "IQR"
   ]
  },
  {
   "cell_type": "code",
   "execution_count": 56,
   "metadata": {},
   "outputs": [
    {
     "name": "stdout",
     "output_type": "stream",
     "text": [
      "1867.5\n",
      "2007.5\n"
     ]
    }
   ],
   "source": [
    "# printing the lower 1.5*IQR whisker = Q1 - 1.5 * IQR\n",
    "print((Q1 - 1.5 * IQR))\n",
    "\n",
    "# printing the upper 1.5*IQR whisker = Q1 - 1.5 * IQR\n",
    "print((Q3 + 1.5 * IQR))"
   ]
  },
  {
   "cell_type": "markdown",
   "metadata": {},
   "source": [
    "## 4.5 Dropping Null Values for CNSTRCT_YR"
   ]
  },
  {
   "cell_type": "code",
   "execution_count": 57,
   "metadata": {
    "scrolled": true
   },
   "outputs": [
    {
     "name": "stdout",
     "output_type": "stream",
     "text": [
      "1072987\n"
     ]
    }
   ],
   "source": [
    "# dropping all records where 'CNSTRCT_YR' as nan\n",
    "building_df_dropna = building_df.dropna(subset=['CNSTRCT_YR'])\n",
    "\n",
    "# printing number of records\n",
    "print(building_df_dropna.shape[0])"
   ]
  },
  {
   "cell_type": "code",
   "execution_count": 60,
   "metadata": {},
   "outputs": [
    {
     "data": {
      "image/png": "[encoded data removed]",
      "text/plain": [
       "<Figure size 576x432 with 1 Axes>"
      ]
     },
     "metadata": {
      "needs_background": "light"
     },
     "output_type": "display_data"
    }
   ],
   "source": [
    "# making a histogram of our 'CNSTRCT_YR' column with 10 bins\n",
    "fig, ax = plt.subplots(figsize=(8, 6))\n",
    "\n",
    "building_df_dropna['CNSTRCT_YR'].hist(bins=10, ax=ax)\n",
    "\n",
    "plt.xlabel('Construction Year', fontsize=12)\n",
    "plt.ylabel('Counts', fontsize=12)\n",
    "plt.title('Histogram of Construction Year Values Excluding Nulls', fontsize=12)\n",
    "\n",
    "plt.tight_layout()"
   ]
  },
  {
   "cell_type": "markdown",
   "metadata": {},
   "source": [
    "## 4.6 Filling In Null/NA Values With Median for CNSTRCT_YR"
   ]
  },
  {
   "cell_type": "code",
   "execution_count": 61,
   "metadata": {},
   "outputs": [
    {
     "name": "stdout",
     "output_type": "stream",
     "text": [
      "number of nulls for CNSTRCT_YR: 10,360\n"
     ]
    }
   ],
   "source": [
    "# saving a new dataframe to fill nans with the median value of 'CNSTRCT_YR'\n",
    "building_df_fillna = building_df.copy()\n",
    "\n",
    "counts = building_df_fillna['CNSTRCT_YR'].isnull().sum()\n",
    "print('number of nulls for CNSTRCT_YR: {:,}'.format(counts))"
   ]
  },
  {
   "cell_type": "code",
   "execution_count": 62,
   "metadata": {},
   "outputs": [
    {
     "name": "stdout",
     "output_type": "stream",
     "text": [
      "median value of CNSTRCT_YR: 1930.0\n"
     ]
    }
   ],
   "source": [
    "median = building_df_fillna['CNSTRCT_YR'].median()\n",
    "\n",
    "print('median value of CNSTRCT_YR: {}'.format(median))"
   ]
  },
  {
   "cell_type": "code",
   "execution_count": 63,
   "metadata": {},
   "outputs": [
    {
     "data": {
      "text/html": [
       "<div>\n",
       "<style scoped>\n",
       "    .dataframe tbody tr th:only-of-type {\n",
       "        vertical-align: middle;\n",
       "    }\n",
       "\n",
       "    .dataframe tbody tr th {\n",
       "        vertical-align: top;\n",
       "    }\n",
       "\n",
       "    .dataframe thead th {\n",
       "        text-align: right;\n",
       "    }\n",
       "</style>\n",
       "<table border=\"1\" class=\"dataframe\">\n",
       "  <thead>\n",
       "    <tr style=\"text-align: right;\">\n",
       "      <th></th>\n",
       "      <th>the_geom</th>\n",
       "      <th>NAME</th>\n",
       "      <th>BIN</th>\n",
       "      <th>CNSTRCT_YR</th>\n",
       "      <th>LSTMODDATE</th>\n",
       "      <th>LSTSTATYPE</th>\n",
       "      <th>DOITT_ID</th>\n",
       "      <th>HEIGHTROOF</th>\n",
       "      <th>FEAT_CODE</th>\n",
       "      <th>GROUNDELEV</th>\n",
       "      <th>SHAPE_AREA</th>\n",
       "      <th>SHAPE_LEN</th>\n",
       "      <th>BASE_BBL</th>\n",
       "      <th>MPLUTO_BBL</th>\n",
       "      <th>GEOMSOURCE</th>\n",
       "      <th>GLOBALID</th>\n",
       "    </tr>\n",
       "  </thead>\n",
       "  <tbody>\n",
       "    <tr>\n",
       "      <th>0</th>\n",
       "      <td>MULTIPOLYGON (((-73.96664570466969 40.62599676...</td>\n",
       "      <td>NaN</td>\n",
       "      <td>3170958</td>\n",
       "      <td>1925.0</td>\n",
       "      <td>08/22/2017 12:00:00 AM</td>\n",
       "      <td>Constructed</td>\n",
       "      <td>96807</td>\n",
       "      <td>29.749853</td>\n",
       "      <td>2100</td>\n",
       "      <td>40.0</td>\n",
       "      <td>0</td>\n",
       "      <td>0</td>\n",
       "      <td>3065220021</td>\n",
       "      <td>3065220021</td>\n",
       "      <td>Photogramm</td>\n",
       "      <td>{31298F86-3088-4F53-B3DB-71A9EFA6FA1F}</td>\n",
       "    </tr>\n",
       "    <tr>\n",
       "      <th>1</th>\n",
       "      <td>MULTIPOLYGON (((-74.16790202462265 40.63936048...</td>\n",
       "      <td>NaN</td>\n",
       "      <td>5028452</td>\n",
       "      <td>1965.0</td>\n",
       "      <td>08/22/2017 12:00:00 AM</td>\n",
       "      <td>Constructed</td>\n",
       "      <td>326368</td>\n",
       "      <td>22.630000</td>\n",
       "      <td>2100</td>\n",
       "      <td>39.0</td>\n",
       "      <td>0</td>\n",
       "      <td>0</td>\n",
       "      <td>5012640036</td>\n",
       "      <td>5012640036</td>\n",
       "      <td>Photogramm</td>\n",
       "      <td>{F5F8CDA5-69E2-46F8-8F69-BA95C025B520}</td>\n",
       "    </tr>\n",
       "    <tr>\n",
       "      <th>2</th>\n",
       "      <td>MULTIPOLYGON (((-74.19510813278613 40.55610681...</td>\n",
       "      <td>NaN</td>\n",
       "      <td>5078368</td>\n",
       "      <td>1970.0</td>\n",
       "      <td>08/22/2017 12:00:00 AM</td>\n",
       "      <td>Constructed</td>\n",
       "      <td>746627</td>\n",
       "      <td>35.760000</td>\n",
       "      <td>2100</td>\n",
       "      <td>51.0</td>\n",
       "      <td>0</td>\n",
       "      <td>0</td>\n",
       "      <td>5060190091</td>\n",
       "      <td>5060190091</td>\n",
       "      <td>Photogramm</td>\n",
       "      <td>{9F644794-F72C-4582-9E5E-B337E2B97068}</td>\n",
       "    </tr>\n",
       "    <tr>\n",
       "      <th>3</th>\n",
       "      <td>MULTIPOLYGON (((-73.96113466505085 40.57743931...</td>\n",
       "      <td>NaN</td>\n",
       "      <td>3245111</td>\n",
       "      <td>1928.0</td>\n",
       "      <td>08/22/2017 12:00:00 AM</td>\n",
       "      <td>Constructed</td>\n",
       "      <td>786626</td>\n",
       "      <td>37.500000</td>\n",
       "      <td>2100</td>\n",
       "      <td>6.0</td>\n",
       "      <td>0</td>\n",
       "      <td>0</td>\n",
       "      <td>3086910048</td>\n",
       "      <td>3086910048</td>\n",
       "      <td>Photogramm</td>\n",
       "      <td>{F916B22D-E25B-44AE-9FA9-2A51191B9CDF}</td>\n",
       "    </tr>\n",
       "    <tr>\n",
       "      <th>4</th>\n",
       "      <td>MULTIPOLYGON (((-73.75421559146166 40.75591276...</td>\n",
       "      <td>NaN</td>\n",
       "      <td>4161096</td>\n",
       "      <td>1950.0</td>\n",
       "      <td>08/22/2017 12:00:00 AM</td>\n",
       "      <td>Constructed</td>\n",
       "      <td>746409</td>\n",
       "      <td>18.015113</td>\n",
       "      <td>2100</td>\n",
       "      <td>93.0</td>\n",
       "      <td>0</td>\n",
       "      <td>0</td>\n",
       "      <td>4075020005</td>\n",
       "      <td>4075020005</td>\n",
       "      <td>Photogramm</td>\n",
       "      <td>{525F2C24-616B-4F29-98A3-8FEA5D4B1A7D}</td>\n",
       "    </tr>\n",
       "  </tbody>\n",
       "</table>\n",
       "</div>"
      ],
      "text/plain": [
       "                                            the_geom NAME      BIN  \\\n",
       "0  MULTIPOLYGON (((-73.96664570466969 40.62599676...  NaN  3170958   \n",
       "1  MULTIPOLYGON (((-74.16790202462265 40.63936048...  NaN  5028452   \n",
       "2  MULTIPOLYGON (((-74.19510813278613 40.55610681...  NaN  5078368   \n",
       "3  MULTIPOLYGON (((-73.96113466505085 40.57743931...  NaN  3245111   \n",
       "4  MULTIPOLYGON (((-73.75421559146166 40.75591276...  NaN  4161096   \n",
       "\n",
       "   CNSTRCT_YR              LSTMODDATE   LSTSTATYPE  DOITT_ID  HEIGHTROOF  \\\n",
       "0      1925.0  08/22/2017 12:00:00 AM  Constructed     96807   29.749853   \n",
       "1      1965.0  08/22/2017 12:00:00 AM  Constructed    326368   22.630000   \n",
       "2      1970.0  08/22/2017 12:00:00 AM  Constructed    746627   35.760000   \n",
       "3      1928.0  08/22/2017 12:00:00 AM  Constructed    786626   37.500000   \n",
       "4      1950.0  08/22/2017 12:00:00 AM  Constructed    746409   18.015113   \n",
       "\n",
       "   FEAT_CODE  GROUNDELEV  SHAPE_AREA  SHAPE_LEN    BASE_BBL  MPLUTO_BBL  \\\n",
       "0       2100        40.0           0          0  3065220021  3065220021   \n",
       "1       2100        39.0           0          0  5012640036  5012640036   \n",
       "2       2100        51.0           0          0  5060190091  5060190091   \n",
       "3       2100         6.0           0          0  3086910048  3086910048   \n",
       "4       2100        93.0           0          0  4075020005  4075020005   \n",
       "\n",
       "   GEOMSOURCE                                GLOBALID  \n",
       "0  Photogramm  {31298F86-3088-4F53-B3DB-71A9EFA6FA1F}  \n",
       "1  Photogramm  {F5F8CDA5-69E2-46F8-8F69-BA95C025B520}  \n",
       "2  Photogramm  {9F644794-F72C-4582-9E5E-B337E2B97068}  \n",
       "3  Photogramm  {F916B22D-E25B-44AE-9FA9-2A51191B9CDF}  \n",
       "4  Photogramm  {525F2C24-616B-4F29-98A3-8FEA5D4B1A7D}  "
      ]
     },
     "execution_count": 63,
     "metadata": {},
     "output_type": "execute_result"
    }
   ],
   "source": [
    "# saving the median of our 'CNSTRCT_YR' as the name 'median'\n",
    "median = building_df_fillna['CNSTRCT_YR'].median()\n",
    "\n",
    "# filling na values in our'CNSTRCT_YR' column with the column's median value\n",
    "building_df_fillna[\"CNSTRCT_YR\"] = building_df_fillna[\"CNSTRCT_YR\"].fillna(value=median)\n",
    "building_df_fillna.head()"
   ]
  },
  {
   "cell_type": "code",
   "execution_count": 64,
   "metadata": {},
   "outputs": [
    {
     "name": "stdout",
     "output_type": "stream",
     "text": [
      "number of nulls for CNSTRCT_YR: 0\n"
     ]
    }
   ],
   "source": [
    "counts = building_df_fillna['CNSTRCT_YR'].isnull().sum()\n",
    "print('number of nulls for CNSTRCT_YR: {:,}'.format(counts))"
   ]
  },
  {
   "cell_type": "markdown",
   "metadata": {},
   "source": [
    "# 5. Analysis"
   ]
  },
  {
   "cell_type": "markdown",
   "metadata": {},
   "source": [
    "## 5.1 Trends of Year Built"
   ]
  },
  {
   "cell_type": "code",
   "execution_count": 65,
   "metadata": {},
   "outputs": [
    {
     "data": {
      "text/html": [
       "<div>\n",
       "<style scoped>\n",
       "    .dataframe tbody tr th:only-of-type {\n",
       "        vertical-align: middle;\n",
       "    }\n",
       "\n",
       "    .dataframe tbody tr th {\n",
       "        vertical-align: top;\n",
       "    }\n",
       "\n",
       "    .dataframe thead th {\n",
       "        text-align: right;\n",
       "    }\n",
       "</style>\n",
       "<table border=\"1\" class=\"dataframe\">\n",
       "  <thead>\n",
       "    <tr style=\"text-align: right;\">\n",
       "      <th></th>\n",
       "      <th>count</th>\n",
       "    </tr>\n",
       "    <tr>\n",
       "      <th>CNSTRCT_YR</th>\n",
       "      <th></th>\n",
       "    </tr>\n",
       "  </thead>\n",
       "  <tbody>\n",
       "    <tr>\n",
       "      <th>1652.0</th>\n",
       "      <td>1</td>\n",
       "    </tr>\n",
       "    <tr>\n",
       "      <th>1661.0</th>\n",
       "      <td>2</td>\n",
       "    </tr>\n",
       "    <tr>\n",
       "      <th>1680.0</th>\n",
       "      <td>1</td>\n",
       "    </tr>\n",
       "    <tr>\n",
       "      <th>1690.0</th>\n",
       "      <td>1</td>\n",
       "    </tr>\n",
       "    <tr>\n",
       "      <th>1694.0</th>\n",
       "      <td>1</td>\n",
       "    </tr>\n",
       "    <tr>\n",
       "      <th>...</th>\n",
       "      <td>...</td>\n",
       "    </tr>\n",
       "    <tr>\n",
       "      <th>2020.0</th>\n",
       "      <td>1594</td>\n",
       "    </tr>\n",
       "    <tr>\n",
       "      <th>2021.0</th>\n",
       "      <td>1455</td>\n",
       "    </tr>\n",
       "    <tr>\n",
       "      <th>2022.0</th>\n",
       "      <td>1536</td>\n",
       "    </tr>\n",
       "    <tr>\n",
       "      <th>2023.0</th>\n",
       "      <td>854</td>\n",
       "    </tr>\n",
       "    <tr>\n",
       "      <th>2024.0</th>\n",
       "      <td>45</td>\n",
       "    </tr>\n",
       "  </tbody>\n",
       "</table>\n",
       "<p>251 rows × 1 columns</p>\n",
       "</div>"
      ],
      "text/plain": [
       "            count\n",
       "CNSTRCT_YR       \n",
       "1652.0          1\n",
       "1661.0          2\n",
       "1680.0          1\n",
       "1690.0          1\n",
       "1694.0          1\n",
       "...           ...\n",
       "2020.0       1594\n",
       "2021.0       1455\n",
       "2022.0       1536\n",
       "2023.0        854\n",
       "2024.0         45\n",
       "\n",
       "[251 rows x 1 columns]"
      ]
     },
     "execution_count": 65,
     "metadata": {},
     "output_type": "execute_result"
    }
   ],
   "source": [
    "# returning number of buildings by year as 'g'\n",
    "g = (\n",
    "    building_df_dropna\n",
    "     .groupby('CNSTRCT_YR')['DOITT_ID']\n",
    "     .count()\n",
    "     .reset_index()\n",
    "     .rename({'DOITT_ID': 'count'}, axis=1)\n",
    "     .set_index('CNSTRCT_YR', drop=True)\n",
    ")\n",
    "\n",
    "g"
   ]
  },
  {
   "cell_type": "code",
   "execution_count": 66,
   "metadata": {},
   "outputs": [
    {
     "data": {
      "text/html": [
       "<div>\n",
       "<style scoped>\n",
       "    .dataframe tbody tr th:only-of-type {\n",
       "        vertical-align: middle;\n",
       "    }\n",
       "\n",
       "    .dataframe tbody tr th {\n",
       "        vertical-align: top;\n",
       "    }\n",
       "\n",
       "    .dataframe thead th {\n",
       "        text-align: right;\n",
       "    }\n",
       "</style>\n",
       "<table border=\"1\" class=\"dataframe\">\n",
       "  <thead>\n",
       "    <tr style=\"text-align: right;\">\n",
       "      <th></th>\n",
       "      <th>count</th>\n",
       "    </tr>\n",
       "    <tr>\n",
       "      <th>CNSTRCT_YR</th>\n",
       "      <th></th>\n",
       "    </tr>\n",
       "  </thead>\n",
       "  <tbody>\n",
       "    <tr>\n",
       "      <th>1652</th>\n",
       "      <td>1</td>\n",
       "    </tr>\n",
       "    <tr>\n",
       "      <th>1661</th>\n",
       "      <td>2</td>\n",
       "    </tr>\n",
       "    <tr>\n",
       "      <th>1680</th>\n",
       "      <td>1</td>\n",
       "    </tr>\n",
       "    <tr>\n",
       "      <th>1690</th>\n",
       "      <td>1</td>\n",
       "    </tr>\n",
       "    <tr>\n",
       "      <th>1694</th>\n",
       "      <td>1</td>\n",
       "    </tr>\n",
       "  </tbody>\n",
       "</table>\n",
       "</div>"
      ],
      "text/plain": [
       "            count\n",
       "CNSTRCT_YR       \n",
       "1652            1\n",
       "1661            2\n",
       "1680            1\n",
       "1690            1\n",
       "1694            1"
      ]
     },
     "execution_count": 66,
     "metadata": {},
     "output_type": "execute_result"
    }
   ],
   "source": [
    "# set index to int\n",
    "g.index = g.index.astype('int64')\n",
    "\n",
    "g.head()"
   ]
  },
  {
   "cell_type": "code",
   "execution_count": 67,
   "metadata": {},
   "outputs": [
    {
     "data": {
      "image/png": "[encoded data removed]",
      "text/plain": [
       "<Figure size 576x432 with 1 Axes>"
      ]
     },
     "metadata": {
      "needs_background": "light"
     },
     "output_type": "display_data"
    }
   ],
   "source": [
    "fig, ax = plt.subplots(figsize=(8, 6))\n",
    "\n",
    "# plotting line chart of number of buildings by 'CNSTRCT_YR'\n",
    "ax.plot(g['count'], linewidth=2)\n",
    "\n",
    "plt.xlabel('Construction Year', fontsize=12)\n",
    "plt.ylabel('Number of Buildings', fontsize=12)\n",
    "plt.title('Number of Buildings by Construction Year in NYC', fontsize=12)\n",
    "\n",
    "plt.tight_layout()"
   ]
  },
  {
   "cell_type": "code",
   "execution_count": 68,
   "metadata": {},
   "outputs": [
    {
     "data": {
      "text/html": [
       "<div>\n",
       "<style scoped>\n",
       "    .dataframe tbody tr th:only-of-type {\n",
       "        vertical-align: middle;\n",
       "    }\n",
       "\n",
       "    .dataframe tbody tr th {\n",
       "        vertical-align: top;\n",
       "    }\n",
       "\n",
       "    .dataframe thead th {\n",
       "        text-align: right;\n",
       "    }\n",
       "</style>\n",
       "<table border=\"1\" class=\"dataframe\">\n",
       "  <thead>\n",
       "    <tr style=\"text-align: right;\">\n",
       "      <th></th>\n",
       "      <th>count</th>\n",
       "    </tr>\n",
       "    <tr>\n",
       "      <th>CNSTRCT_YR</th>\n",
       "      <th></th>\n",
       "    </tr>\n",
       "  </thead>\n",
       "  <tbody>\n",
       "    <tr>\n",
       "      <th>1900</th>\n",
       "      <td>7580</td>\n",
       "    </tr>\n",
       "    <tr>\n",
       "      <th>1901</th>\n",
       "      <td>26368</td>\n",
       "    </tr>\n",
       "    <tr>\n",
       "      <th>1902</th>\n",
       "      <td>502</td>\n",
       "    </tr>\n",
       "    <tr>\n",
       "      <th>1903</th>\n",
       "      <td>526</td>\n",
       "    </tr>\n",
       "    <tr>\n",
       "      <th>1904</th>\n",
       "      <td>575</td>\n",
       "    </tr>\n",
       "  </tbody>\n",
       "</table>\n",
       "</div>"
      ],
      "text/plain": [
       "            count\n",
       "CNSTRCT_YR       \n",
       "1900         7580\n",
       "1901        26368\n",
       "1902          502\n",
       "1903          526\n",
       "1904          575"
      ]
     },
     "execution_count": 68,
     "metadata": {},
     "output_type": "execute_result"
    }
   ],
   "source": [
    "# previewing number of buildings constructed after 1900\n",
    "g.loc[g.index >= 1900].head()"
   ]
  },
  {
   "cell_type": "code",
   "execution_count": 69,
   "metadata": {},
   "outputs": [
    {
     "data": {
      "image/png": "[encoded data removed]",
      "text/plain": [
       "<Figure size 576x432 with 1 Axes>"
      ]
     },
     "metadata": {
      "needs_background": "light"
     },
     "output_type": "display_data"
    }
   ],
   "source": [
    "fig, ax = plt.subplots(figsize=(8, 6))\n",
    "\n",
    "# plotting line chart of number of buildings by 'CNSTRCT_YR' built after 1900\n",
    "ax.plot(g.loc[g.index >= 1900], linewidth=2)\n",
    "\n",
    "plt.xlabel('Construction Year', fontsize=12)\n",
    "plt.ylabel('Number of Buildings', fontsize=12)\n",
    "plt.title('Number of Buildings by Construction Year Built After 1900 in NYC', fontsize=12)\n",
    "\n",
    "plt.tight_layout()"
   ]
  },
  {
   "cell_type": "code",
   "execution_count": 70,
   "metadata": {},
   "outputs": [
    {
     "data": {
      "text/html": [
       "<div>\n",
       "<style scoped>\n",
       "    .dataframe tbody tr th:only-of-type {\n",
       "        vertical-align: middle;\n",
       "    }\n",
       "\n",
       "    .dataframe tbody tr th {\n",
       "        vertical-align: top;\n",
       "    }\n",
       "\n",
       "    .dataframe thead th {\n",
       "        text-align: right;\n",
       "    }\n",
       "</style>\n",
       "<table border=\"1\" class=\"dataframe\">\n",
       "  <thead>\n",
       "    <tr style=\"text-align: right;\">\n",
       "      <th></th>\n",
       "      <th>count</th>\n",
       "      <th>cumsum</th>\n",
       "    </tr>\n",
       "    <tr>\n",
       "      <th>CNSTRCT_YR</th>\n",
       "      <th></th>\n",
       "      <th></th>\n",
       "    </tr>\n",
       "  </thead>\n",
       "  <tbody>\n",
       "    <tr>\n",
       "      <th>1652</th>\n",
       "      <td>1</td>\n",
       "      <td>1</td>\n",
       "    </tr>\n",
       "    <tr>\n",
       "      <th>1661</th>\n",
       "      <td>2</td>\n",
       "      <td>3</td>\n",
       "    </tr>\n",
       "    <tr>\n",
       "      <th>1680</th>\n",
       "      <td>1</td>\n",
       "      <td>4</td>\n",
       "    </tr>\n",
       "    <tr>\n",
       "      <th>1690</th>\n",
       "      <td>1</td>\n",
       "      <td>5</td>\n",
       "    </tr>\n",
       "    <tr>\n",
       "      <th>1694</th>\n",
       "      <td>1</td>\n",
       "      <td>6</td>\n",
       "    </tr>\n",
       "  </tbody>\n",
       "</table>\n",
       "</div>"
      ],
      "text/plain": [
       "            count  cumsum\n",
       "CNSTRCT_YR               \n",
       "1652            1       1\n",
       "1661            2       3\n",
       "1680            1       4\n",
       "1690            1       5\n",
       "1694            1       6"
      ]
     },
     "execution_count": 70,
     "metadata": {},
     "output_type": "execute_result"
    }
   ],
   "source": [
    "# calculating the cumulative sum of buildings by 'CNSTRCT_YR'\n",
    "g['cumsum'] = g['count'].cumsum()\n",
    "\n",
    "# previewing first five rows\n",
    "g.head()"
   ]
  },
  {
   "cell_type": "code",
   "execution_count": 72,
   "metadata": {},
   "outputs": [
    {
     "data": {
      "image/png": "[encoded data removed]",
      "text/plain": [
       "<Figure size 576x432 with 1 Axes>"
      ]
     },
     "metadata": {
      "needs_background": "light"
     },
     "output_type": "display_data"
    }
   ],
   "source": [
    "fig, ax = plt.subplots(figsize=(8,6))\n",
    "\n",
    "# plotting line chart of cumulative number of buildings by 'CNSTRCT_YR'\n",
    "ax.plot(g['cumsum'], linewidth=2)\n",
    "\n",
    "plt.xlabel('Construction Year', fontsize=12)\n",
    "plt.ylabel('Cumulative Number of Buildings', fontsize=12)\n",
    "plt.title('Cumulative Number of Buildings by Construction Year in NYC', fontsize=12)\n",
    "\n",
    "plt.tight_layout()"
   ]
  },
  {
   "cell_type": "code",
   "execution_count": 73,
   "metadata": {},
   "outputs": [
    {
     "data": {
      "image/png": "[encoded data removed]",
      "text/plain": [
       "<Figure size 576x432 with 1 Axes>"
      ]
     },
     "metadata": {
      "needs_background": "light"
     },
     "output_type": "display_data"
    }
   ],
   "source": [
    "fig, ax = plt.subplots(figsize=(8, 6))\n",
    "\n",
    "# plotting line chart of cumulative number of buildings by 'CNSTRCT_YR' built after 1900\n",
    "ax.plot(g.loc[g.index >= 1900, ['cumsum']], linewidth=2)\n",
    "\n",
    "plt.xlabel('Construction Year', fontsize=12)\n",
    "plt.ylabel('Cumulative Number of Buildings', fontsize=12)\n",
    "plt.title('Cumulative Number of Buildings by Construction Year Built After 1900 in NYC', fontsize=12)\n",
    "\n",
    "plt.tight_layout()"
   ]
  },
  {
   "cell_type": "markdown",
   "metadata": {},
   "source": [
    "## 5.2 Attempting to identify the oldest building in the dataset"
   ]
  },
  {
   "cell_type": "code",
   "execution_count": 74,
   "metadata": {
    "scrolled": false
   },
   "outputs": [
    {
     "data": {
      "text/html": [
       "<div>\n",
       "<style scoped>\n",
       "    .dataframe tbody tr th:only-of-type {\n",
       "        vertical-align: middle;\n",
       "    }\n",
       "\n",
       "    .dataframe tbody tr th {\n",
       "        vertical-align: top;\n",
       "    }\n",
       "\n",
       "    .dataframe thead th {\n",
       "        text-align: right;\n",
       "    }\n",
       "</style>\n",
       "<table border=\"1\" class=\"dataframe\">\n",
       "  <thead>\n",
       "    <tr style=\"text-align: right;\">\n",
       "      <th></th>\n",
       "      <th>the_geom</th>\n",
       "      <th>NAME</th>\n",
       "      <th>BIN</th>\n",
       "      <th>CNSTRCT_YR</th>\n",
       "      <th>LSTMODDATE</th>\n",
       "      <th>LSTSTATYPE</th>\n",
       "      <th>DOITT_ID</th>\n",
       "      <th>HEIGHTROOF</th>\n",
       "      <th>FEAT_CODE</th>\n",
       "      <th>GROUNDELEV</th>\n",
       "      <th>SHAPE_AREA</th>\n",
       "      <th>SHAPE_LEN</th>\n",
       "      <th>BASE_BBL</th>\n",
       "      <th>MPLUTO_BBL</th>\n",
       "      <th>GEOMSOURCE</th>\n",
       "      <th>GLOBALID</th>\n",
       "    </tr>\n",
       "  </thead>\n",
       "  <tbody>\n",
       "    <tr>\n",
       "      <th>956312</th>\n",
       "      <td>MULTIPOLYGON (((-73.92083460429942 40.64439765...</td>\n",
       "      <td>Pieter Claesen Wyckoff House</td>\n",
       "      <td>3221967</td>\n",
       "      <td>1652.0</td>\n",
       "      <td>01/28/2020 12:00:00 AM</td>\n",
       "      <td>Constructed</td>\n",
       "      <td>550741</td>\n",
       "      <td>24.54</td>\n",
       "      <td>2100</td>\n",
       "      <td>14.0</td>\n",
       "      <td>0</td>\n",
       "      <td>0</td>\n",
       "      <td>3079170009</td>\n",
       "      <td>3079170009</td>\n",
       "      <td>Photogramm</td>\n",
       "      <td>{5CAA55A5-5C4F-4F2B-B738-EB17A488BD84}</td>\n",
       "    </tr>\n",
       "    <tr>\n",
       "      <th>710956</th>\n",
       "      <td>MULTIPOLYGON (((-73.8247828135812 40.762948467...</td>\n",
       "      <td>Bowne House</td>\n",
       "      <td>4113403</td>\n",
       "      <td>1661.0</td>\n",
       "      <td>08/22/2017 12:00:00 AM</td>\n",
       "      <td>Constructed</td>\n",
       "      <td>776399</td>\n",
       "      <td>26.12</td>\n",
       "      <td>2100</td>\n",
       "      <td>64.0</td>\n",
       "      <td>0</td>\n",
       "      <td>0</td>\n",
       "      <td>4050130006</td>\n",
       "      <td>4050130006</td>\n",
       "      <td>Photogramm</td>\n",
       "      <td>{71A760A6-6D2F-48F8-8C93-C8B66071B868}</td>\n",
       "    </tr>\n",
       "    <tr>\n",
       "      <th>52887</th>\n",
       "      <td>MULTIPOLYGON (((-74.25311647359251 40.50309522...</td>\n",
       "      <td>Conference House</td>\n",
       "      <td>5087656</td>\n",
       "      <td>1680.0</td>\n",
       "      <td>04/13/2020 12:00:00 AM</td>\n",
       "      <td>Constructed</td>\n",
       "      <td>702698</td>\n",
       "      <td>38.64</td>\n",
       "      <td>2100</td>\n",
       "      <td>38.0</td>\n",
       "      <td>0</td>\n",
       "      <td>0</td>\n",
       "      <td>5078570090</td>\n",
       "      <td>5078570090</td>\n",
       "      <td>Photogramm</td>\n",
       "      <td>{CB13BCBA-9DF3-4455-9206-824FE91F2EDE}</td>\n",
       "    </tr>\n",
       "    <tr>\n",
       "      <th>522025</th>\n",
       "      <td>MULTIPOLYGON (((-74.06293248238293 40.61512359...</td>\n",
       "      <td>Alice Austen House Museum</td>\n",
       "      <td>5042188</td>\n",
       "      <td>1690.0</td>\n",
       "      <td>04/13/2020 12:00:00 AM</td>\n",
       "      <td>Alteration</td>\n",
       "      <td>806241</td>\n",
       "      <td>22.26</td>\n",
       "      <td>2100</td>\n",
       "      <td>21.0</td>\n",
       "      <td>0</td>\n",
       "      <td>0</td>\n",
       "      <td>5028300049</td>\n",
       "      <td>5028300049</td>\n",
       "      <td>Photogramm</td>\n",
       "      <td>{93B1CB7B-BE72-40DB-9B66-01E92DF4AE6E}</td>\n",
       "    </tr>\n",
       "    <tr>\n",
       "      <th>504224</th>\n",
       "      <td>MULTIPOLYGON (((-74.01121069434295 40.70334382...</td>\n",
       "      <td>Fraunces Tavern</td>\n",
       "      <td>1078965</td>\n",
       "      <td>1719.0</td>\n",
       "      <td>01/28/2020 12:00:00 AM</td>\n",
       "      <td>Constructed</td>\n",
       "      <td>299639</td>\n",
       "      <td>47.83</td>\n",
       "      <td>2100</td>\n",
       "      <td>7.0</td>\n",
       "      <td>0</td>\n",
       "      <td>0</td>\n",
       "      <td>1000070035</td>\n",
       "      <td>1000070035</td>\n",
       "      <td>Photogramm</td>\n",
       "      <td>{4B8DF813-9EAD-402A-81D9-58ECCB4ED502}</td>\n",
       "    </tr>\n",
       "  </tbody>\n",
       "</table>\n",
       "</div>"
      ],
      "text/plain": [
       "                                                 the_geom  \\\n",
       "956312  MULTIPOLYGON (((-73.92083460429942 40.64439765...   \n",
       "710956  MULTIPOLYGON (((-73.8247828135812 40.762948467...   \n",
       "52887   MULTIPOLYGON (((-74.25311647359251 40.50309522...   \n",
       "522025  MULTIPOLYGON (((-74.06293248238293 40.61512359...   \n",
       "504224  MULTIPOLYGON (((-74.01121069434295 40.70334382...   \n",
       "\n",
       "                                NAME      BIN  CNSTRCT_YR  \\\n",
       "956312  Pieter Claesen Wyckoff House  3221967      1652.0   \n",
       "710956                   Bowne House  4113403      1661.0   \n",
       "52887               Conference House  5087656      1680.0   \n",
       "522025     Alice Austen House Museum  5042188      1690.0   \n",
       "504224               Fraunces Tavern  1078965      1719.0   \n",
       "\n",
       "                    LSTMODDATE   LSTSTATYPE  DOITT_ID  HEIGHTROOF  FEAT_CODE  \\\n",
       "956312  01/28/2020 12:00:00 AM  Constructed    550741       24.54       2100   \n",
       "710956  08/22/2017 12:00:00 AM  Constructed    776399       26.12       2100   \n",
       "52887   04/13/2020 12:00:00 AM  Constructed    702698       38.64       2100   \n",
       "522025  04/13/2020 12:00:00 AM   Alteration    806241       22.26       2100   \n",
       "504224  01/28/2020 12:00:00 AM  Constructed    299639       47.83       2100   \n",
       "\n",
       "        GROUNDELEV  SHAPE_AREA  SHAPE_LEN    BASE_BBL  MPLUTO_BBL  GEOMSOURCE  \\\n",
       "956312        14.0           0          0  3079170009  3079170009  Photogramm   \n",
       "710956        64.0           0          0  4050130006  4050130006  Photogramm   \n",
       "52887         38.0           0          0  5078570090  5078570090  Photogramm   \n",
       "522025        21.0           0          0  5028300049  5028300049  Photogramm   \n",
       "504224         7.0           0          0  1000070035  1000070035  Photogramm   \n",
       "\n",
       "                                      GLOBALID  \n",
       "956312  {5CAA55A5-5C4F-4F2B-B738-EB17A488BD84}  \n",
       "710956  {71A760A6-6D2F-48F8-8C93-C8B66071B868}  \n",
       "52887   {CB13BCBA-9DF3-4455-9206-824FE91F2EDE}  \n",
       "522025  {93B1CB7B-BE72-40DB-9B66-01E92DF4AE6E}  \n",
       "504224  {4B8DF813-9EAD-402A-81D9-58ECCB4ED502}  "
      ]
     },
     "execution_count": 74,
     "metadata": {},
     "output_type": "execute_result"
    }
   ],
   "source": [
    "# sorting by the 'CNSTRCT_YR' in ascending order and \n",
    "# dropping records that don't have a building name (i.e. NAME)\n",
    "\n",
    "(building_df\n",
    " .sort_values(by='CNSTRCT_YR')\n",
    " .dropna(subset=['NAME'])\n",
    " .head()\n",
    ")"
   ]
  },
  {
   "cell_type": "code",
   "execution_count": 75,
   "metadata": {},
   "outputs": [
    {
     "data": {
      "text/html": [
       "<div>\n",
       "<style scoped>\n",
       "    .dataframe tbody tr th:only-of-type {\n",
       "        vertical-align: middle;\n",
       "    }\n",
       "\n",
       "    .dataframe tbody tr th {\n",
       "        vertical-align: top;\n",
       "    }\n",
       "\n",
       "    .dataframe thead th {\n",
       "        text-align: right;\n",
       "    }\n",
       "</style>\n",
       "<table border=\"1\" class=\"dataframe\">\n",
       "  <thead>\n",
       "    <tr style=\"text-align: right;\">\n",
       "      <th></th>\n",
       "      <th>the_geom</th>\n",
       "      <th>NAME</th>\n",
       "      <th>BIN</th>\n",
       "      <th>CNSTRCT_YR</th>\n",
       "      <th>LSTMODDATE</th>\n",
       "      <th>LSTSTATYPE</th>\n",
       "      <th>DOITT_ID</th>\n",
       "      <th>HEIGHTROOF</th>\n",
       "      <th>FEAT_CODE</th>\n",
       "      <th>GROUNDELEV</th>\n",
       "      <th>SHAPE_AREA</th>\n",
       "      <th>SHAPE_LEN</th>\n",
       "      <th>BASE_BBL</th>\n",
       "      <th>MPLUTO_BBL</th>\n",
       "      <th>GEOMSOURCE</th>\n",
       "      <th>GLOBALID</th>\n",
       "    </tr>\n",
       "  </thead>\n",
       "  <tbody>\n",
       "    <tr>\n",
       "      <th>956312</th>\n",
       "      <td>MULTIPOLYGON (((-73.92083460429942 40.64439765...</td>\n",
       "      <td>Pieter Claesen Wyckoff House</td>\n",
       "      <td>3221967</td>\n",
       "      <td>1652.0</td>\n",
       "      <td>01/28/2020 12:00:00 AM</td>\n",
       "      <td>Constructed</td>\n",
       "      <td>550741</td>\n",
       "      <td>24.54</td>\n",
       "      <td>2100</td>\n",
       "      <td>14.0</td>\n",
       "      <td>0</td>\n",
       "      <td>0</td>\n",
       "      <td>3079170009</td>\n",
       "      <td>3079170009</td>\n",
       "      <td>Photogramm</td>\n",
       "      <td>{5CAA55A5-5C4F-4F2B-B738-EB17A488BD84}</td>\n",
       "    </tr>\n",
       "  </tbody>\n",
       "</table>\n",
       "</div>"
      ],
      "text/plain": [
       "                                                 the_geom  \\\n",
       "956312  MULTIPOLYGON (((-73.92083460429942 40.64439765...   \n",
       "\n",
       "                                NAME      BIN  CNSTRCT_YR  \\\n",
       "956312  Pieter Claesen Wyckoff House  3221967      1652.0   \n",
       "\n",
       "                    LSTMODDATE   LSTSTATYPE  DOITT_ID  HEIGHTROOF  FEAT_CODE  \\\n",
       "956312  01/28/2020 12:00:00 AM  Constructed    550741       24.54       2100   \n",
       "\n",
       "        GROUNDELEV  SHAPE_AREA  SHAPE_LEN    BASE_BBL  MPLUTO_BBL  GEOMSOURCE  \\\n",
       "956312        14.0           0          0  3079170009  3079170009  Photogramm   \n",
       "\n",
       "                                      GLOBALID  \n",
       "956312  {5CAA55A5-5C4F-4F2B-B738-EB17A488BD84}  "
      ]
     },
     "execution_count": 75,
     "metadata": {},
     "output_type": "execute_result"
    }
   ],
   "source": [
    "# identifying the oldest building with a building name in this dataset and\n",
    "oldest = (\n",
    "    building_df\n",
    "    .sort_values(by='CNSTRCT_YR')\n",
    "    .dropna(subset=['NAME'])\n",
    "    .head(1)\n",
    ")\n",
    "\n",
    "oldest"
   ]
  },
  {
   "cell_type": "markdown",
   "metadata": {},
   "source": [
    "### We will use the Pieter Claesen Wyckoff House as the oldest building in this dataset"
   ]
  },
  {
   "cell_type": "markdown",
   "metadata": {},
   "source": [
    "**Screenshot of Pieter Claesen Wyckoff House from Wikipedia:**\n",
    "\n",
    "https://en.wikipedia.org/wiki/Wyckoff_House"
   ]
  },
  {
   "cell_type": "markdown",
   "metadata": {},
   "source": [
    "![Pieter-Claesen-Wyckoff-House](images/Pieter-Claesen-Wyckoff-House.png)"
   ]
  },
  {
   "cell_type": "markdown",
   "metadata": {},
   "source": [
    "# 6. Conclusion"
   ]
  },
  {
   "cell_type": "markdown",
   "metadata": {},
   "source": [
    "In this notebook, we reviewed various ways to inspect, clean, wrangle, and detect outliers in your data.  Specifically, we focused on ways to inspect the shape (number of rows, columns) of your data, fill in or replace incorrect values with the median, and detect outliers with box plots. This step is crucial if you are interested in modeling or predicting future values. In Part III, we will focus on data visualization."
   ]
  }
 ],
 "metadata": {
  "kernelspec": {
   "display_name": "Python 3 (ipykernel)",
   "language": "python",
   "name": "python3"
  },
  "language_info": {
   "codemirror_mode": {
    "name": "ipython",
    "version": 3
   },
   "file_extension": ".py",
   "mimetype": "text/x-python",
   "name": "python",
   "nbconvert_exporter": "python",
   "pygments_lexer": "ipython3",
   "version": "3.8.13"
  }
 },
 "nbformat": 4,
 "nbformat_minor": 2
}
