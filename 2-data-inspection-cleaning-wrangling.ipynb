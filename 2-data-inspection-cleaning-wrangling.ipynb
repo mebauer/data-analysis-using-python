{
 "cells": [
  {
   "cell_type": "markdown",
   "metadata": {},
   "source": [
    "# Data Analysis Using Python: A Beginner’s Guide Featuring NYC Open Data  \n",
    "## Part 2: Data Inspection, Cleaning and Wrangling in Python\n",
    "\n",
    "Mark Bauer"
   ]
  },
  {
   "cell_type": "markdown",
   "metadata": {},
   "source": [
    "Table of Contents\n",
    "=================\n",
    "\n",
    "   Getting Started\n",
    "          \n",
    "   1. Importing Libraries \n",
    "   2. Reading in Data as a pandas Dataframe      \n",
    "   3. Data Inspection\n",
    "       * 3.1 Previewing Data\n",
    "       * 3.2 Calculating Summary Statistics\n",
    "       * 3.3 Identifying Null Values \n",
    "   4. Data Cleaning & Wrangling\n",
    "       * 4.1 Previewing Column Values\n",
    "       * 4.2 Exploring Distribution of Values\n",
    "       * 4.3 Making a Box Plot\n",
    "       * 4.4 Calculating Interquartile Range (IQR)\n",
    "       * 4.5 Dropping Null Values\n",
    "       * 4.6 Replacing Null Values   \n",
    "   5. Analysis\n",
    "       * 5.1. Timeseries of Year Built\n",
    "       * 5.2. Attempting to Identify the Oldest Building in NYC   \n",
    "   6. Conclusion"
   ]
  },
  {
   "cell_type": "markdown",
   "metadata": {},
   "source": [
    "**Goal:** In this notebook, we will review various ways to to inspect, clean, wrangle, and detect outliers in your data.\n",
    "\n",
    "**Main Library:** [pandas](https://pandas.pydata.org/) is a fast, powerful, flexible and easy to use open source data analysis and manipulation tool, built on top of the Python programming language."
   ]
  },
  {
   "cell_type": "markdown",
   "metadata": {},
   "source": [
    "# Getting Started: Accessing the Building Footprints Dataset"
   ]
  },
  {
   "cell_type": "markdown",
   "metadata": {},
   "source": [
    "## Reading in data as CSV in static form\n",
    "\n",
    "Copy this link address shown below:"
   ]
  },
  {
   "cell_type": "markdown",
   "metadata": {},
   "source": [
    "![building_footprints_csv](images/building-footprints-csv.png)"
   ]
  },
  {
   "cell_type": "markdown",
   "metadata": {},
   "source": [
    "### Dataset Web Page Link: \n",
    "https://data.cityofnewyork.us/Housing-Development/Building-Footprints/nqwf-w8eh\n",
    "\n",
    "### Documentation/Metadata: \n",
    "https://github.com/CityOfNewYork/nyc-geo-metadata/blob/master/Metadata/Metadata_BuildingFootprints.md"
   ]
  },
  {
   "cell_type": "markdown",
   "metadata": {},
   "source": [
    "### Attribute Information:\n",
    "---------------------------------------------\n",
    "| Attribute | Description | Field Type | Sensitive Field (Y/N) | Notes| \n",
    "|------------ | ------------- | -------- | ----------- | ----------|\n",
    "| BASE_BBL | Borough, block, and lot number for the tax lot that the footprint is physically located within. | text | No\n",
    "| MPLUTO_BBL | Borough, block, and lot number to be used for joining the building footprints data to DCP's MapPLUTO data, which aggregates data for condominium buildings using DOF's billing BBL. For non-condominium buildings the billing BBL is the same as the BASE_BBL. For condominium buildings the billing BBL may be the same for multiple buildings on different physical tax lots if they are part of the same billing unit for DOF purposes. | text | No\n",
    "| BIN | Building Identification Number. A number assigned by City Planning and used by Dept. of Buildings to reference information pertaining to an individual building. The first digit is a borough code (1 = Manhattan, 2 = The Bronx, 3 = Brooklyn, 4 = Queens, 5 = Staten Island). The remaining 6 digits are unique for buildings within that borough. In some cases where these 6 digits are all zeros (e.g. 1000000, 2000000, etc.) the BIN is unassigned or unknown. | double | No\n",
    "| NAME | Building name (limited to commonly known names). This field has not been actively maintained since the original creation of this dataset. | text | No\n",
    "| LSTMODDATE | Feature last modified date | date | No\n",
    "| LSTSTATTYPE | Feature last status type (Demolition, Alteration, Geometry, Initialization, Correction, Marked for Construction, Marked For Demolition, Constructed) | text | No\n",
    "| CNSTRCT_YR | The year construction of the building was completed. <br>Originally this column was populated using the Department of Finance Real Property Assessment Database (RPAD). Beginning in 2017 this will be the first year the completed structure is visible in available orthoimagery. Records where this is zero or NULL mean that this information was not available. | double | No\n",
    "| DOITT_ID | Unique identifier assigned by DOITT.  | double | No\n",
    "| HEIGHTROOF | Building Height is calculated as the difference from the building elevation from the Elevation point feature class and the elevation in the interpolated TIN model. This is the height of the roof above the ground elevation, NOT its height above sea level. Records where this is zero or NULL mean that this information was not available. | double | No | The units of measurement are based on the coordinate reference system used, which for all Planimetrics is New York State Plane Coordinates, Long Island East Zone, NAD83, US foot. All measurements in the attribute tables are in US foot. The building height information is updated through our planimetric updates every 4 years. In between those 4-year update cycles, DoITT manually updates building height information from a variety of sources -- (1) Final as-built heights as shown in plan drawings posted on Department of Buildings BIS website (2) EagleView Oblique imagery, direct measurements taken on photogrammetrically controlled aerial imagery (3) Cyclomedia imagery, direct measurements were taken on photogrammetrically controlled terrestrial imagery (for buildings less than 60’ tall, only)\n",
    "| FEAT_CODE | Type of Building. List of values:<br>2100 = Building<br>5100 = Building Under Construction<br>5110 = Garage<br>2110 = Skybridge<br>1001 = Gas Station Canopy<br>1002 = Storage Tank<br>1003 = Placeholder (triangle for permitted bldg)<br>1004 = Auxiliary Structure (non-addressable, not garage)<br>1005 = Temporary Structure (e.g. construction trailer) | long | No\n",
    "| GROUNDELEV | Lowest Elevation at the building ground level. Calculated from LiDAR or photogrammetrically. | double | No | The units of measurement are based on the coordinate reference system used, which for all Planimetrics is New York State Plane Coordinates, Long Island East Zone, NAD83, US foot. All measurements in the attribute tables are in US foot.\n",
    "| GEOM_SOURCE | Indicates the reference source used to add or update the feature. Photogrammetric means the feature was added or updated using photogrammetric stereo-compilation methodology. This is the most accurate update method and should conform to the ASPRS accuracy standards. Other (Manual) means the feature was added or updated by heads-up digitizing from orthophotos or approximated from a plan drawing. These features will be generally be less accurate and may not conform to the ASPRS accuracy standards. | text | No"
   ]
  },
  {
   "cell_type": "markdown",
   "metadata": {},
   "source": [
    "# 1. Importing Libraries"
   ]
  },
  {
   "cell_type": "code",
   "execution_count": 1,
   "metadata": {},
   "outputs": [],
   "source": [
    "# importing libraries\n",
    "import pandas as pd\n",
    "import numpy as np\n",
    "import matplotlib.pyplot as plt\n",
    "import matplotlib\n",
    "from matplotlib.ticker import FuncFormatter\n",
    "import seaborn as sns\n",
    "\n",
    "# to plot matplotlib figures inline on the notebook\n",
    "%matplotlib inline"
   ]
  },
  {
   "cell_type": "code",
   "execution_count": 2,
   "metadata": {},
   "outputs": [
    {
     "name": "stdout",
     "output_type": "stream",
     "text": [
      "Python implementation: CPython\n",
      "Python version       : 3.8.13\n",
      "IPython version      : 8.4.0\n",
      "\n",
      "numpy     : 1.23.1\n",
      "pandas    : 1.4.3\n",
      "matplotlib: 3.5.2\n",
      "seaborn   : 0.11.2\n",
      "\n"
     ]
    }
   ],
   "source": [
    "# Printing verions of Python modules and packages with **watermark** \n",
    "\n",
    "%load_ext watermark\n",
    "%watermark -v -p numpy,pandas,matplotlib,seaborn"
   ]
  },
  {
   "cell_type": "markdown",
   "metadata": {},
   "source": [
    "Documention for installing watermark: https://github.com/rasbt/watermark"
   ]
  },
  {
   "cell_type": "markdown",
   "metadata": {},
   "source": [
    "# 2. Reading in Data as a pandas Dataframe"
   ]
  },
  {
   "cell_type": "markdown",
   "metadata": {},
   "source": [
    "If you receive `HTTPError: HTTP Error 404: Not Found`, you need to replace the CSV link. The path might have been updated."
   ]
  },
  {
   "cell_type": "code",
   "execution_count": null,
   "metadata": {},
   "outputs": [],
   "source": [
    "# assigning the link of our data (a static csv file) as the name 'url'\n",
    "# reading in our data as a pandas dataframe called building_df\n",
    "url = 'https://data.cityofnewyork.us/api/views/qb5r-6dgf/rows.csv?accessType=DOWNLOAD'\n",
    "building_df = pd.read_csv(url)\n",
    "\n",
    "# preview the data\n",
    "building_df.head()"
   ]
  },
  {
   "cell_type": "markdown",
   "metadata": {},
   "source": [
    "# 3. Data Inspection"
   ]
  },
  {
   "cell_type": "markdown",
   "metadata": {},
   "source": [
    "## 3.1 Previewing Data"
   ]
  },
  {
   "cell_type": "code",
   "execution_count": null,
   "metadata": {},
   "outputs": [],
   "source": [
    "# previewing the first five rows\n",
    "building_df.head()"
   ]
  },
  {
   "cell_type": "code",
   "execution_count": null,
   "metadata": {},
   "outputs": [],
   "source": [
    "# previewing the last five rows\n",
    "building_df.tail()"
   ]
  },
  {
   "cell_type": "code",
   "execution_count": null,
   "metadata": {},
   "outputs": [],
   "source": [
    "# printing the shape or dimensions of our dataframe (i.e. rows, columns)\n",
    "building_df.shape"
   ]
  },
  {
   "cell_type": "code",
   "execution_count": null,
   "metadata": {},
   "outputs": [],
   "source": [
    "# more readable\n",
    "rows, columns = building_df.shape\n",
    "print('This dataset has {:,} rows and {:,} columns.'.format(rows, columns))"
   ]
  },
  {
   "cell_type": "code",
   "execution_count": null,
   "metadata": {},
   "outputs": [],
   "source": [
    "# the object's type\n",
    "type(building_df)"
   ]
  },
  {
   "cell_type": "code",
   "execution_count": null,
   "metadata": {},
   "outputs": [],
   "source": [
    "# printing the columns\n",
    "building_df.columns"
   ]
  },
  {
   "cell_type": "code",
   "execution_count": null,
   "metadata": {},
   "outputs": [],
   "source": [
    "# printing the columns of our dataframe in new line\n",
    "for col in building_df.columns:\n",
    "    print(col)"
   ]
  },
  {
   "cell_type": "code",
   "execution_count": null,
   "metadata": {},
   "outputs": [],
   "source": [
    "# printing the data types of our columns\n",
    "building_df.dtypes"
   ]
  },
  {
   "cell_type": "code",
   "execution_count": null,
   "metadata": {},
   "outputs": [],
   "source": [
    "# printing the column names, non-null counts,\n",
    "# and datatypes of our columns\n",
    "building_df.info()"
   ]
  },
  {
   "cell_type": "code",
   "execution_count": null,
   "metadata": {},
   "outputs": [],
   "source": [
    "# printing index type\n",
    "building_df.index"
   ]
  },
  {
   "cell_type": "code",
   "execution_count": null,
   "metadata": {},
   "outputs": [],
   "source": [
    "# printing True/False if column is unique on our unique key (DOITT_ID)\n",
    "unique = building_df['DOITT_ID'].is_unique\n",
    "\n",
    "print('our unique id is truly unique: {}'.format(unique))"
   ]
  },
  {
   "cell_type": "code",
   "execution_count": null,
   "metadata": {},
   "outputs": [],
   "source": [
    "# transpose index and columns of first five rows\n",
    "building_df.head().T"
   ]
  },
  {
   "cell_type": "markdown",
   "metadata": {},
   "source": [
    "## 3.2 Calculating Summary Statistics"
   ]
  },
  {
   "cell_type": "code",
   "execution_count": null,
   "metadata": {
    "scrolled": true
   },
   "outputs": [],
   "source": [
    "# printing descriptive statistics of our numeric columns\n",
    "building_df.describe()"
   ]
  },
  {
   "cell_type": "code",
   "execution_count": null,
   "metadata": {},
   "outputs": [],
   "source": [
    "# printing descriptive statistics of our non-numeric columns\n",
    "building_df.describe(include=['O'])"
   ]
  },
  {
   "cell_type": "code",
   "execution_count": null,
   "metadata": {},
   "outputs": [],
   "source": [
    "# returning the mode of our numeric columns (excluding our unique key = 'DOITT_ID')\n",
    "(building_df\n",
    " .drop(columns=['DOITT_ID'])\n",
    " .mode(numeric_only=True)\n",
    " .rename(index={0: \"mode\"})\n",
    ")"
   ]
  },
  {
   "cell_type": "code",
   "execution_count": null,
   "metadata": {},
   "outputs": [],
   "source": [
    "building_df.head()"
   ]
  },
  {
   "cell_type": "code",
   "execution_count": null,
   "metadata": {},
   "outputs": [],
   "source": [
    "# value counts of the NAME column - top 20\n",
    "(building_df['NAME']\n",
    " .value_counts()\n",
    " .head(20)\n",
    ")"
   ]
  },
  {
   "cell_type": "code",
   "execution_count": null,
   "metadata": {},
   "outputs": [],
   "source": [
    "# compute pairwise correlation of columns, excluding NA/null values\n",
    "building_df.corr()"
   ]
  },
  {
   "cell_type": "code",
   "execution_count": null,
   "metadata": {},
   "outputs": [],
   "source": [
    "# correlation in the form of heat map\n",
    "fig, ax = plt.subplots(figsize=(10,6))\n",
    "\n",
    "sns.heatmap(building_df.corr(), \n",
    "            annot=True, \n",
    "            ax=ax)\n",
    "\n",
    "plt.tight_layout()"
   ]
  },
  {
   "cell_type": "code",
   "execution_count": null,
   "metadata": {},
   "outputs": [],
   "source": [
    "# correlation in the form of heat map\n",
    "fig, ax = plt.subplots(figsize=(10,6))\n",
    "\n",
    "# dropping columns of all nulls\n",
    "cols_drop = ['SHAPE_AREA', 'SHAPE_LEN']\n",
    "corr_df = building_df.drop(columns=cols_drop)\n",
    "\n",
    "sns.heatmap(corr_df.corr(), \n",
    "            annot=True, \n",
    "            ax=ax)\n",
    "\n",
    "plt.tight_layout()"
   ]
  },
  {
   "cell_type": "markdown",
   "metadata": {},
   "source": [
    "## 3.3 Identifying Null/NA Values"
   ]
  },
  {
   "cell_type": "code",
   "execution_count": null,
   "metadata": {},
   "outputs": [],
   "source": [
    "# nulls per column\n",
    "(building_df\n",
    " .isnull()\n",
    " .sum()\n",
    ")"
   ]
  },
  {
   "cell_type": "code",
   "execution_count": null,
   "metadata": {},
   "outputs": [],
   "source": [
    "# total nulls in dataframe\n",
    "null_count = (building_df\n",
    "              .isnull()\n",
    "              .sum()\n",
    "              .sum()\n",
    "             )\n",
    "\n",
    "print('total nulls in dataframe: {:,}'.format(null_count))"
   ]
  },
  {
   "cell_type": "code",
   "execution_count": null,
   "metadata": {},
   "outputs": [],
   "source": [
    "# return a boolean same-sized object of nulls\n",
    "building_df.isnull()"
   ]
  },
  {
   "cell_type": "code",
   "execution_count": null,
   "metadata": {},
   "outputs": [],
   "source": [
    "# return a boolean if any of the values are null in column\n",
    "(building_df\n",
    " .isnull()\n",
    " .any()\n",
    ")"
   ]
  },
  {
   "cell_type": "code",
   "execution_count": null,
   "metadata": {},
   "outputs": [],
   "source": [
    "null_cols_ser = building_df.isnull().any()\n",
    "\n",
    "# locating columns by boolean 'True'\n",
    "null_cols = null_cols_ser.loc[null_cols_ser].index\n",
    "\n",
    "print('these columns have at least one null value:\\n')\n",
    "for col in null_cols:\n",
    "    print(col)"
   ]
  },
  {
   "cell_type": "code",
   "execution_count": null,
   "metadata": {},
   "outputs": [],
   "source": [
    "# calculating a percentage of the number of nulls to total number of records of each column\n",
    "missing_data = (building_df.isnull().sum() / len(building_df)) * 100\n",
    "\n",
    "# creating a dataframe\n",
    "missing_data = pd.DataFrame(missing_data, columns=['perc_missing']) \n",
    "missing_data = missing_data.sort_values(by='perc_missing', ascending=False)\n",
    "\n",
    "missing_data"
   ]
  },
  {
   "cell_type": "markdown",
   "metadata": {},
   "source": [
    "# 4. Data Cleaning & Wrangling"
   ]
  },
  {
   "cell_type": "markdown",
   "metadata": {},
   "source": [
    "We will be cleaning the **Construction Year** (i.e. CNSTRCT_YR) column, as this is the column we will be using in our analysis."
   ]
  },
  {
   "cell_type": "markdown",
   "metadata": {},
   "source": [
    "## Attribute Information for CNSTRCT_YR:\n",
    "---------------------------------------------\n",
    "| Attribute | Description | Field Type | Sensitive Field (Y/N) | Notes| \n",
    "|------------ | ------------- | -------- | ----------- | ----------|\n",
    "| CNSTRCT_YR | The year construction of the building was completed. <br>Originally this column was populated using the Department of Finance Real Property Assessment Database (RPAD). Beginning in 2017 this will be the first year the completed structure is visible in available orthoimagery. Records where this is zero or NULL mean that this information was not available. | double | No"
   ]
  },
  {
   "cell_type": "markdown",
   "metadata": {},
   "source": [
    "## 4.1 Previewing Column Values"
   ]
  },
  {
   "cell_type": "code",
   "execution_count": null,
   "metadata": {},
   "outputs": [],
   "source": [
    "# printing the object's type of a column\n",
    "type(building_df['CNSTRCT_YR'])"
   ]
  },
  {
   "cell_type": "code",
   "execution_count": null,
   "metadata": {},
   "outputs": [],
   "source": [
    "# notice the difference of type from dataframe to series\n",
    "print(type(building_df[\"CNSTRCT_YR\"]))\n",
    "print(type(building_df[[\"CNSTRCT_YR\"]]))"
   ]
  },
  {
   "cell_type": "code",
   "execution_count": null,
   "metadata": {},
   "outputs": [],
   "source": [
    "# returning a series of the 'CNSTRCT_YR' column\n",
    "building_df[\"CNSTRCT_YR\"]"
   ]
  },
  {
   "cell_type": "code",
   "execution_count": null,
   "metadata": {},
   "outputs": [],
   "source": [
    "# returning a dataframe of the 'CNSTRCT_YR' column double brackets\n",
    "building_df[[\"CNSTRCT_YR\"]]"
   ]
  },
  {
   "cell_type": "code",
   "execution_count": null,
   "metadata": {
    "scrolled": true
   },
   "outputs": [],
   "source": [
    "# first five rows sorted by the 'CNSTRCT_YR' column in ascending order\n",
    "building_df.sort_values('CNSTRCT_YR').head()"
   ]
  },
  {
   "cell_type": "code",
   "execution_count": null,
   "metadata": {},
   "outputs": [],
   "source": [
    "# first five rows sorted by the 'CNSTRCT_YR' column in descending order\n",
    "building_df.sort_values('CNSTRCT_YR', ascending=False).head()"
   ]
  },
  {
   "cell_type": "code",
   "execution_count": null,
   "metadata": {},
   "outputs": [],
   "source": [
    "# Descriptive statistics include those that summarize the central tendency, \n",
    "# dispersion and shape of a dataset's distribution, excluding ``NaN`` values.\n",
    "# reset index for readability.\n",
    "\n",
    "(building_df['CNSTRCT_YR']\n",
    " .describe()\n",
    " .reset_index()\n",
    " .rename(columns={'index': \"statistic\"})\n",
    ")"
   ]
  },
  {
   "cell_type": "code",
   "execution_count": null,
   "metadata": {},
   "outputs": [],
   "source": [
    "# printing the mode of our 'CNSTRCT_YR' column\n",
    "(building_df[['CNSTRCT_YR']]\n",
    " .mode()\n",
    " .rename({0: \"mode\"})\n",
    ")"
   ]
  },
  {
   "cell_type": "code",
   "execution_count": null,
   "metadata": {},
   "outputs": [],
   "source": [
    "# detecting any nulls in our 'CNSTRCT_YR' column\n",
    "(building_df['CNSTRCT_YR']\n",
    " .isnull()\n",
    " .values\n",
    " .any()\n",
    ")"
   ]
  },
  {
   "cell_type": "code",
   "execution_count": null,
   "metadata": {},
   "outputs": [],
   "source": [
    "# summing all the null values in our 'CNSTRCT_YR' column\n",
    "(building_df['CNSTRCT_YR']\n",
    " .isnull()\n",
    " .sum()\n",
    ")"
   ]
  },
  {
   "cell_type": "code",
   "execution_count": null,
   "metadata": {},
   "outputs": [],
   "source": [
    "# summing all the not null values in our 'CNSTRCT_YR' column\n",
    "(building_df['CNSTRCT_YR']\n",
    " .notnull()\n",
    " .sum()\n",
    ")"
   ]
  },
  {
   "cell_type": "code",
   "execution_count": null,
   "metadata": {},
   "outputs": [],
   "source": [
    "# printing the percent total of all the null values in our 'CNSTRCT_YR' column.\n",
    "nulls_sum = building_df['CNSTRCT_YR'].isnull().sum() \n",
    "nulls_perc = round(nulls_sum / len(building_df) * 100, 2)\n",
    "\n",
    "print('percent nulls: {}%'.format(nulls_perc))"
   ]
  },
  {
   "cell_type": "code",
   "execution_count": null,
   "metadata": {},
   "outputs": [],
   "source": [
    "# printing the percent total of all the not null values in our 'CNSTRCT_YR' column.\n",
    "nonnulls_sum = building_df['CNSTRCT_YR'].notnull().sum() \n",
    "nonnulls_perc = round(nonnulls_sum / len(building_df) * 100, 2)\n",
    "\n",
    "print('percent not nulls: {}%'.format(nonnulls_perc))"
   ]
  },
  {
   "cell_type": "markdown",
   "metadata": {},
   "source": [
    "## 4.2 Exploring Distribution of Values"
   ]
  },
  {
   "cell_type": "code",
   "execution_count": null,
   "metadata": {},
   "outputs": [],
   "source": [
    "# making a histogram of our 'CNSTRCT_YR' column with 25 bins\n",
    "building_df['CNSTRCT_YR'].hist(figsize=(8, 6), bins=25)\n",
    "\n",
    "# adding labels\n",
    "plt.xlabel('Construction Year', fontsize=15)\n",
    "plt.ylabel('Counts', fontsize=15) \n",
    "plt.title('Histogram of Construction Year Values', fontsize=15) \n",
    "\n",
    "plt.tight_layout()"
   ]
  },
  {
   "cell_type": "code",
   "execution_count": null,
   "metadata": {},
   "outputs": [],
   "source": [
    "# making a histogram of our 'CNSTRCT_YR' column with 50 bins\n",
    "building_df['CNSTRCT_YR'].hist(figsize=(8, 6), bins=50)\n",
    "\n",
    "plt.xlabel('Construction Year', fontsize=15)\n",
    "plt.ylabel('Counts', fontsize=15)\n",
    "plt.title('Histogram of Construction Year Values', fontsize=15)\n",
    "\n",
    "plt.tight_layout()"
   ]
  },
  {
   "cell_type": "code",
   "execution_count": null,
   "metadata": {},
   "outputs": [],
   "source": [
    "# printing skewness and kurtosis\n",
    "print(\"Skewness: {:.3f}\".format(building_df['CNSTRCT_YR'].skew()))\n",
    "print(\"Kurtosis: {:.3f}\".format(building_df['CNSTRCT_YR'].kurt()))"
   ]
  },
  {
   "cell_type": "code",
   "execution_count": null,
   "metadata": {},
   "outputs": [],
   "source": [
    "# prints the counts of values in our 'CNSTRCT_YR' column in descending order\n",
    "building_df['CNSTRCT_YR'].value_counts()"
   ]
  },
  {
   "cell_type": "code",
   "execution_count": null,
   "metadata": {},
   "outputs": [],
   "source": [
    "# counts of values sorted by the index (in this case, year) ascending order\n",
    "building_df['CNSTRCT_YR'].value_counts().sort_index()"
   ]
  },
  {
   "cell_type": "code",
   "execution_count": null,
   "metadata": {},
   "outputs": [],
   "source": [
    "# value counts of the first ten rows sorted by the index ascending order\n",
    "building_df['CNSTRCT_YR'].value_counts().sort_index(ascending=True).head(10)"
   ]
  },
  {
   "cell_type": "code",
   "execution_count": null,
   "metadata": {},
   "outputs": [],
   "source": [
    "# value counts of the first ten rows sorted by the index descending order\n",
    "building_df['CNSTRCT_YR'].value_counts().sort_index(ascending=False).head(10)"
   ]
  },
  {
   "cell_type": "markdown",
   "metadata": {},
   "source": [
    "## 4.3 Making a Box Plot"
   ]
  },
  {
   "cell_type": "code",
   "execution_count": null,
   "metadata": {},
   "outputs": [],
   "source": [
    "# previewing the first five rows\n",
    "building_df.head()"
   ]
  },
  {
   "cell_type": "code",
   "execution_count": null,
   "metadata": {
    "scrolled": false
   },
   "outputs": [],
   "source": [
    "# making a box plot from our 'CNSTRCT_YR' column\n",
    "building_df.boxplot(column=['CNSTRCT_YR'], figsize=(8,6))\n",
    "plt.title('Box Plot of Construction Year Value', fontsize=13)\n",
    "\n",
    "plt.tight_layout()"
   ]
  },
  {
   "cell_type": "markdown",
   "metadata": {},
   "source": [
    "## 4.4 Calculating Interquartile Range (IQR)"
   ]
  },
  {
   "cell_type": "code",
   "execution_count": null,
   "metadata": {},
   "outputs": [],
   "source": [
    "# printing the 25% and 75% quantiles of our 'CNSTRCT_YR' column\n",
    "print(building_df['CNSTRCT_YR'].quantile(0.25))\n",
    "print(building_df['CNSTRCT_YR'].quantile(0.75))"
   ]
  },
  {
   "cell_type": "code",
   "execution_count": null,
   "metadata": {},
   "outputs": [],
   "source": [
    "# saving the 25% (i.e. Q1) and 75% (i.e. Q3) quantiles of our 'CNSTRCT_YR' column\n",
    "Q1 = building_df['CNSTRCT_YR'].quantile(0.25)\n",
    "Q3 = building_df['CNSTRCT_YR'].quantile(0.75)\n",
    "\n",
    "# Computing the interquartile range (IQR)\n",
    "IQR = Q3 - Q1\n",
    "\n",
    "# printing the IQR of our 'CNSTRCT_YR' column\n",
    "IQR"
   ]
  },
  {
   "cell_type": "code",
   "execution_count": null,
   "metadata": {},
   "outputs": [],
   "source": [
    "# printing the lower 1.5*IQR whisker = Q1 - 1.5 * IQR\n",
    "print((Q1 - 1.5 * IQR))\n",
    "\n",
    "# printing the upper 1.5*IQR whisker = Q1 - 1.5 * IQR\n",
    "print((Q3 + 1.5 * IQR))"
   ]
  },
  {
   "cell_type": "markdown",
   "metadata": {},
   "source": [
    "## 4.5 Dropping Null Values for CNSTRCT_YR"
   ]
  },
  {
   "cell_type": "code",
   "execution_count": null,
   "metadata": {},
   "outputs": [],
   "source": [
    "# print number of rows\n",
    "len(building_df)"
   ]
  },
  {
   "cell_type": "code",
   "execution_count": null,
   "metadata": {},
   "outputs": [],
   "source": [
    "# drop null in 'CNSTRCT_YR' and then print number of rows \n",
    "len(building_df.dropna(subset=['CNSTRCT_YR']))"
   ]
  },
  {
   "cell_type": "code",
   "execution_count": null,
   "metadata": {},
   "outputs": [],
   "source": [
    "# print number of dropped records where 'CNSTRCT_YR' is null \n",
    "building_df['CNSTRCT_YR'].isnull().sum()"
   ]
  },
  {
   "cell_type": "code",
   "execution_count": null,
   "metadata": {
    "scrolled": true
   },
   "outputs": [],
   "source": [
    "# dropping all records where 'CNSTRCT_YR' as nan\n",
    "building_df_dropna = building_df.dropna(subset=['CNSTRCT_YR'])\n",
    "\n",
    "# printing number of records\n",
    "print(len(building_df_dropna))"
   ]
  },
  {
   "cell_type": "code",
   "execution_count": null,
   "metadata": {},
   "outputs": [],
   "source": [
    "# preview first five rows\n",
    "building_df_dropna.head()"
   ]
  },
  {
   "cell_type": "code",
   "execution_count": null,
   "metadata": {},
   "outputs": [],
   "source": [
    "# making a histogram of our 'CNSTRCT_YR' column with 10 bins\n",
    "building_df_dropna['CNSTRCT_YR'].hist(bins=10, figsize=(8, 6))\n",
    "\n",
    "plt.xlabel('Construction Year', fontsize=12)\n",
    "plt.ylabel('Counts', fontsize=12)\n",
    "plt.title('Histogram of Construction Year Values Excluding Nulls', fontsize=12)\n",
    "\n",
    "plt.tight_layout()"
   ]
  },
  {
   "cell_type": "markdown",
   "metadata": {},
   "source": [
    "## 4.6 Filling In Null/NA Values With Median for CNSTRCT_YR"
   ]
  },
  {
   "cell_type": "code",
   "execution_count": null,
   "metadata": {},
   "outputs": [],
   "source": [
    "# preview first five rows\n",
    "building_df.head()"
   ]
  },
  {
   "cell_type": "code",
   "execution_count": null,
   "metadata": {},
   "outputs": [],
   "source": [
    "# saving a new dataframe to fill nans with the median value of 'CNSTRCT_YR'\n",
    "building_df_fillna = building_df.copy()\n",
    "\n",
    "counts = building_df_fillna['CNSTRCT_YR'].isnull().sum()\n",
    "print('number of nulls for CNSTRCT_YR: {:,}'.format(counts))"
   ]
  },
  {
   "cell_type": "code",
   "execution_count": null,
   "metadata": {},
   "outputs": [],
   "source": [
    "median = building_df_fillna['CNSTRCT_YR'].median()\n",
    "\n",
    "print('median value of CNSTRCT_YR: {}'.format(median))"
   ]
  },
  {
   "cell_type": "code",
   "execution_count": null,
   "metadata": {},
   "outputs": [],
   "source": [
    "# saving the median of our 'CNSTRCT_YR' as the name 'median'\n",
    "median = building_df_fillna['CNSTRCT_YR'].median()\n",
    "\n",
    "# filling na values in our'CNSTRCT_YR' column with the column's median value\n",
    "building_df_fillna[\"CNSTRCT_YR\"] = building_df_fillna[\"CNSTRCT_YR\"].fillna(value=median)\n",
    "building_df_fillna.head()"
   ]
  },
  {
   "cell_type": "code",
   "execution_count": null,
   "metadata": {},
   "outputs": [],
   "source": [
    "counts = building_df_fillna['CNSTRCT_YR'].isnull().sum()\n",
    "print('number of nulls for CNSTRCT_YR: {:,}'.format(counts))"
   ]
  },
  {
   "cell_type": "markdown",
   "metadata": {},
   "source": [
    "# 5. Analysis"
   ]
  },
  {
   "cell_type": "markdown",
   "metadata": {},
   "source": [
    "## 5.1 Timeseries of Year Built"
   ]
  },
  {
   "cell_type": "code",
   "execution_count": null,
   "metadata": {},
   "outputs": [],
   "source": [
    "# returning number of buildings by year as 'g'\n",
    "g = (building_df_dropna\n",
    "     .groupby('CNSTRCT_YR')['DOITT_ID']\n",
    "     .count()\n",
    "     .reset_index()\n",
    "     .rename({'DOITT_ID': 'count'}, axis=1)\n",
    "     .set_index('CNSTRCT_YR', drop=True)\n",
    ")\n",
    "\n",
    "g"
   ]
  },
  {
   "cell_type": "code",
   "execution_count": null,
   "metadata": {},
   "outputs": [],
   "source": [
    "# set index to int\n",
    "g.index = g.index.astype('int64')\n",
    "\n",
    "g.head()"
   ]
  },
  {
   "cell_type": "code",
   "execution_count": null,
   "metadata": {},
   "outputs": [],
   "source": [
    "fig, ax = plt.subplots(figsize=(8,6))\n",
    "\n",
    "# plotting line chart of number of buildings by 'CNSTRCT_YR'\n",
    "ax.plot(g['count'], linewidth=2)\n",
    "\n",
    "plt.xlabel('Construction Year', fontsize=12)\n",
    "plt.ylabel('Number of Buildings', fontsize=12)\n",
    "plt.title('Number of Buildings by Construction Year in NYC', fontsize=12)\n",
    "\n",
    "plt.tight_layout()"
   ]
  },
  {
   "cell_type": "code",
   "execution_count": null,
   "metadata": {},
   "outputs": [],
   "source": [
    "# previewing number of buildings constructed after 1900\n",
    "g.loc[g.index >= 1900].head()"
   ]
  },
  {
   "cell_type": "code",
   "execution_count": null,
   "metadata": {},
   "outputs": [],
   "source": [
    "fig, ax = plt.subplots(figsize=(8,6))\n",
    "\n",
    "# plotting line chart of number of buildings by 'CNSTRCT_YR' built after 1900\n",
    "ax.plot(g.loc[g.index >= 1900], linewidth=2)\n",
    "\n",
    "plt.xlabel('Construction Year', fontsize=12)\n",
    "plt.ylabel('Number of Buildings', fontsize=12)\n",
    "plt.title('Number of Buildings by Construction Year Built After 1900 in NYC', fontsize=12)\n",
    "\n",
    "plt.tight_layout()"
   ]
  },
  {
   "cell_type": "code",
   "execution_count": null,
   "metadata": {},
   "outputs": [],
   "source": [
    "# calculating the cumulative sum of buildings by 'CNSTRCT_YR'\n",
    "g['cumsum'] = g['count'].cumsum()\n",
    "\n",
    "# previewing first five rows\n",
    "g.head()"
   ]
  },
  {
   "cell_type": "code",
   "execution_count": null,
   "metadata": {},
   "outputs": [],
   "source": [
    "fig, ax = plt.subplots(figsize=(8,6))\n",
    "\n",
    "# plotting line chart of cumulative number of buildings by 'CNSTRCT_YR'\n",
    "ax.plot(g['cumsum'], linewidth=2)\n",
    "\n",
    "plt.xlabel('Construction Year', fontsize=12)\n",
    "plt.ylabel('Cumulative Number of Buildings', fontsize=12)\n",
    "plt.title('Cumulative Number of Buildings by Construction Year in NYC', fontsize=12)\n",
    "\n",
    "plt.tight_layout()"
   ]
  },
  {
   "cell_type": "code",
   "execution_count": null,
   "metadata": {},
   "outputs": [],
   "source": [
    "fig, ax = plt.subplots(figsize=(8,6))\n",
    "\n",
    "# plotting line chart of cumulative number of buildings by 'CNSTRCT_YR' built after 1900\n",
    "ax.plot(g[g.index >= 1900]['cumsum'], linewidth=2)\n",
    "\n",
    "plt.xlabel('Construction Year', fontsize=12)\n",
    "plt.ylabel('Cumulative Number of Buildings', fontsize=12)\n",
    "plt.title('Cumulative Number of Buildings by Construction Year Built After 1900 in NYC', fontsize=12)\n",
    "\n",
    "plt.tight_layout()"
   ]
  },
  {
   "cell_type": "markdown",
   "metadata": {},
   "source": [
    "## 5.2 Attempting to identify the oldest building in the dataset"
   ]
  },
  {
   "cell_type": "code",
   "execution_count": null,
   "metadata": {
    "scrolled": true
   },
   "outputs": [],
   "source": [
    "# sorting by the 'CNSTRCT_YR' in ascending order and \n",
    "# dropping records that don't have a building name (i.e. NAME)\n",
    "\n",
    "(building_df\n",
    " .sort_values(by='CNSTRCT_YR')\n",
    " .dropna(subset=['NAME'])\n",
    " .head()\n",
    ")"
   ]
  },
  {
   "cell_type": "code",
   "execution_count": null,
   "metadata": {},
   "outputs": [],
   "source": [
    "# identifying the oldest building with a building name in this dataset and\n",
    "oldest = building_df.sort_values(by='CNSTRCT_YR').dropna(subset=['NAME']).head(1)\n",
    "\n",
    "oldest"
   ]
  },
  {
   "cell_type": "markdown",
   "metadata": {},
   "source": [
    "### We will use the Pieter Claesen Wyckoff House as the oldest building in this dataset"
   ]
  },
  {
   "cell_type": "markdown",
   "metadata": {},
   "source": [
    "**Screenshot of Pieter Claesen Wyckoff House from Wikipedia:**\n",
    "\n",
    "https://en.wikipedia.org/wiki/Wyckoff_House"
   ]
  },
  {
   "cell_type": "markdown",
   "metadata": {},
   "source": [
    "![Pieter-Claesen-Wyckoff-House](images/Pieter-Claesen-Wyckoff-House.png)"
   ]
  },
  {
   "cell_type": "markdown",
   "metadata": {},
   "source": [
    "# 6. Conclusion"
   ]
  },
  {
   "cell_type": "markdown",
   "metadata": {},
   "source": [
    "In this notebook, we reviewed various ways to inspect, clean, wrangle, and detect outliers in your data.  Specifically, we focused on ways to inspect the shape (number of rows, columns) of your data, fill in or replace incorrect values with the median, and detect outliers with box plots. This step is crucial if you are interested in modeling or predicting future values. In Part III, we will focus on data visualization."
   ]
  }
 ],
 "metadata": {
  "kernelspec": {
   "display_name": "Python 3 (ipykernel)",
   "language": "python",
   "name": "python3"
  },
  "language_info": {
   "codemirror_mode": {
    "name": "ipython",
    "version": 3
   },
   "file_extension": ".py",
   "mimetype": "text/x-python",
   "name": "python",
   "nbconvert_exporter": "python",
   "pygments_lexer": "ipython3",
   "version": "3.8.13"
  }
 },
 "nbformat": 4,
 "nbformat_minor": 2
}
