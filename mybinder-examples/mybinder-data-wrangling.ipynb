{
 "cells": [
  {
   "cell_type": "code",
   "execution_count": 1,
   "id": "undefined-baptist",
   "metadata": {},
   "outputs": [],
   "source": [
    "# importing libraries\n",
    "import pandas as pd"
   ]
  },
  {
   "cell_type": "markdown",
   "id": "working-valuation",
   "metadata": {},
   "source": [
    "Printing verions of Python modules and packages with **watermark** - the IPython magic extension."
   ]
  },
  {
   "cell_type": "code",
   "execution_count": 2,
   "id": "charming-stuart",
   "metadata": {},
   "outputs": [
    {
     "name": "stdout",
     "output_type": "stream",
     "text": [
      "Python implementation: CPython\n",
      "Python version       : 3.8.13\n",
      "IPython version      : 8.4.0\n",
      "\n",
      "pandas: 1.4.2\n",
      "\n"
     ]
    }
   ],
   "source": [
    "%reload_ext watermark\n",
    "%watermark -v -p pandas"
   ]
  },
  {
   "cell_type": "code",
   "execution_count": 3,
   "id": "becoming-harris",
   "metadata": {},
   "outputs": [
    {
     "name": "stdout",
     "output_type": "stream",
     "text": [
      "(1084210, 16)\n"
     ]
    },
    {
     "data": {
      "text/html": [
       "<div>\n",
       "<style scoped>\n",
       "    .dataframe tbody tr th:only-of-type {\n",
       "        vertical-align: middle;\n",
       "    }\n",
       "\n",
       "    .dataframe tbody tr th {\n",
       "        vertical-align: top;\n",
       "    }\n",
       "\n",
       "    .dataframe thead th {\n",
       "        text-align: right;\n",
       "    }\n",
       "</style>\n",
       "<table border=\"1\" class=\"dataframe\">\n",
       "  <thead>\n",
       "    <tr style=\"text-align: right;\">\n",
       "      <th></th>\n",
       "      <th>the_geom</th>\n",
       "      <th>NAME</th>\n",
       "      <th>BIN</th>\n",
       "      <th>CNSTRCT_YR</th>\n",
       "      <th>LSTMODDATE</th>\n",
       "      <th>LSTSTATYPE</th>\n",
       "      <th>DOITT_ID</th>\n",
       "      <th>HEIGHTROOF</th>\n",
       "      <th>FEAT_CODE</th>\n",
       "      <th>GROUNDELEV</th>\n",
       "      <th>SHAPE_AREA</th>\n",
       "      <th>SHAPE_LEN</th>\n",
       "      <th>BASE_BBL</th>\n",
       "      <th>MPLUTO_BBL</th>\n",
       "      <th>GEOMSOURCE</th>\n",
       "      <th>GLOBALID</th>\n",
       "    </tr>\n",
       "  </thead>\n",
       "  <tbody>\n",
       "    <tr>\n",
       "      <th>0</th>\n",
       "      <td>MULTIPOLYGON (((-73.96664570466969 40.62599676...</td>\n",
       "      <td>NaN</td>\n",
       "      <td>3170958</td>\n",
       "      <td>1925.0</td>\n",
       "      <td>08/22/2017 12:00:00 AM</td>\n",
       "      <td>Constructed</td>\n",
       "      <td>96807</td>\n",
       "      <td>29.749853</td>\n",
       "      <td>2100.0</td>\n",
       "      <td>40.0</td>\n",
       "      <td>0</td>\n",
       "      <td>0</td>\n",
       "      <td>3065220021</td>\n",
       "      <td>3065220021</td>\n",
       "      <td>Photogramm</td>\n",
       "      <td>{31298F86-3088-4F53-B3DB-71A9EFA6FA1F}</td>\n",
       "    </tr>\n",
       "    <tr>\n",
       "      <th>1</th>\n",
       "      <td>MULTIPOLYGON (((-74.16790202462265 40.63936048...</td>\n",
       "      <td>NaN</td>\n",
       "      <td>5028452</td>\n",
       "      <td>1965.0</td>\n",
       "      <td>08/22/2017 12:00:00 AM</td>\n",
       "      <td>Constructed</td>\n",
       "      <td>326368</td>\n",
       "      <td>22.630000</td>\n",
       "      <td>2100.0</td>\n",
       "      <td>39.0</td>\n",
       "      <td>0</td>\n",
       "      <td>0</td>\n",
       "      <td>5012640036</td>\n",
       "      <td>5012640036</td>\n",
       "      <td>Photogramm</td>\n",
       "      <td>{F5F8CDA5-69E2-46F8-8F69-BA95C025B520}</td>\n",
       "    </tr>\n",
       "    <tr>\n",
       "      <th>2</th>\n",
       "      <td>MULTIPOLYGON (((-74.19510813278613 40.55610681...</td>\n",
       "      <td>NaN</td>\n",
       "      <td>5078368</td>\n",
       "      <td>1970.0</td>\n",
       "      <td>08/22/2017 12:00:00 AM</td>\n",
       "      <td>Constructed</td>\n",
       "      <td>746627</td>\n",
       "      <td>35.760000</td>\n",
       "      <td>2100.0</td>\n",
       "      <td>51.0</td>\n",
       "      <td>0</td>\n",
       "      <td>0</td>\n",
       "      <td>5060190091</td>\n",
       "      <td>5060190091</td>\n",
       "      <td>Photogramm</td>\n",
       "      <td>{9F644794-F72C-4582-9E5E-B337E2B97068}</td>\n",
       "    </tr>\n",
       "    <tr>\n",
       "      <th>3</th>\n",
       "      <td>MULTIPOLYGON (((-73.96113466505085 40.57743931...</td>\n",
       "      <td>NaN</td>\n",
       "      <td>3245111</td>\n",
       "      <td>1928.0</td>\n",
       "      <td>08/22/2017 12:00:00 AM</td>\n",
       "      <td>Constructed</td>\n",
       "      <td>786626</td>\n",
       "      <td>37.500000</td>\n",
       "      <td>2100.0</td>\n",
       "      <td>6.0</td>\n",
       "      <td>0</td>\n",
       "      <td>0</td>\n",
       "      <td>3086910048</td>\n",
       "      <td>3086910048</td>\n",
       "      <td>Photogramm</td>\n",
       "      <td>{F916B22D-E25B-44AE-9FA9-2A51191B9CDF}</td>\n",
       "    </tr>\n",
       "    <tr>\n",
       "      <th>4</th>\n",
       "      <td>MULTIPOLYGON (((-73.75421559146166 40.75591276...</td>\n",
       "      <td>NaN</td>\n",
       "      <td>4161096</td>\n",
       "      <td>1950.0</td>\n",
       "      <td>08/22/2017 12:00:00 AM</td>\n",
       "      <td>Constructed</td>\n",
       "      <td>746409</td>\n",
       "      <td>18.015113</td>\n",
       "      <td>2100.0</td>\n",
       "      <td>93.0</td>\n",
       "      <td>0</td>\n",
       "      <td>0</td>\n",
       "      <td>4075020005</td>\n",
       "      <td>4075020005</td>\n",
       "      <td>Photogramm</td>\n",
       "      <td>{525F2C24-616B-4F29-98A3-8FEA5D4B1A7D}</td>\n",
       "    </tr>\n",
       "  </tbody>\n",
       "</table>\n",
       "</div>"
      ],
      "text/plain": [
       "                                            the_geom NAME      BIN  \\\n",
       "0  MULTIPOLYGON (((-73.96664570466969 40.62599676...  NaN  3170958   \n",
       "1  MULTIPOLYGON (((-74.16790202462265 40.63936048...  NaN  5028452   \n",
       "2  MULTIPOLYGON (((-74.19510813278613 40.55610681...  NaN  5078368   \n",
       "3  MULTIPOLYGON (((-73.96113466505085 40.57743931...  NaN  3245111   \n",
       "4  MULTIPOLYGON (((-73.75421559146166 40.75591276...  NaN  4161096   \n",
       "\n",
       "   CNSTRCT_YR              LSTMODDATE   LSTSTATYPE  DOITT_ID  HEIGHTROOF  \\\n",
       "0      1925.0  08/22/2017 12:00:00 AM  Constructed     96807   29.749853   \n",
       "1      1965.0  08/22/2017 12:00:00 AM  Constructed    326368   22.630000   \n",
       "2      1970.0  08/22/2017 12:00:00 AM  Constructed    746627   35.760000   \n",
       "3      1928.0  08/22/2017 12:00:00 AM  Constructed    786626   37.500000   \n",
       "4      1950.0  08/22/2017 12:00:00 AM  Constructed    746409   18.015113   \n",
       "\n",
       "   FEAT_CODE  GROUNDELEV  SHAPE_AREA  SHAPE_LEN    BASE_BBL  MPLUTO_BBL  \\\n",
       "0     2100.0        40.0           0          0  3065220021  3065220021   \n",
       "1     2100.0        39.0           0          0  5012640036  5012640036   \n",
       "2     2100.0        51.0           0          0  5060190091  5060190091   \n",
       "3     2100.0         6.0           0          0  3086910048  3086910048   \n",
       "4     2100.0        93.0           0          0  4075020005  4075020005   \n",
       "\n",
       "   GEOMSOURCE                                GLOBALID  \n",
       "0  Photogramm  {31298F86-3088-4F53-B3DB-71A9EFA6FA1F}  \n",
       "1  Photogramm  {F5F8CDA5-69E2-46F8-8F69-BA95C025B520}  \n",
       "2  Photogramm  {9F644794-F72C-4582-9E5E-B337E2B97068}  \n",
       "3  Photogramm  {F916B22D-E25B-44AE-9FA9-2A51191B9CDF}  \n",
       "4  Photogramm  {525F2C24-616B-4F29-98A3-8FEA5D4B1A7D}  "
      ]
     },
     "execution_count": 3,
     "metadata": {},
     "output_type": "execute_result"
    }
   ],
   "source": [
    "# reading in data as a pandas dataframe df\n",
    "url = 'https://data.cityofnewyork.us/api/views/qb5r-6dgf/rows.csv?accessType=DOWNLOAD'\n",
    "df = pd.read_csv(url)\n",
    "\n",
    "# shape of data (rows, columns)\n",
    "print(df.shape)\n",
    "df.head()"
   ]
  },
  {
   "cell_type": "code",
   "execution_count": 4,
   "id": "prostate-summer",
   "metadata": {},
   "outputs": [
    {
     "data": {
      "text/plain": [
       "pandas.core.frame.DataFrame"
      ]
     },
     "execution_count": 4,
     "metadata": {},
     "output_type": "execute_result"
    }
   ],
   "source": [
    "# the object's type\n",
    "type(df)"
   ]
  },
  {
   "cell_type": "code",
   "execution_count": 5,
   "id": "saved-glenn",
   "metadata": {},
   "outputs": [
    {
     "name": "stdout",
     "output_type": "stream",
     "text": [
      "<class 'pandas.core.frame.DataFrame'>\n",
      "RangeIndex: 1084210 entries, 0 to 1084209\n",
      "Data columns (total 16 columns):\n",
      " #   Column      Non-Null Count    Dtype  \n",
      "---  ------      --------------    -----  \n",
      " 0   the_geom    1084210 non-null  object \n",
      " 1   NAME        1935 non-null     object \n",
      " 2   BIN         1084210 non-null  int64  \n",
      " 3   CNSTRCT_YR  1073454 non-null  float64\n",
      " 4   LSTMODDATE  1084210 non-null  object \n",
      " 5   LSTSTATYPE  1083927 non-null  object \n",
      " 6   DOITT_ID    1084210 non-null  int64  \n",
      " 7   HEIGHTROOF  1081527 non-null  float64\n",
      " 8   FEAT_CODE   1084200 non-null  float64\n",
      " 9   GROUNDELEV  1083669 non-null  float64\n",
      " 10  SHAPE_AREA  1084210 non-null  int64  \n",
      " 11  SHAPE_LEN   1084210 non-null  int64  \n",
      " 12  BASE_BBL    1084210 non-null  int64  \n",
      " 13  MPLUTO_BBL  1084210 non-null  int64  \n",
      " 14  GEOMSOURCE  1083948 non-null  object \n",
      " 15  GLOBALID    1084210 non-null  object \n",
      "dtypes: float64(4), int64(6), object(6)\n",
      "memory usage: 132.3+ MB\n"
     ]
    }
   ],
   "source": [
    "# printing the column names, non-null counts, and data types of our columns\n",
    "df.info()"
   ]
  },
  {
   "cell_type": "code",
   "execution_count": 6,
   "id": "affected-gallery",
   "metadata": {},
   "outputs": [
    {
     "data": {
      "text/plain": [
       "True"
      ]
     },
     "execution_count": 6,
     "metadata": {},
     "output_type": "execute_result"
    }
   ],
   "source": [
    "# printing True/False if column is unique on our unique key (DOITT_ID)\n",
    "df['DOITT_ID'].is_unique"
   ]
  },
  {
   "cell_type": "code",
   "execution_count": 7,
   "id": "legal-dylan",
   "metadata": {},
   "outputs": [
    {
     "data": {
      "text/html": [
       "<div>\n",
       "<style scoped>\n",
       "    .dataframe tbody tr th:only-of-type {\n",
       "        vertical-align: middle;\n",
       "    }\n",
       "\n",
       "    .dataframe tbody tr th {\n",
       "        vertical-align: top;\n",
       "    }\n",
       "\n",
       "    .dataframe thead th {\n",
       "        text-align: right;\n",
       "    }\n",
       "</style>\n",
       "<table border=\"1\" class=\"dataframe\">\n",
       "  <thead>\n",
       "    <tr style=\"text-align: right;\">\n",
       "      <th></th>\n",
       "      <th>BIN</th>\n",
       "      <th>CNSTRCT_YR</th>\n",
       "      <th>DOITT_ID</th>\n",
       "      <th>HEIGHTROOF</th>\n",
       "      <th>FEAT_CODE</th>\n",
       "      <th>GROUNDELEV</th>\n",
       "      <th>SHAPE_AREA</th>\n",
       "      <th>SHAPE_LEN</th>\n",
       "      <th>BASE_BBL</th>\n",
       "      <th>MPLUTO_BBL</th>\n",
       "    </tr>\n",
       "  </thead>\n",
       "  <tbody>\n",
       "    <tr>\n",
       "      <th>count</th>\n",
       "      <td>1.084210e+06</td>\n",
       "      <td>1.073454e+06</td>\n",
       "      <td>1.084210e+06</td>\n",
       "      <td>1.081527e+06</td>\n",
       "      <td>1.084200e+06</td>\n",
       "      <td>1.083669e+06</td>\n",
       "      <td>1084210.0</td>\n",
       "      <td>1084210.0</td>\n",
       "      <td>1.084210e+06</td>\n",
       "      <td>1.084210e+06</td>\n",
       "    </tr>\n",
       "    <tr>\n",
       "      <th>mean</th>\n",
       "      <td>3.712300e+06</td>\n",
       "      <td>1.939462e+03</td>\n",
       "      <td>5.940814e+05</td>\n",
       "      <td>2.765133e+01</td>\n",
       "      <td>2.696752e+03</td>\n",
       "      <td>5.510868e+01</td>\n",
       "      <td>0.0</td>\n",
       "      <td>0.0</td>\n",
       "      <td>3.563611e+09</td>\n",
       "      <td>3.563597e+09</td>\n",
       "    </tr>\n",
       "    <tr>\n",
       "      <th>std</th>\n",
       "      <td>1.026688e+06</td>\n",
       "      <td>2.928708e+01</td>\n",
       "      <td>3.615421e+05</td>\n",
       "      <td>2.165408e+01</td>\n",
       "      <td>1.201016e+03</td>\n",
       "      <td>4.152489e+01</td>\n",
       "      <td>0.0</td>\n",
       "      <td>0.0</td>\n",
       "      <td>9.859113e+08</td>\n",
       "      <td>9.859455e+08</td>\n",
       "    </tr>\n",
       "    <tr>\n",
       "      <th>min</th>\n",
       "      <td>1.000002e+06</td>\n",
       "      <td>1.652000e+03</td>\n",
       "      <td>1.000000e+00</td>\n",
       "      <td>0.000000e+00</td>\n",
       "      <td>0.000000e+00</td>\n",
       "      <td>-1.600000e+01</td>\n",
       "      <td>0.0</td>\n",
       "      <td>0.0</td>\n",
       "      <td>2.025280e+08</td>\n",
       "      <td>3.035390e+05</td>\n",
       "    </tr>\n",
       "    <tr>\n",
       "      <th>25%</th>\n",
       "      <td>3.129456e+06</td>\n",
       "      <td>1.920000e+03</td>\n",
       "      <td>2.878222e+05</td>\n",
       "      <td>1.845000e+01</td>\n",
       "      <td>2.100000e+03</td>\n",
       "      <td>2.500000e+01</td>\n",
       "      <td>0.0</td>\n",
       "      <td>0.0</td>\n",
       "      <td>3.043320e+09</td>\n",
       "      <td>3.043320e+09</td>\n",
       "    </tr>\n",
       "    <tr>\n",
       "      <th>50%</th>\n",
       "      <td>4.067628e+06</td>\n",
       "      <td>1.930000e+03</td>\n",
       "      <td>5.758035e+05</td>\n",
       "      <td>2.611000e+01</td>\n",
       "      <td>2.100000e+03</td>\n",
       "      <td>4.600000e+01</td>\n",
       "      <td>0.0</td>\n",
       "      <td>0.0</td>\n",
       "      <td>4.019500e+09</td>\n",
       "      <td>4.019500e+09</td>\n",
       "    </tr>\n",
       "    <tr>\n",
       "      <th>75%</th>\n",
       "      <td>4.483114e+06</td>\n",
       "      <td>1.955000e+03</td>\n",
       "      <td>8.655578e+05</td>\n",
       "      <td>3.111342e+01</td>\n",
       "      <td>2.100000e+03</td>\n",
       "      <td>7.400000e+01</td>\n",
       "      <td>0.0</td>\n",
       "      <td>0.0</td>\n",
       "      <td>4.106960e+09</td>\n",
       "      <td>4.106960e+09</td>\n",
       "    </tr>\n",
       "    <tr>\n",
       "      <th>max</th>\n",
       "      <td>5.799523e+06</td>\n",
       "      <td>2.023000e+03</td>\n",
       "      <td>1.299836e+06</td>\n",
       "      <td>1.550000e+03</td>\n",
       "      <td>5.110000e+03</td>\n",
       "      <td>5.560000e+02</td>\n",
       "      <td>0.0</td>\n",
       "      <td>0.0</td>\n",
       "      <td>6.000000e+09</td>\n",
       "      <td>6.000000e+09</td>\n",
       "    </tr>\n",
       "  </tbody>\n",
       "</table>\n",
       "</div>"
      ],
      "text/plain": [
       "                BIN    CNSTRCT_YR      DOITT_ID    HEIGHTROOF     FEAT_CODE  \\\n",
       "count  1.084210e+06  1.073454e+06  1.084210e+06  1.081527e+06  1.084200e+06   \n",
       "mean   3.712300e+06  1.939462e+03  5.940814e+05  2.765133e+01  2.696752e+03   \n",
       "std    1.026688e+06  2.928708e+01  3.615421e+05  2.165408e+01  1.201016e+03   \n",
       "min    1.000002e+06  1.652000e+03  1.000000e+00  0.000000e+00  0.000000e+00   \n",
       "25%    3.129456e+06  1.920000e+03  2.878222e+05  1.845000e+01  2.100000e+03   \n",
       "50%    4.067628e+06  1.930000e+03  5.758035e+05  2.611000e+01  2.100000e+03   \n",
       "75%    4.483114e+06  1.955000e+03  8.655578e+05  3.111342e+01  2.100000e+03   \n",
       "max    5.799523e+06  2.023000e+03  1.299836e+06  1.550000e+03  5.110000e+03   \n",
       "\n",
       "         GROUNDELEV  SHAPE_AREA  SHAPE_LEN      BASE_BBL    MPLUTO_BBL  \n",
       "count  1.083669e+06   1084210.0  1084210.0  1.084210e+06  1.084210e+06  \n",
       "mean   5.510868e+01         0.0        0.0  3.563611e+09  3.563597e+09  \n",
       "std    4.152489e+01         0.0        0.0  9.859113e+08  9.859455e+08  \n",
       "min   -1.600000e+01         0.0        0.0  2.025280e+08  3.035390e+05  \n",
       "25%    2.500000e+01         0.0        0.0  3.043320e+09  3.043320e+09  \n",
       "50%    4.600000e+01         0.0        0.0  4.019500e+09  4.019500e+09  \n",
       "75%    7.400000e+01         0.0        0.0  4.106960e+09  4.106960e+09  \n",
       "max    5.560000e+02         0.0        0.0  6.000000e+09  6.000000e+09  "
      ]
     },
     "execution_count": 7,
     "metadata": {},
     "output_type": "execute_result"
    }
   ],
   "source": [
    "# printing descriptive statistics of our numeric columns in our data\n",
    "df.describe()"
   ]
  },
  {
   "cell_type": "code",
   "execution_count": 8,
   "id": "german-version",
   "metadata": {},
   "outputs": [
    {
     "data": {
      "text/html": [
       "<div>\n",
       "<style scoped>\n",
       "    .dataframe tbody tr th:only-of-type {\n",
       "        vertical-align: middle;\n",
       "    }\n",
       "\n",
       "    .dataframe tbody tr th {\n",
       "        vertical-align: top;\n",
       "    }\n",
       "\n",
       "    .dataframe thead th {\n",
       "        text-align: right;\n",
       "    }\n",
       "</style>\n",
       "<table border=\"1\" class=\"dataframe\">\n",
       "  <thead>\n",
       "    <tr style=\"text-align: right;\">\n",
       "      <th></th>\n",
       "      <th>the_geom</th>\n",
       "      <th>NAME</th>\n",
       "      <th>LSTMODDATE</th>\n",
       "      <th>LSTSTATYPE</th>\n",
       "      <th>GEOMSOURCE</th>\n",
       "      <th>GLOBALID</th>\n",
       "    </tr>\n",
       "  </thead>\n",
       "  <tbody>\n",
       "    <tr>\n",
       "      <th>count</th>\n",
       "      <td>1084210</td>\n",
       "      <td>1935</td>\n",
       "      <td>1084210</td>\n",
       "      <td>1083927</td>\n",
       "      <td>1083948</td>\n",
       "      <td>1084210</td>\n",
       "    </tr>\n",
       "    <tr>\n",
       "      <th>unique</th>\n",
       "      <td>1084210</td>\n",
       "      <td>1566</td>\n",
       "      <td>1584</td>\n",
       "      <td>12</td>\n",
       "      <td>3</td>\n",
       "      <td>1084210</td>\n",
       "    </tr>\n",
       "    <tr>\n",
       "      <th>top</th>\n",
       "      <td>MULTIPOLYGON (((-73.96664570466969 40.62599676...</td>\n",
       "      <td>Adler Place Town Houses</td>\n",
       "      <td>08/22/2017 12:00:00 AM</td>\n",
       "      <td>Constructed</td>\n",
       "      <td>Photogramm</td>\n",
       "      <td>{31298F86-3088-4F53-B3DB-71A9EFA6FA1F}</td>\n",
       "    </tr>\n",
       "    <tr>\n",
       "      <th>freq</th>\n",
       "      <td>1</td>\n",
       "      <td>52</td>\n",
       "      <td>802472</td>\n",
       "      <td>1081543</td>\n",
       "      <td>1014522</td>\n",
       "      <td>1</td>\n",
       "    </tr>\n",
       "  </tbody>\n",
       "</table>\n",
       "</div>"
      ],
      "text/plain": [
       "                                                 the_geom  \\\n",
       "count                                             1084210   \n",
       "unique                                            1084210   \n",
       "top     MULTIPOLYGON (((-73.96664570466969 40.62599676...   \n",
       "freq                                                    1   \n",
       "\n",
       "                           NAME              LSTMODDATE   LSTSTATYPE  \\\n",
       "count                      1935                 1084210      1083927   \n",
       "unique                     1566                    1584           12   \n",
       "top     Adler Place Town Houses  08/22/2017 12:00:00 AM  Constructed   \n",
       "freq                         52                  802472      1081543   \n",
       "\n",
       "        GEOMSOURCE                                GLOBALID  \n",
       "count      1083948                                 1084210  \n",
       "unique           3                                 1084210  \n",
       "top     Photogramm  {31298F86-3088-4F53-B3DB-71A9EFA6FA1F}  \n",
       "freq       1014522                                       1  "
      ]
     },
     "execution_count": 8,
     "metadata": {},
     "output_type": "execute_result"
    }
   ],
   "source": [
    "df.describe(include=['O'])"
   ]
  },
  {
   "cell_type": "code",
   "execution_count": 9,
   "id": "intermediate-activity",
   "metadata": {},
   "outputs": [
    {
     "data": {
      "text/plain": [
       "the_geom            0\n",
       "NAME          1082275\n",
       "BIN                 0\n",
       "CNSTRCT_YR      10756\n",
       "LSTMODDATE          0\n",
       "LSTSTATYPE        283\n",
       "DOITT_ID            0\n",
       "HEIGHTROOF       2683\n",
       "FEAT_CODE          10\n",
       "GROUNDELEV        541\n",
       "SHAPE_AREA          0\n",
       "SHAPE_LEN           0\n",
       "BASE_BBL            0\n",
       "MPLUTO_BBL          0\n",
       "GEOMSOURCE        262\n",
       "GLOBALID            0\n",
       "dtype: int64"
      ]
     },
     "execution_count": 9,
     "metadata": {},
     "output_type": "execute_result"
    }
   ],
   "source": [
    "# return a boolean same-sized object indicating if any of the values are NA\n",
    "df.isnull().sum()"
   ]
  },
  {
   "cell_type": "code",
   "execution_count": 10,
   "id": "extraordinary-python",
   "metadata": {},
   "outputs": [
    {
     "data": {
      "text/plain": [
       "1096810"
      ]
     },
     "execution_count": 10,
     "metadata": {},
     "output_type": "execute_result"
    }
   ],
   "source": [
    "# printing the total amount of null/na values in our data\n",
    "df.isnull().sum().sum()"
   ]
  },
  {
   "cell_type": "code",
   "execution_count": 11,
   "id": "comparative-bulgaria",
   "metadata": {},
   "outputs": [
    {
     "data": {
      "text/plain": [
       "pandas.core.series.Series"
      ]
     },
     "execution_count": 11,
     "metadata": {},
     "output_type": "execute_result"
    }
   ],
   "source": [
    "# printing the object's type\n",
    "type(df['CNSTRCT_YR'])"
   ]
  },
  {
   "cell_type": "code",
   "execution_count": 12,
   "id": "activated-eugene",
   "metadata": {},
   "outputs": [
    {
     "data": {
      "text/plain": [
       "0          1925.0\n",
       "1          1965.0\n",
       "2          1970.0\n",
       "3          1928.0\n",
       "4          1950.0\n",
       "            ...  \n",
       "1084205    2021.0\n",
       "1084206    2023.0\n",
       "1084207    2023.0\n",
       "1084208    2022.0\n",
       "1084209    2022.0\n",
       "Name: CNSTRCT_YR, Length: 1084210, dtype: float64"
      ]
     },
     "execution_count": 12,
     "metadata": {},
     "output_type": "execute_result"
    }
   ],
   "source": [
    "# returning a series of the 'CNSTRCT_YR' column\n",
    "df[\"CNSTRCT_YR\"]"
   ]
  },
  {
   "cell_type": "code",
   "execution_count": 13,
   "id": "three-feeding",
   "metadata": {},
   "outputs": [
    {
     "data": {
      "text/plain": [
       "count    1.073454e+06\n",
       "mean     1.939462e+03\n",
       "std      2.928708e+01\n",
       "min      1.652000e+03\n",
       "25%      1.920000e+03\n",
       "50%      1.930000e+03\n",
       "75%      1.955000e+03\n",
       "max      2.023000e+03\n",
       "Name: CNSTRCT_YR, dtype: float64"
      ]
     },
     "execution_count": 13,
     "metadata": {},
     "output_type": "execute_result"
    }
   ],
   "source": [
    "# returning a dataframe of the 'CNSTRCT_YR' column\n",
    "df[\"CNSTRCT_YR\"].describe()"
   ]
  },
  {
   "cell_type": "code",
   "execution_count": 14,
   "id": "overall-norman",
   "metadata": {},
   "outputs": [
    {
     "data": {
      "text/plain": [
       "<AxesSubplot:>"
      ]
     },
     "execution_count": 14,
     "metadata": {},
     "output_type": "execute_result"
    },
    {
     "data": {
      "image/png": "[encoded data removed]",
      "text/plain": [
       "<Figure size 432x288 with 1 Axes>"
      ]
     },
     "metadata": {
      "needs_background": "light"
     },
     "output_type": "display_data"
    }
   ],
   "source": [
    "# returning a dataframe of the 'CNSTRCT_YR' column\n",
    "df[\"CNSTRCT_YR\"].hist()"
   ]
  },
  {
   "cell_type": "code",
   "execution_count": 15,
   "id": "permanent-surgeon",
   "metadata": {},
   "outputs": [
    {
     "data": {
      "text/plain": [
       "<AxesSubplot:>"
      ]
     },
     "execution_count": 15,
     "metadata": {},
     "output_type": "execute_result"
    },
    {
     "data": {
      "image/png": "[encoded data removed]",
      "text/plain": [
       "<Figure size 432x288 with 1 Axes>"
      ]
     },
     "metadata": {
      "needs_background": "light"
     },
     "output_type": "display_data"
    }
   ],
   "source": [
    "# returning a dataframe of the 'CNSTRCT_YR' column\n",
    "df[\"CNSTRCT_YR\"].plot.box()"
   ]
  },
  {
   "cell_type": "code",
   "execution_count": 16,
   "id": "laughing-frank",
   "metadata": {},
   "outputs": [
    {
     "data": {
      "text/html": [
       "<div>\n",
       "<style scoped>\n",
       "    .dataframe tbody tr th:only-of-type {\n",
       "        vertical-align: middle;\n",
       "    }\n",
       "\n",
       "    .dataframe tbody tr th {\n",
       "        vertical-align: top;\n",
       "    }\n",
       "\n",
       "    .dataframe thead th {\n",
       "        text-align: right;\n",
       "    }\n",
       "</style>\n",
       "<table border=\"1\" class=\"dataframe\">\n",
       "  <thead>\n",
       "    <tr style=\"text-align: right;\">\n",
       "      <th></th>\n",
       "      <th>BIN</th>\n",
       "      <th>CNSTRCT_YR</th>\n",
       "      <th>DOITT_ID</th>\n",
       "      <th>HEIGHTROOF</th>\n",
       "      <th>FEAT_CODE</th>\n",
       "      <th>GROUNDELEV</th>\n",
       "      <th>SHAPE_AREA</th>\n",
       "      <th>SHAPE_LEN</th>\n",
       "      <th>BASE_BBL</th>\n",
       "      <th>MPLUTO_BBL</th>\n",
       "    </tr>\n",
       "  </thead>\n",
       "  <tbody>\n",
       "    <tr>\n",
       "      <th>count</th>\n",
       "      <td>4.285400e+04</td>\n",
       "      <td>42854.000000</td>\n",
       "      <td>4.285400e+04</td>\n",
       "      <td>42849.000000</td>\n",
       "      <td>42854.000000</td>\n",
       "      <td>42853.000000</td>\n",
       "      <td>42854.0</td>\n",
       "      <td>42854.0</td>\n",
       "      <td>4.285400e+04</td>\n",
       "      <td>4.285400e+04</td>\n",
       "    </tr>\n",
       "    <tr>\n",
       "      <th>mean</th>\n",
       "      <td>2.717237e+06</td>\n",
       "      <td>1887.993373</td>\n",
       "      <td>4.611965e+05</td>\n",
       "      <td>39.143583</td>\n",
       "      <td>2277.535679</td>\n",
       "      <td>58.210020</td>\n",
       "      <td>0.0</td>\n",
       "      <td>0.0</td>\n",
       "      <td>2.672508e+09</td>\n",
       "      <td>2.672508e+09</td>\n",
       "    </tr>\n",
       "    <tr>\n",
       "      <th>std</th>\n",
       "      <td>1.087449e+06</td>\n",
       "      <td>18.397615</td>\n",
       "      <td>2.810470e+05</td>\n",
       "      <td>16.252248</td>\n",
       "      <td>709.207534</td>\n",
       "      <td>34.452054</td>\n",
       "      <td>0.0</td>\n",
       "      <td>0.0</td>\n",
       "      <td>1.071990e+09</td>\n",
       "      <td>1.071990e+09</td>\n",
       "    </tr>\n",
       "    <tr>\n",
       "      <th>min</th>\n",
       "      <td>1.000008e+06</td>\n",
       "      <td>1652.000000</td>\n",
       "      <td>5.000000e+00</td>\n",
       "      <td>3.400000</td>\n",
       "      <td>1004.000000</td>\n",
       "      <td>0.000000</td>\n",
       "      <td>0.0</td>\n",
       "      <td>0.0</td>\n",
       "      <td>1.000070e+09</td>\n",
       "      <td>1.000070e+09</td>\n",
       "    </tr>\n",
       "    <tr>\n",
       "      <th>25%</th>\n",
       "      <td>2.016725e+06</td>\n",
       "      <td>1884.000000</td>\n",
       "      <td>2.275308e+05</td>\n",
       "      <td>30.566913</td>\n",
       "      <td>2100.000000</td>\n",
       "      <td>31.000000</td>\n",
       "      <td>0.0</td>\n",
       "      <td>0.0</td>\n",
       "      <td>2.032320e+09</td>\n",
       "      <td>2.032320e+09</td>\n",
       "    </tr>\n",
       "    <tr>\n",
       "      <th>50%</th>\n",
       "      <td>3.032312e+06</td>\n",
       "      <td>1899.000000</td>\n",
       "      <td>4.493140e+05</td>\n",
       "      <td>37.526262</td>\n",
       "      <td>2100.000000</td>\n",
       "      <td>53.000000</td>\n",
       "      <td>0.0</td>\n",
       "      <td>0.0</td>\n",
       "      <td>3.012150e+09</td>\n",
       "      <td>3.012150e+09</td>\n",
       "    </tr>\n",
       "    <tr>\n",
       "      <th>75%</th>\n",
       "      <td>3.064883e+06</td>\n",
       "      <td>1899.000000</td>\n",
       "      <td>6.764982e+05</td>\n",
       "      <td>44.720000</td>\n",
       "      <td>2100.000000</td>\n",
       "      <td>77.000000</td>\n",
       "      <td>0.0</td>\n",
       "      <td>0.0</td>\n",
       "      <td>3.022140e+09</td>\n",
       "      <td>3.022140e+09</td>\n",
       "    </tr>\n",
       "    <tr>\n",
       "      <th>max</th>\n",
       "      <td>5.169977e+06</td>\n",
       "      <td>1899.000000</td>\n",
       "      <td>1.299744e+06</td>\n",
       "      <td>473.970278</td>\n",
       "      <td>5110.000000</td>\n",
       "      <td>340.000000</td>\n",
       "      <td>0.0</td>\n",
       "      <td>0.0</td>\n",
       "      <td>5.080460e+09</td>\n",
       "      <td>5.080460e+09</td>\n",
       "    </tr>\n",
       "  </tbody>\n",
       "</table>\n",
       "</div>"
      ],
      "text/plain": [
       "                BIN    CNSTRCT_YR      DOITT_ID    HEIGHTROOF     FEAT_CODE  \\\n",
       "count  4.285400e+04  42854.000000  4.285400e+04  42849.000000  42854.000000   \n",
       "mean   2.717237e+06   1887.993373  4.611965e+05     39.143583   2277.535679   \n",
       "std    1.087449e+06     18.397615  2.810470e+05     16.252248    709.207534   \n",
       "min    1.000008e+06   1652.000000  5.000000e+00      3.400000   1004.000000   \n",
       "25%    2.016725e+06   1884.000000  2.275308e+05     30.566913   2100.000000   \n",
       "50%    3.032312e+06   1899.000000  4.493140e+05     37.526262   2100.000000   \n",
       "75%    3.064883e+06   1899.000000  6.764982e+05     44.720000   2100.000000   \n",
       "max    5.169977e+06   1899.000000  1.299744e+06    473.970278   5110.000000   \n",
       "\n",
       "         GROUNDELEV  SHAPE_AREA  SHAPE_LEN      BASE_BBL    MPLUTO_BBL  \n",
       "count  42853.000000     42854.0    42854.0  4.285400e+04  4.285400e+04  \n",
       "mean      58.210020         0.0        0.0  2.672508e+09  2.672508e+09  \n",
       "std       34.452054         0.0        0.0  1.071990e+09  1.071990e+09  \n",
       "min        0.000000         0.0        0.0  1.000070e+09  1.000070e+09  \n",
       "25%       31.000000         0.0        0.0  2.032320e+09  2.032320e+09  \n",
       "50%       53.000000         0.0        0.0  3.012150e+09  3.012150e+09  \n",
       "75%       77.000000         0.0        0.0  3.022140e+09  3.022140e+09  \n",
       "max      340.000000         0.0        0.0  5.080460e+09  5.080460e+09  "
      ]
     },
     "execution_count": 16,
     "metadata": {},
     "output_type": "execute_result"
    }
   ],
   "source": [
    "df.loc[df[\"CNSTRCT_YR\"] < 1900].describe()"
   ]
  },
  {
   "cell_type": "code",
   "execution_count": 17,
   "id": "marine-wildlife",
   "metadata": {},
   "outputs": [
    {
     "data": {
      "text/html": [
       "<div>\n",
       "<style scoped>\n",
       "    .dataframe tbody tr th:only-of-type {\n",
       "        vertical-align: middle;\n",
       "    }\n",
       "\n",
       "    .dataframe tbody tr th {\n",
       "        vertical-align: top;\n",
       "    }\n",
       "\n",
       "    .dataframe thead th {\n",
       "        text-align: right;\n",
       "    }\n",
       "</style>\n",
       "<table border=\"1\" class=\"dataframe\">\n",
       "  <thead>\n",
       "    <tr style=\"text-align: right;\">\n",
       "      <th></th>\n",
       "      <th>the_geom</th>\n",
       "      <th>NAME</th>\n",
       "      <th>BIN</th>\n",
       "      <th>CNSTRCT_YR</th>\n",
       "      <th>LSTMODDATE</th>\n",
       "      <th>LSTSTATYPE</th>\n",
       "      <th>DOITT_ID</th>\n",
       "      <th>HEIGHTROOF</th>\n",
       "      <th>FEAT_CODE</th>\n",
       "      <th>GROUNDELEV</th>\n",
       "      <th>SHAPE_AREA</th>\n",
       "      <th>SHAPE_LEN</th>\n",
       "      <th>BASE_BBL</th>\n",
       "      <th>MPLUTO_BBL</th>\n",
       "      <th>GEOMSOURCE</th>\n",
       "      <th>GLOBALID</th>\n",
       "    </tr>\n",
       "  </thead>\n",
       "  <tbody>\n",
       "    <tr>\n",
       "      <th>0</th>\n",
       "      <td>MULTIPOLYGON (((-73.96239465160933 40.64332930...</td>\n",
       "      <td>NaN</td>\n",
       "      <td>3417314</td>\n",
       "      <td>1899.0</td>\n",
       "      <td>08/17/2017 12:00:00 AM</td>\n",
       "      <td>Constructed</td>\n",
       "      <td>1191341</td>\n",
       "      <td>13.457282</td>\n",
       "      <td>5110.0</td>\n",
       "      <td>34.0</td>\n",
       "      <td>0</td>\n",
       "      <td>0</td>\n",
       "      <td>3051480051</td>\n",
       "      <td>3051480051</td>\n",
       "      <td>Photogramm</td>\n",
       "      <td>{97F42C6B-990E-48AF-8C08-1D3E92B57B38}</td>\n",
       "    </tr>\n",
       "    <tr>\n",
       "      <th>1</th>\n",
       "      <td>MULTIPOLYGON (((-74.14983332006722 40.55011975...</td>\n",
       "      <td>NaN</td>\n",
       "      <td>5065718</td>\n",
       "      <td>1899.0</td>\n",
       "      <td>08/22/2017 12:00:00 AM</td>\n",
       "      <td>Constructed</td>\n",
       "      <td>290792</td>\n",
       "      <td>28.680000</td>\n",
       "      <td>2100.0</td>\n",
       "      <td>73.0</td>\n",
       "      <td>0</td>\n",
       "      <td>0</td>\n",
       "      <td>5051430040</td>\n",
       "      <td>5051430040</td>\n",
       "      <td>Photogramm</td>\n",
       "      <td>{280360D8-DA85-464E-9EBD-58ADFC8B90E0}</td>\n",
       "    </tr>\n",
       "    <tr>\n",
       "      <th>2</th>\n",
       "      <td>MULTIPOLYGON (((-73.95541518712452 40.77167243...</td>\n",
       "      <td>NaN</td>\n",
       "      <td>1045196</td>\n",
       "      <td>1899.0</td>\n",
       "      <td>08/22/2017 12:00:00 AM</td>\n",
       "      <td>Constructed</td>\n",
       "      <td>562430</td>\n",
       "      <td>50.120000</td>\n",
       "      <td>2100.0</td>\n",
       "      <td>39.0</td>\n",
       "      <td>0</td>\n",
       "      <td>0</td>\n",
       "      <td>1014510146</td>\n",
       "      <td>1014510146</td>\n",
       "      <td>Photogramm</td>\n",
       "      <td>{6CCB3321-BF3C-44F5-92B8-9490198875D8}</td>\n",
       "    </tr>\n",
       "    <tr>\n",
       "      <th>3</th>\n",
       "      <td>MULTIPOLYGON (((-73.9630909105247 40.714212277...</td>\n",
       "      <td>NaN</td>\n",
       "      <td>3062926</td>\n",
       "      <td>1899.0</td>\n",
       "      <td>08/22/2017 12:00:00 AM</td>\n",
       "      <td>Constructed</td>\n",
       "      <td>663480</td>\n",
       "      <td>35.566775</td>\n",
       "      <td>2100.0</td>\n",
       "      <td>50.0</td>\n",
       "      <td>0</td>\n",
       "      <td>0</td>\n",
       "      <td>3024050006</td>\n",
       "      <td>3024050006</td>\n",
       "      <td>Photogramm</td>\n",
       "      <td>{8DC9D967-A94A-424E-B7B8-7D5C35417CA4}</td>\n",
       "    </tr>\n",
       "    <tr>\n",
       "      <th>4</th>\n",
       "      <td>MULTIPOLYGON (((-73.92745352676555 40.68188163...</td>\n",
       "      <td>NaN</td>\n",
       "      <td>3047568</td>\n",
       "      <td>1899.0</td>\n",
       "      <td>08/22/2017 12:00:00 AM</td>\n",
       "      <td>Constructed</td>\n",
       "      <td>615727</td>\n",
       "      <td>32.500000</td>\n",
       "      <td>2100.0</td>\n",
       "      <td>59.0</td>\n",
       "      <td>0</td>\n",
       "      <td>0</td>\n",
       "      <td>3016820024</td>\n",
       "      <td>3016820024</td>\n",
       "      <td>Photogramm</td>\n",
       "      <td>{DC6463F1-9301-427A-BF05-2B57777EDD9D}</td>\n",
       "    </tr>\n",
       "  </tbody>\n",
       "</table>\n",
       "</div>"
      ],
      "text/plain": [
       "                                            the_geom NAME      BIN  \\\n",
       "0  MULTIPOLYGON (((-73.96239465160933 40.64332930...  NaN  3417314   \n",
       "1  MULTIPOLYGON (((-74.14983332006722 40.55011975...  NaN  5065718   \n",
       "2  MULTIPOLYGON (((-73.95541518712452 40.77167243...  NaN  1045196   \n",
       "3  MULTIPOLYGON (((-73.9630909105247 40.714212277...  NaN  3062926   \n",
       "4  MULTIPOLYGON (((-73.92745352676555 40.68188163...  NaN  3047568   \n",
       "\n",
       "   CNSTRCT_YR              LSTMODDATE   LSTSTATYPE  DOITT_ID  HEIGHTROOF  \\\n",
       "0      1899.0  08/17/2017 12:00:00 AM  Constructed   1191341   13.457282   \n",
       "1      1899.0  08/22/2017 12:00:00 AM  Constructed    290792   28.680000   \n",
       "2      1899.0  08/22/2017 12:00:00 AM  Constructed    562430   50.120000   \n",
       "3      1899.0  08/22/2017 12:00:00 AM  Constructed    663480   35.566775   \n",
       "4      1899.0  08/22/2017 12:00:00 AM  Constructed    615727   32.500000   \n",
       "\n",
       "   FEAT_CODE  GROUNDELEV  SHAPE_AREA  SHAPE_LEN    BASE_BBL  MPLUTO_BBL  \\\n",
       "0     5110.0        34.0           0          0  3051480051  3051480051   \n",
       "1     2100.0        73.0           0          0  5051430040  5051430040   \n",
       "2     2100.0        39.0           0          0  1014510146  1014510146   \n",
       "3     2100.0        50.0           0          0  3024050006  3024050006   \n",
       "4     2100.0        59.0           0          0  3016820024  3016820024   \n",
       "\n",
       "   GEOMSOURCE                                GLOBALID  \n",
       "0  Photogramm  {97F42C6B-990E-48AF-8C08-1D3E92B57B38}  \n",
       "1  Photogramm  {280360D8-DA85-464E-9EBD-58ADFC8B90E0}  \n",
       "2  Photogramm  {6CCB3321-BF3C-44F5-92B8-9490198875D8}  \n",
       "3  Photogramm  {8DC9D967-A94A-424E-B7B8-7D5C35417CA4}  \n",
       "4  Photogramm  {DC6463F1-9301-427A-BF05-2B57777EDD9D}  "
      ]
     },
     "execution_count": 17,
     "metadata": {},
     "output_type": "execute_result"
    }
   ],
   "source": [
    "bldgs_before_1900 = (\n",
    "    df\n",
    "    .loc[df[\"CNSTRCT_YR\"] < 1900]\n",
    "    .reset_index(drop=True)\n",
    ")\n",
    "\n",
    "bldgs_before_1900.head()"
   ]
  },
  {
   "cell_type": "code",
   "execution_count": 18,
   "id": "anticipated-contributor",
   "metadata": {},
   "outputs": [
    {
     "data": {
      "text/plain": [
       "(42854, 16)"
      ]
     },
     "execution_count": 18,
     "metadata": {},
     "output_type": "execute_result"
    }
   ],
   "source": [
    "bldgs_before_1900.shape"
   ]
  },
  {
   "cell_type": "code",
   "execution_count": 19,
   "id": "loved-allowance",
   "metadata": {},
   "outputs": [
    {
     "data": {
      "text/plain": [
       "count    42854.000000\n",
       "mean      1887.993373\n",
       "std         18.397615\n",
       "min       1652.000000\n",
       "25%       1884.000000\n",
       "50%       1899.000000\n",
       "75%       1899.000000\n",
       "max       1899.000000\n",
       "Name: CNSTRCT_YR, dtype: float64"
      ]
     },
     "execution_count": 19,
     "metadata": {},
     "output_type": "execute_result"
    }
   ],
   "source": [
    "bldgs_before_1900['CNSTRCT_YR'].describe()"
   ]
  },
  {
   "cell_type": "code",
   "execution_count": 20,
   "id": "reverse-indonesia",
   "metadata": {},
   "outputs": [
    {
     "data": {
      "text/plain": [
       "1899.0    23015\n",
       "1890.0     1164\n",
       "1889.0      816\n",
       "1891.0      736\n",
       "1892.0      729\n",
       "          ...  \n",
       "1789.0        1\n",
       "1680.0        1\n",
       "1690.0        1\n",
       "1719.0        1\n",
       "1735.0        1\n",
       "Name: CNSTRCT_YR, Length: 126, dtype: int64"
      ]
     },
     "execution_count": 20,
     "metadata": {},
     "output_type": "execute_result"
    }
   ],
   "source": [
    "bldgs_before_1900['CNSTRCT_YR'].value_counts()"
   ]
  },
  {
   "cell_type": "code",
   "execution_count": 21,
   "id": "stainless-healing",
   "metadata": {},
   "outputs": [
    {
     "data": {
      "text/plain": [
       "<AxesSubplot:>"
      ]
     },
     "execution_count": 21,
     "metadata": {},
     "output_type": "execute_result"
    },
    {
     "data": {
      "image/png": "[encoded data removed]",
      "text/plain": [
       "<Figure size 432x288 with 1 Axes>"
      ]
     },
     "metadata": {
      "needs_background": "light"
     },
     "output_type": "display_data"
    }
   ],
   "source": [
    "bldgs_before_1900['CNSTRCT_YR'].hist()"
   ]
  },
  {
   "cell_type": "code",
   "execution_count": 22,
   "id": "hired-despite",
   "metadata": {},
   "outputs": [
    {
     "data": {
      "text/plain": [
       "<AxesSubplot:>"
      ]
     },
     "execution_count": 22,
     "metadata": {},
     "output_type": "execute_result"
    },
    {
     "data": {
      "image/png": "[encoded data removed]",
      "text/plain": [
       "<Figure size 432x288 with 1 Axes>"
      ]
     },
     "metadata": {
      "needs_background": "light"
     },
     "output_type": "display_data"
    }
   ],
   "source": [
    "bldgs_before_1900['CNSTRCT_YR'].plot.box()"
   ]
  },
  {
   "cell_type": "code",
   "execution_count": 23,
   "id": "dental-collapse",
   "metadata": {},
   "outputs": [
    {
     "name": "stdout",
     "output_type": "stream",
     "text": [
      "README.md                      examples.ipynb\r\n",
      "bldgs-before-1900.csv          mybinder-data-wrangling.ipynb\r\n"
     ]
    }
   ],
   "source": [
    "%ls"
   ]
  },
  {
   "cell_type": "code",
   "execution_count": 24,
   "id": "active-piano",
   "metadata": {},
   "outputs": [],
   "source": [
    "bldgs_before_1900.to_csv('bldgs-before-1900.csv', index=False)"
   ]
  },
  {
   "cell_type": "code",
   "execution_count": 25,
   "id": "unable-typing",
   "metadata": {},
   "outputs": [
    {
     "name": "stdout",
     "output_type": "stream",
     "text": [
      "README.md                      examples.ipynb\r\n",
      "bldgs-before-1900.csv          mybinder-data-wrangling.ipynb\r\n"
     ]
    }
   ],
   "source": [
    "%ls"
   ]
  },
  {
   "cell_type": "code",
   "execution_count": null,
   "id": "brown-growing",
   "metadata": {},
   "outputs": [],
   "source": []
  }
 ],
 "metadata": {
  "kernelspec": {
   "display_name": "Python 3 (ipykernel)",
   "language": "python",
   "name": "python3"
  },
  "language_info": {
   "codemirror_mode": {
    "name": "ipython",
    "version": 3
   },
   "file_extension": ".py",
   "mimetype": "text/x-python",
   "name": "python",
   "nbconvert_exporter": "python",
   "pygments_lexer": "ipython3",
   "version": "3.8.13"
  }
 },
 "nbformat": 4,
 "nbformat_minor": 5
}
